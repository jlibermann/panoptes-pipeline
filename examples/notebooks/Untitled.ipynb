{
 "cells": [
  {
   "cell_type": "code",
   "execution_count": 1,
   "metadata": {},
   "outputs": [],
   "source": [
    "%load_ext autotime"
   ]
  },
  {
   "cell_type": "code",
   "execution_count": 2,
   "metadata": {},
   "outputs": [
    {
     "name": "stdout",
     "output_type": "stream",
     "text": [
      "time: 1.83 s\n"
     ]
    }
   ],
   "source": [
    "import os\n",
    "from glob import glob\n",
    "\n",
    "from astropy.io import fits\n",
    "\n",
    "from tqdm import tqdm_notebook\n",
    "\n",
    "from piaa.utils import pipeline\n",
    "from pocs.utils.db import postgres as clouddb"
   ]
  },
  {
   "cell_type": "code",
   "execution_count": 3,
   "metadata": {},
   "outputs": [
    {
     "name": "stdin",
     "output_type": "stream",
     "text": [
      " ·············\n"
     ]
    },
    {
     "name": "stdout",
     "output_type": "stream",
     "text": [
      "time: 4.57 s\n"
     ]
    }
   ],
   "source": [
    "tess_pass = getpass()\n",
    "\n",
    "# meta_cursor = clouddb.get_cursor(port=5433, db_pass=meta_pass, db_name='panoptes', db_user='postgres')\n",
    "tess_cursor = clouddb.get_cursor(port=5432, db_pass=tess_pass, db_name='v6', db_user='postgres')"
   ]
  },
  {
   "cell_type": "code",
   "execution_count": 4,
   "metadata": {},
   "outputs": [
    {
     "name": "stdout",
     "output_type": "stream",
     "text": [
      "time: 1.02 ms\n"
     ]
    }
   ],
   "source": [
    "base_dir = '/var/panoptes/images/fields/PAN001/Hd189733/14d3bd/20180913T054325'"
   ]
  },
  {
   "cell_type": "code",
   "execution_count": 5,
   "metadata": {},
   "outputs": [
    {
     "name": "stdout",
     "output_type": "stream",
     "text": [
      "Found 127 FITS files\n",
      "time: 5.9 ms\n"
     ]
    }
   ],
   "source": [
    "# Get all the files that start with a time stamp (skip pointing files)\n",
    "fits_files = sorted(glob(\n",
    "    os.path.join(base_dir, '*2018*.fits')\n",
    "), )\n",
    "print(\"Found {} FITS files\".format(len(fits_files)))"
   ]
  },
  {
   "cell_type": "code",
   "execution_count": 8,
   "metadata": {},
   "outputs": [
    {
     "name": "stdout",
     "output_type": "stream",
     "text": [
      "time: 8 s\n"
     ]
    }
   ],
   "source": [
    "# Lookup the point sources\n",
    "point_sources = pipeline.lookup_point_sources(\n",
    "    fits_files[0], \n",
    "    force_new=True,\n",
    "    cursor=tess_cursor,\n",
    "#     method='photutils',\n",
    "#     catalog_match=False\n",
    ")"
   ]
  },
  {
   "cell_type": "code",
   "execution_count": 9,
   "metadata": {},
   "outputs": [
    {
     "data": {
      "text/html": [
       "<div>\n",
       "<style scoped>\n",
       "    .dataframe tbody tr th:only-of-type {\n",
       "        vertical-align: middle;\n",
       "    }\n",
       "\n",
       "    .dataframe tbody tr th {\n",
       "        vertical-align: top;\n",
       "    }\n",
       "\n",
       "    .dataframe thead th {\n",
       "        text-align: right;\n",
       "    }\n",
       "</style>\n",
       "<table border=\"1\" class=\"dataframe\">\n",
       "  <thead>\n",
       "    <tr style=\"text-align: right;\">\n",
       "      <th></th>\n",
       "      <th>x</th>\n",
       "      <th>y</th>\n",
       "      <th>ra</th>\n",
       "      <th>dec</th>\n",
       "      <th>background</th>\n",
       "      <th>flux_auto</th>\n",
       "      <th>flux_max</th>\n",
       "      <th>fluxerr_auto</th>\n",
       "      <th>fwhm</th>\n",
       "      <th>flags</th>\n",
       "      <th>snr</th>\n",
       "      <th>twomass</th>\n",
       "      <th>tmag</th>\n",
       "      <th>vmag</th>\n",
       "      <th>d2d</th>\n",
       "    </tr>\n",
       "    <tr>\n",
       "      <th>id</th>\n",
       "      <th></th>\n",
       "      <th></th>\n",
       "      <th></th>\n",
       "      <th></th>\n",
       "      <th></th>\n",
       "      <th></th>\n",
       "      <th></th>\n",
       "      <th></th>\n",
       "      <th></th>\n",
       "      <th></th>\n",
       "      <th></th>\n",
       "      <th></th>\n",
       "      <th></th>\n",
       "      <th></th>\n",
       "      <th></th>\n",
       "    </tr>\n",
       "  </thead>\n",
       "  <tbody>\n",
       "    <tr>\n",
       "      <th>10668226</th>\n",
       "      <td>85.6097</td>\n",
       "      <td>2472.1506</td>\n",
       "      <td>297.805148</td>\n",
       "      <td>29.917162</td>\n",
       "      <td>2069.734</td>\n",
       "      <td>863.4516</td>\n",
       "      <td>51.17600</td>\n",
       "      <td>140.79750</td>\n",
       "      <td>5.93</td>\n",
       "      <td>0</td>\n",
       "      <td>6.132578</td>\n",
       "      <td>19511458+2954592</td>\n",
       "      <td>12.481</td>\n",
       "      <td>15.109000</td>\n",
       "      <td>0.004925</td>\n",
       "    </tr>\n",
       "    <tr>\n",
       "      <th>10668271</th>\n",
       "      <td>89.4770</td>\n",
       "      <td>2463.4978</td>\n",
       "      <td>297.833667</td>\n",
       "      <td>29.906753</td>\n",
       "      <td>2070.347</td>\n",
       "      <td>338.5105</td>\n",
       "      <td>46.64364</td>\n",
       "      <td>87.05955</td>\n",
       "      <td>4.31</td>\n",
       "      <td>0</td>\n",
       "      <td>3.888264</td>\n",
       "      <td>19511929+2954427</td>\n",
       "      <td>11.918</td>\n",
       "      <td>12.448000</td>\n",
       "      <td>0.005819</td>\n",
       "    </tr>\n",
       "    <tr>\n",
       "      <th>10668594</th>\n",
       "      <td>96.2462</td>\n",
       "      <td>2474.6409</td>\n",
       "      <td>297.797523</td>\n",
       "      <td>29.887056</td>\n",
       "      <td>2068.997</td>\n",
       "      <td>483.9258</td>\n",
       "      <td>53.98406</td>\n",
       "      <td>83.23398</td>\n",
       "      <td>3.41</td>\n",
       "      <td>0</td>\n",
       "      <td>5.814041</td>\n",
       "      <td>19511193+2952460</td>\n",
       "      <td>10.944</td>\n",
       "      <td>14.108000</td>\n",
       "      <td>0.007895</td>\n",
       "    </tr>\n",
       "    <tr>\n",
       "      <th>10668747</th>\n",
       "      <td>104.3185</td>\n",
       "      <td>2471.7134</td>\n",
       "      <td>297.807503</td>\n",
       "      <td>29.864477</td>\n",
       "      <td>2068.759</td>\n",
       "      <td>1555.3280</td>\n",
       "      <td>156.24100</td>\n",
       "      <td>106.08520</td>\n",
       "      <td>4.52</td>\n",
       "      <td>0</td>\n",
       "      <td>14.661121</td>\n",
       "      <td>19511375+2952085</td>\n",
       "      <td>11.807</td>\n",
       "      <td>16.014999</td>\n",
       "      <td>0.004578</td>\n",
       "    </tr>\n",
       "    <tr>\n",
       "      <th>10669478</th>\n",
       "      <td>125.1726</td>\n",
       "      <td>2493.1638</td>\n",
       "      <td>297.738369</td>\n",
       "      <td>29.804486</td>\n",
       "      <td>2067.137</td>\n",
       "      <td>1228.4580</td>\n",
       "      <td>119.93320</td>\n",
       "      <td>116.66330</td>\n",
       "      <td>3.39</td>\n",
       "      <td>0</td>\n",
       "      <td>10.529944</td>\n",
       "      <td>19505667+2948367</td>\n",
       "      <td>11.226</td>\n",
       "      <td>11.573000</td>\n",
       "      <td>0.005967</td>\n",
       "    </tr>\n",
       "  </tbody>\n",
       "</table>\n",
       "</div>"
      ],
      "text/plain": [
       "                 x          y          ra        dec  background  flux_auto  \\\n",
       "id                                                                            \n",
       "10668226   85.6097  2472.1506  297.805148  29.917162    2069.734   863.4516   \n",
       "10668271   89.4770  2463.4978  297.833667  29.906753    2070.347   338.5105   \n",
       "10668594   96.2462  2474.6409  297.797523  29.887056    2068.997   483.9258   \n",
       "10668747  104.3185  2471.7134  297.807503  29.864477    2068.759  1555.3280   \n",
       "10669478  125.1726  2493.1638  297.738369  29.804486    2067.137  1228.4580   \n",
       "\n",
       "           flux_max  fluxerr_auto  fwhm  flags        snr           twomass  \\\n",
       "id                                                                            \n",
       "10668226   51.17600     140.79750  5.93      0   6.132578  19511458+2954592   \n",
       "10668271   46.64364      87.05955  4.31      0   3.888264  19511929+2954427   \n",
       "10668594   53.98406      83.23398  3.41      0   5.814041  19511193+2952460   \n",
       "10668747  156.24100     106.08520  4.52      0  14.661121  19511375+2952085   \n",
       "10669478  119.93320     116.66330  3.39      0  10.529944  19505667+2948367   \n",
       "\n",
       "            tmag       vmag       d2d  \n",
       "id                                     \n",
       "10668226  12.481  15.109000  0.004925  \n",
       "10668271  11.918  12.448000  0.005819  \n",
       "10668594  10.944  14.108000  0.007895  \n",
       "10668747  11.807  16.014999  0.004578  \n",
       "10669478  11.226  11.573000  0.005967  "
      ]
     },
     "execution_count": 9,
     "metadata": {},
     "output_type": "execute_result"
    },
    {
     "name": "stdout",
     "output_type": "stream",
     "text": [
      "time: 32.2 ms\n"
     ]
    }
   ],
   "source": [
    "point_sources.head()"
   ]
  },
  {
   "cell_type": "code",
   "execution_count": null,
   "metadata": {},
   "outputs": [],
   "source": [
    "d0 = fits.getdata(fn).astype(np.int16) - camera_bias\n",
    "wcs = WCS(fn)\n",
    "\n",
    "star_data = list()\n",
    "\n",
    "for i, star_row in tqdm_notebook(enumerate(point_sources.itertuples())\n",
    "                                total=len(point_sources)\n",
    "                                ):\n",
    "\n",
    "    ticid = str(star_row.Index)\n",
    "\n",
    "    for fits_file in fits_files:    \n",
    "    \n",
    "        # Lookup the point sources\n",
    "        point_sources = pipeline.lookup_point_sources(\n",
    "            fits_file, \n",
    "            force_new=True,\n",
    "            cursor=tess_cursor,\n",
    "        )\n",
    "\n",
    "        star_positions = wcs.all_world2pix(point_sources.ra.values, point_sources.dec.values, 1)\n",
    "        x_pos = star_positions[0][i]\n",
    "        y_pos = star_positions[1][i]\n",
    "\n",
    "        star_data.append((ticid, 'position', 'x', 0, x_pos))\n",
    "        star_data.append((ticid, 'position', 'y', 0, y_pos))\n",
    "\n",
    "        slice0 = helpers.get_stamp_slice(x_pos, y_pos, stamp_size)    \n",
    "    \n",
    "        with fits.open(fits_file) as hdul:\n",
    "            ext = 0\n",
    "            hdu = hdul[ext]\n",
    "            header = hdu.header\n",
    "            d0 = hdu.data\n",
    "    \n",
    "    d1 = d0[slice0].flatten()\n",
    "\n",
    "    rgb_data = helpers.get_rgb_data(d1.reshape(*stamp_size), separate_green=True)\n",
    "\n",
    "    for color, stamp in zip('rgcb', rgb_data):\n",
    "        d2 = stamp.data.flatten()\n",
    "        m0 = stamp.mask.flatten()\n",
    "        for pixel_idx in range(len(d2)):\n",
    "            pixel_value = d2[pixel_idx]\n",
    "            is_masked = m0[pixel_idx]\n",
    "            if not is_masked:\n",
    "                star_data.append((\n",
    "                    ticid,\n",
    "                    'flux',\n",
    "                    color,\n",
    "                    pixel_idx,\n",
    "                    pixel_value\n",
    "                ))                 \n",
    "\n",
    "csv_fn = os.path.join(\n",
    "    base_dir,\n",
    "    'stamps_{:02d}.csv'.format(frame_idx)\n",
    ")\n",
    "\n",
    "# Save to CSV\n",
    "frame_table = Table(\n",
    "    rows=star_data, \n",
    "    names=('ticid', 'category', 'label', 'position', 'value'),\n",
    "    meta={\n",
    "        'date_obs': date_obs,\n",
    "        'wcs': wcs.to_header_string(relax=True)\n",
    "    }\n",
    ")\n",
    "ascii.write(frame_table, output=csv_fn, format='ecsv', overwrite=True)"
   ]
  }
 ],
 "metadata": {
  "kernelspec": {
   "display_name": "Python 3",
   "language": "python",
   "name": "python3"
  },
  "language_info": {
   "codemirror_mode": {
    "name": "ipython",
    "version": 3
   },
   "file_extension": ".py",
   "mimetype": "text/x-python",
   "name": "python",
   "nbconvert_exporter": "python",
   "pygments_lexer": "ipython3",
   "version": "3.6.6"
  }
 },
 "nbformat": 4,
 "nbformat_minor": 2
}
