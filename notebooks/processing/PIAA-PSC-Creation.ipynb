{
 "cells": [
  {
   "cell_type": "code",
   "execution_count": 1,
   "metadata": {},
   "outputs": [],
   "source": [
    "%load_ext autotime"
   ]
  },
  {
   "cell_type": "markdown",
   "metadata": {},
   "source": [
    "# Postage Stamp Cube (PSC) Creation\n",
    "\n",
    "For each of the sources that were detected we want to slice out the Postage Stamp Cube (PSC). The _x_ and _y_ values detected from `sextractor` are used to located the star, however this position is then adjusted such that every stamp in the cube is aligned and has a red-pixel in the (0,0) position. The _x,y_ values for each frame should lie within the center superpixel on the corresponding stamp.\n",
    "\n",
    "The stamps contain the raw data, i.e. no bias removed or any other processing. \n",
    "\n",
    "Each stamp is saved along with the timestamp and picid inside a csv file, one file per PSC."
   ]
  },
  {
   "cell_type": "code",
   "execution_count": 2,
   "metadata": {},
   "outputs": [
    {
     "name": "stdout",
     "output_type": "stream",
     "text": [
      "time: 2.95 s\n"
     ]
    }
   ],
   "source": [
    "import os\n",
    "\n",
    "import numpy as np\n",
    "import pandas as pd\n",
    "\n",
    "from tqdm import tqdm_notebook as tqdm\n",
    "\n",
    "from piaa.utils import pipeline\n",
    "from piaa.utils import helpers\n",
    "\n",
    "from astropy.io import fits"
   ]
  },
  {
   "cell_type": "code",
   "execution_count": 3,
   "metadata": {},
   "outputs": [
    {
     "name": "stdout",
     "output_type": "stream",
     "text": [
      "time: 1.25 ms\n"
     ]
    }
   ],
   "source": [
    "fields_dir = os.path.join(os.environ['PANDIR'], 'images', 'fields')"
   ]
  },
  {
   "cell_type": "code",
   "execution_count": 4,
   "metadata": {},
   "outputs": [
    {
     "data": {
      "text/plain": [
       "'/var/panoptes/images/fields/PAN012/Hd189733/358d0f/20180822T035809'"
      ]
     },
     "execution_count": 4,
     "metadata": {},
     "output_type": "execute_result"
    },
    {
     "name": "stdout",
     "output_type": "stream",
     "text": [
      "time: 13.8 ms\n"
     ]
    }
   ],
   "source": [
    "# base_dir = os.path.join(fields_dir, 'PAN001/Hd189733/14d3bd/20180913T085704')\n",
    "base_dir = os.path.join(fields_dir, 'PAN012/Hd189733/358d0f/20180822T035809')\n",
    "# base_dir = os.path.join(fields_dir, 'PAN001/Wasp50/14d3bd/20181215T050712')\n",
    "\n",
    "base_dir"
   ]
  },
  {
   "cell_type": "code",
   "execution_count": 5,
   "metadata": {},
   "outputs": [
    {
     "name": "stdout",
     "output_type": "stream",
     "text": [
      "time: 1.55 s\n"
     ]
    }
   ],
   "source": [
    "# Get detected sources\n",
    "source_filename = os.path.join(base_dir, f'point-sources-filtered.csv.bz2')\n",
    "\n",
    "# Actually get the sources\n",
    "sources = pipeline.lookup_sources_for_observation(filename=source_filename).set_index(['picid'], append=True)\n",
    "\n",
    "# Make directory for PSC\n",
    "os.makedirs(os.path.join(base_dir, 'stamps'), exist_ok=True)"
   ]
  },
  {
   "cell_type": "code",
   "execution_count": 6,
   "metadata": {},
   "outputs": [
    {
     "data": {
      "text/plain": [
       "334"
      ]
     },
     "execution_count": 6,
     "metadata": {},
     "output_type": "execute_result"
    },
    {
     "name": "stdout",
     "output_type": "stream",
     "text": [
      "time: 8.33 ms\n"
     ]
    }
   ],
   "source": [
    "# Used for progress display\n",
    "num_sources = len(list(sources.index.levels[1].unique()))\n",
    "num_sources"
   ]
  },
  {
   "cell_type": "code",
   "execution_count": 7,
   "metadata": {},
   "outputs": [
    {
     "name": "stdout",
     "output_type": "stream",
     "text": [
      "time: 805 µs\n"
     ]
    }
   ],
   "source": [
    "stamp_size = 10"
   ]
  },
  {
   "cell_type": "code",
   "execution_count": 8,
   "metadata": {},
   "outputs": [
    {
     "name": "stdout",
     "output_type": "stream",
     "text": [
      "time: 4.63 ms\n"
     ]
    }
   ],
   "source": [
    "picid = None\n",
    "# picid = 256364928\n",
    "# picid = 382391899  # Wasp 50"
   ]
  },
  {
   "cell_type": "code",
   "execution_count": 9,
   "metadata": {},
   "outputs": [
    {
     "name": "stdout",
     "output_type": "stream",
     "text": [
      "time: 593 µs\n"
     ]
    }
   ],
   "source": [
    "# x = sources.query(f'picid == {picid}').x\n",
    "# y = sources.query(f'picid == {picid}').y\n",
    "\n",
    "# x = x - x.mean()\n",
    "# y = y - y.mean()"
   ]
  },
  {
   "cell_type": "code",
   "execution_count": 10,
   "metadata": {},
   "outputs": [
    {
     "data": {
      "application/vnd.jupyter.widget-view+json": {
       "model_id": "b14dae925b934f2984ffd1b1ed6d60c0",
       "version_major": 2,
       "version_minor": 0
      },
      "text/plain": [
       "HBox(children=(IntProgress(value=0, description='Making PSCs', max=334), HTML(value='')))"
      ]
     },
     "metadata": {},
     "output_type": "display_data"
    },
    {
     "name": "stdout",
     "output_type": "stream",
     "text": [
      "\n",
      "time: 50min 53s\n"
     ]
    }
   ],
   "source": [
    "for pid, target_table in tqdm(sources.groupby('picid'), total=num_sources, desc=\"Making PSCs\"):\n",
    "    stamps = list()\n",
    "    \n",
    "    if picid and pid != picid:\n",
    "        continue\n",
    "    \n",
    "    for idx, row in target_table.iterrows():\n",
    "        date_obs= idx[0]\n",
    "        \n",
    "        # Get the data for the entire frame\n",
    "        data = fits.getdata(os.path.join(base_dir, row.file)) \n",
    "\n",
    "        # Get the stamp for the target\n",
    "        target_slice = helpers.get_stamp_slice(\n",
    "            row.x, row.y, \n",
    "            stamp_size=(stamp_size, stamp_size), \n",
    "            ignore_superpixel=False,\n",
    "            verbose=False\n",
    "        )\n",
    "\n",
    "        # Get data\n",
    "        stamps.append(data[target_slice].flatten())\n",
    "        \n",
    "    pd.DataFrame(stamps, index=target_table.index).to_csv(os.path.join(base_dir, 'stamps', f'{pid}.csv'))"
   ]
  }
 ],
 "metadata": {
  "kernelspec": {
   "display_name": "Python 3",
   "language": "python",
   "name": "python3"
  },
  "language_info": {
   "codemirror_mode": {
    "name": "ipython",
    "version": 3
   },
   "file_extension": ".py",
   "mimetype": "text/x-python",
   "name": "python",
   "nbconvert_exporter": "python",
   "pygments_lexer": "ipython3",
   "version": "3.6.6"
  }
 },
 "nbformat": 4,
 "nbformat_minor": 2
}
