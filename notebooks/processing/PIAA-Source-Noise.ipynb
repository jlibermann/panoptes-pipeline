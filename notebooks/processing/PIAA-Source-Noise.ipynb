{
 "cells": [
  {
   "cell_type": "code",
   "execution_count": 1,
   "metadata": {},
   "outputs": [],
   "source": [
    "%load_ext autotime"
   ]
  },
  {
   "cell_type": "code",
   "execution_count": 2,
   "metadata": {},
   "outputs": [
    {
     "name": "stdout",
     "output_type": "stream",
     "text": [
      "time: 1.83 s\n"
     ]
    }
   ],
   "source": [
    "import os\n",
    "\n",
    "import numpy as np\n",
    "import pandas as pd\n",
    "\n",
    "from tqdm import tqdm_notebook as tqdm\n",
    "\n",
    "from piaa.utils import pipeline\n",
    "from piaa.utils import helpers\n",
    "from piaa.utils import noise\n",
    "\n",
    "from pocs.utils.images import fits as fits_utils\n",
    "\n",
    "from astropy.stats import sigma_clip, sigma_clipped_stats\n",
    "from astropy import units as u"
   ]
  },
  {
   "cell_type": "markdown",
   "metadata": {},
   "source": [
    "#### Observation sources\n",
    "\n",
    "We use the previously detected and filtered sources to examine our target. See the [Source-Detection](Source-Detection-And-Filtering.ipynb) for details."
   ]
  },
  {
   "cell_type": "code",
   "execution_count": 3,
   "metadata": {},
   "outputs": [
    {
     "name": "stdout",
     "output_type": "stream",
     "text": [
      "time: 886 ms\n"
     ]
    }
   ],
   "source": [
    "base_dir = '/var/panoptes/images/fields/PAN012/358d0f/20180822T035809/'\n",
    "# base_dir = '/var/panoptes/images/fields/PAN001/Hd189733/14d3bd/20180913T085704/'\n",
    "source_filename = os.path.join(base_dir, f'point-sources-filtered.csv')\n",
    "\n",
    "sources = pipeline.lookup_sources_for_observation(filename=source_filename).set_index(['picid'], append=True)"
   ]
  },
  {
   "cell_type": "markdown",
   "metadata": {},
   "source": [
    "For our target table we want to compare the flux as calculated from `sextractor` (which has no knowledge of the RGB array) with that pulled from a custom stamp.  `sextractor` uses a 6-pixel circular aperture  centered around the calculated centroid (the `x` and `y` values in our `sources` table) while our custom stamps will use an aperture that is sliced according to our rule of having a fixed pixel pattern. Here we use a 6-pixel aperture on our stamps for direct comparison with `sextractor` but the size can be vary."
   ]
  },
  {
   "cell_type": "code",
   "execution_count": 4,
   "metadata": {},
   "outputs": [
    {
     "name": "stdout",
     "output_type": "stream",
     "text": [
      "time: 9.77 ms\n"
     ]
    }
   ],
   "source": [
    "# Lookup exposure time used\n",
    "exptime = fits_utils.getval(os.path.join(base_dir, sources.iloc[0].file), 'EXPTIME')\n",
    "\n",
    "num_sources = len(sources.index.levels[1])"
   ]
  },
  {
   "cell_type": "code",
   "execution_count": 5,
   "metadata": {},
   "outputs": [
    {
     "data": {
      "application/vnd.jupyter.widget-view+json": {
       "model_id": "502229f7466d475e955378ff7dc4e9fc",
       "version_major": 2,
       "version_minor": 0
      },
      "text/plain": [
       "HBox(children=(IntProgress(value=0, max=847), HTML(value='')))"
      ]
     },
     "metadata": {},
     "output_type": "display_data"
    },
    {
     "name": "stdout",
     "output_type": "stream",
     "text": [
      "\n",
      "time: 44min 45s\n"
     ]
    }
   ],
   "source": [
    "counts = list()\n",
    "\n",
    "i = 0\n",
    "for pid, target_table in tqdm(sources.groupby('picid'), total=num_sources): \n",
    "    i += 1\n",
    "#     if i > 10:\n",
    "#         break\n",
    "\n",
    "    # Get PSC info for this target\n",
    "    psc = pd.read_csv(os.path.join(base_dir, 'stamps', f'{pid}.csv'), parse_dates=True).set_index(['obs_time', 'picid'])\n",
    "    \n",
    "    # Loop through each frame of the PSC\n",
    "    for idx, row in psc.iterrows():\n",
    "        date_obs= idx[0]\n",
    "        data = row.values.reshape(10, 10)\n",
    "        \n",
    "        row_info = dict(date_obs=date_obs, picid=pid, channel='all')\n",
    "    \n",
    "        try:\n",
    "            stamp_noise = noise.get_stamp_noise(data, exptime, return_detail=True)\n",
    "            \n",
    "            stamp_noise.update({\n",
    "                'date_obs': date_obs,\n",
    "                'picid': pid,            \n",
    "                'channel': 'all',            \n",
    "            })\n",
    "            counts.append(stamp_noise)\n",
    "        except ValueError:\n",
    "            continue\n",
    "        \n",
    "        # Calculate some properties for each channel\n",
    "        color_data = helpers.get_rgb_data(data, force_new=True)\n",
    "        for color, color_stamp in zip('rgb', color_data):\n",
    "            \n",
    "            try:\n",
    "                stamp_noise = noise.get_stamp_noise(color_stamp, exptime, return_detail=True)\n",
    "            except ValueError:\n",
    "                continue\n",
    "                \n",
    "            stamp_noise.update({\n",
    "                'date_obs': date_obs,\n",
    "                'picid': pid,            \n",
    "                'channel': color,            \n",
    "            })\n",
    "            counts.append(stamp_noise)            \n",
    "                            \n",
    "source_noise = pd.DataFrame(counts).set_index(['date_obs'])\n",
    "source_noise.index = pd.to_datetime(source_noise.index)\n",
    "source_noise.to_csv(os.path.join(base_dir, f'point-sources-noise.csv'))"
   ]
  },
  {
   "cell_type": "code",
   "execution_count": 8,
   "metadata": {},
   "outputs": [
    {
     "data": {
      "text/html": [
       "<div>\n",
       "<style scoped>\n",
       "    .dataframe tbody tr th:only-of-type {\n",
       "        vertical-align: middle;\n",
       "    }\n",
       "\n",
       "    .dataframe tbody tr th {\n",
       "        vertical-align: top;\n",
       "    }\n",
       "\n",
       "    .dataframe thead th {\n",
       "        text-align: right;\n",
       "    }\n",
       "</style>\n",
       "<table border=\"1\" class=\"dataframe\">\n",
       "  <thead>\n",
       "    <tr style=\"text-align: right;\">\n",
       "      <th></th>\n",
       "      <th>date_obs</th>\n",
       "      <th>back</th>\n",
       "      <th>back_noise</th>\n",
       "      <th>channel</th>\n",
       "      <th>counts</th>\n",
       "      <th>dark_noise</th>\n",
       "      <th>noise</th>\n",
       "      <th>photon_noise</th>\n",
       "      <th>picid</th>\n",
       "      <th>readout_noise</th>\n",
       "    </tr>\n",
       "  </thead>\n",
       "  <tbody>\n",
       "    <tr>\n",
       "      <th>0</th>\n",
       "      <td>2018-08-22 04:02:02</td>\n",
       "      <td>1345.221053</td>\n",
       "      <td>485.044527</td>\n",
       "      <td>all</td>\n",
       "      <td>10962.894737</td>\n",
       "      <td>200.0</td>\n",
       "      <td>531.625610</td>\n",
       "      <td>85.490330</td>\n",
       "      <td>10777186</td>\n",
       "      <td>700.0</td>\n",
       "    </tr>\n",
       "    <tr>\n",
       "      <th>1</th>\n",
       "      <td>2018-08-22 04:02:02</td>\n",
       "      <td>1169.416667</td>\n",
       "      <td>331.015850</td>\n",
       "      <td>r</td>\n",
       "      <td>2306.583333</td>\n",
       "      <td>50.0</td>\n",
       "      <td>337.132341</td>\n",
       "      <td>39.213801</td>\n",
       "      <td>10777186</td>\n",
       "      <td>175.0</td>\n",
       "    </tr>\n",
       "    <tr>\n",
       "      <th>2</th>\n",
       "      <td>2018-08-22 04:02:02</td>\n",
       "      <td>1568.452381</td>\n",
       "      <td>222.127505</td>\n",
       "      <td>g</td>\n",
       "      <td>11687.380952</td>\n",
       "      <td>100.0</td>\n",
       "      <td>259.193395</td>\n",
       "      <td>88.269968</td>\n",
       "      <td>10777186</td>\n",
       "      <td>350.0</td>\n",
       "    </tr>\n",
       "    <tr>\n",
       "      <th>3</th>\n",
       "      <td>2018-08-22 04:02:02</td>\n",
       "      <td>783.571429</td>\n",
       "      <td>77.743517</td>\n",
       "      <td>b</td>\n",
       "      <td>4243.714286</td>\n",
       "      <td>50.0</td>\n",
       "      <td>106.874680</td>\n",
       "      <td>53.189688</td>\n",
       "      <td>10777186</td>\n",
       "      <td>175.0</td>\n",
       "    </tr>\n",
       "    <tr>\n",
       "      <th>4</th>\n",
       "      <td>2018-08-22 04:07:23</td>\n",
       "      <td>1291.032609</td>\n",
       "      <td>410.835825</td>\n",
       "      <td>all</td>\n",
       "      <td>15517.739130</td>\n",
       "      <td>200.0</td>\n",
       "      <td>468.166887</td>\n",
       "      <td>101.711157</td>\n",
       "      <td>10777186</td>\n",
       "      <td>700.0</td>\n",
       "    </tr>\n",
       "  </tbody>\n",
       "</table>\n",
       "</div>"
      ],
      "text/plain": [
       "              date_obs         back  back_noise channel        counts  \\\n",
       "0  2018-08-22 04:02:02  1345.221053  485.044527     all  10962.894737   \n",
       "1  2018-08-22 04:02:02  1169.416667  331.015850       r   2306.583333   \n",
       "2  2018-08-22 04:02:02  1568.452381  222.127505       g  11687.380952   \n",
       "3  2018-08-22 04:02:02   783.571429   77.743517       b   4243.714286   \n",
       "4  2018-08-22 04:07:23  1291.032609  410.835825     all  15517.739130   \n",
       "\n",
       "   dark_noise       noise  photon_noise     picid  readout_noise  \n",
       "0       200.0  531.625610     85.490330  10777186          700.0  \n",
       "1        50.0  337.132341     39.213801  10777186          175.0  \n",
       "2       100.0  259.193395     88.269968  10777186          350.0  \n",
       "3        50.0  106.874680     53.189688  10777186          175.0  \n",
       "4       200.0  468.166887    101.711157  10777186          700.0  "
      ]
     },
     "execution_count": 8,
     "metadata": {},
     "output_type": "execute_result"
    },
    {
     "name": "stdout",
     "output_type": "stream",
     "text": [
      "time: 812 ms\n"
     ]
    }
   ],
   "source": [
    "pd.read_csv(os.path.join(base_dir, f'point-sources-noise.csv')).head()"
   ]
  }
 ],
 "metadata": {
  "kernelspec": {
   "display_name": "Python 3",
   "language": "python",
   "name": "python3"
  },
  "language_info": {
   "codemirror_mode": {
    "name": "ipython",
    "version": 3
   },
   "file_extension": ".py",
   "mimetype": "text/x-python",
   "name": "python",
   "nbconvert_exporter": "python",
   "pygments_lexer": "ipython3",
   "version": "3.6.7"
  }
 },
 "nbformat": 4,
 "nbformat_minor": 2
}
