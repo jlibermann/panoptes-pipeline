{
 "cells": [
  {
   "cell_type": "code",
   "execution_count": 1,
   "metadata": {},
   "outputs": [],
   "source": [
    "%load_ext autotime"
   ]
  },
  {
   "cell_type": "code",
   "execution_count": 2,
   "metadata": {},
   "outputs": [
    {
     "name": "stdout",
     "output_type": "stream",
     "text": [
      "time: 1.9 s\n"
     ]
    }
   ],
   "source": [
    "import os\n",
    "from glob import glob\n",
    "\n",
    "from astropy.io import fits\n",
    "from astropy.stats import sigma_clipped_stats, sigma_clip\n",
    "import pandas as pd\n",
    "import numpy as np\n",
    "\n",
    "from matplotlib import pyplot as plt\n",
    "plt.style.use('bmh')\n",
    "\n",
    "from tqdm import tqdm_notebook\n",
    "\n",
    "from piaa.utils import pipeline\n",
    "from piaa.utils.postgres import get_cursor\n",
    "from piaa.utils import helpers\n",
    "from pocs.utils.images import fits as fits_utils\n",
    "from pocs.utils.images import crop_data\n",
    "\n",
    "from piaa.utils.postgres import get_cursor\n",
    "tess_cursor = get_cursor(port=5433, db_name='v6', db_user='postgres')"
   ]
  },
  {
   "cell_type": "code",
   "execution_count": 3,
   "metadata": {},
   "outputs": [
    {
     "name": "stdout",
     "output_type": "stream",
     "text": [
      "time: 719 µs\n"
     ]
    }
   ],
   "source": [
    "fields_dir = os.path.join(os.environ['PANDIR'], 'images', 'fields')"
   ]
  },
  {
   "cell_type": "code",
   "execution_count": 4,
   "metadata": {},
   "outputs": [
    {
     "data": {
      "text/plain": [
       "'/var/panoptes/images/fields/PAN001/Hd189733/ee04d1/20180913T085704'"
      ]
     },
     "execution_count": 4,
     "metadata": {},
     "output_type": "execute_result"
    },
    {
     "name": "stdout",
     "output_type": "stream",
     "text": [
      "time: 5.73 ms\n"
     ]
    }
   ],
   "source": [
    "base_dir = os.path.join(fields_dir, 'PAN001/Hd189733/14d3bd/20180913T085704')\n",
    "base_dir = os.path.join(fields_dir, 'PAN001/Hd189733/ee04d1/20180913T085704')\n",
    "# base_dir = os.path.join(fields_dir, 'PAN012/Hd189733/358d0f/20180822T035809')\n",
    "# base_dir = os.path.join(fields_dir, 'PAN001/Wasp50/ee04d1/20181215T050712')\n",
    "\n",
    "base_dir"
   ]
  },
  {
   "cell_type": "code",
   "execution_count": 5,
   "metadata": {},
   "outputs": [
    {
     "name": "stdout",
     "output_type": "stream",
     "text": [
      "Found 100 FITS files\n",
      "time: 2.36 ms\n"
     ]
    }
   ],
   "source": [
    "# Get all the files that start with a time stamp (skip pointing files)\n",
    "fits_files = sorted(glob(\n",
    "    os.path.join(base_dir, '*2018*.fits')\n",
    "), )\n",
    "print(\"Found {} FITS files\".format(len(fits_files)))"
   ]
  },
  {
   "cell_type": "markdown",
   "metadata": {},
   "source": [
    "## Lookup point sources\n",
    "\n",
    "Looking up the point sources invovles two steps, extracting detected sources from the image and matching those with a catalog.\n",
    "\n",
    "> Note: This assumes the images have already been downloaded and plate-solved.  \n",
    "> _todo(wtgee) add a link to a notebook that does that_\n",
    "\n",
    "**Source Detection** For source extraction there are three methods available but the default is to use the well-known [`sextractor`](https://www.astromatic.net/software/sextractor) to  automatically detect sources according to certain configurable parameters. The [PIAA sextractor config](https://raw.githubusercontent.com/panoptes/PIAA/develop/resources/conf_files/sextractor/panoptes.sex) sets a photometric aperture of 6 pixels ($6 \\times 10.3'' \\approx 80''$) and a detection threshold of 1.5 sigmas. Further filtering of flags and basic SNR is done below.\n",
    "\n",
    "**Catalog Matching** PANOPTES hosts a copy of the TESS Input Catalog (v6) against which the detected sources are matched. The detection uses the peak pixel value as reported by `sextractor` compared against the TICv6 using standard [astropy catalog matching](http://docs.astropy.org/en/stable/coordinates/matchsep.html#matching-catalogs) techniques. Reported catalog separation is neglible, especially regarding the creationg of the stamps for the RGB pixel pattern (see below)."
   ]
  },
  {
   "cell_type": "code",
   "execution_count": 6,
   "metadata": {},
   "outputs": [
    {
     "data": {
      "text/html": [
       "<div>\n",
       "<style scoped>\n",
       "    .dataframe tbody tr th:only-of-type {\n",
       "        vertical-align: middle;\n",
       "    }\n",
       "\n",
       "    .dataframe tbody tr th {\n",
       "        vertical-align: top;\n",
       "    }\n",
       "\n",
       "    .dataframe thead th {\n",
       "        text-align: right;\n",
       "    }\n",
       "</style>\n",
       "<table border=\"1\" class=\"dataframe\">\n",
       "  <thead>\n",
       "    <tr style=\"text-align: right;\">\n",
       "      <th></th>\n",
       "      <th>ra</th>\n",
       "      <th>dec</th>\n",
       "      <th>x</th>\n",
       "      <th>y</th>\n",
       "      <th>x_image</th>\n",
       "      <th>y_image</th>\n",
       "      <th>background</th>\n",
       "      <th>flux_best</th>\n",
       "      <th>fluxerr_best</th>\n",
       "      <th>mag_best</th>\n",
       "      <th>...</th>\n",
       "      <th>flux_aper</th>\n",
       "      <th>fluxerr_aper</th>\n",
       "      <th>mag_aper</th>\n",
       "      <th>magerr_aper</th>\n",
       "      <th>flux_max</th>\n",
       "      <th>fwhm_image</th>\n",
       "      <th>flags</th>\n",
       "      <th>tmag</th>\n",
       "      <th>vmag</th>\n",
       "      <th>catalog_sep_arcsec</th>\n",
       "    </tr>\n",
       "    <tr>\n",
       "      <th>picid</th>\n",
       "      <th></th>\n",
       "      <th></th>\n",
       "      <th></th>\n",
       "      <th></th>\n",
       "      <th></th>\n",
       "      <th></th>\n",
       "      <th></th>\n",
       "      <th></th>\n",
       "      <th></th>\n",
       "      <th></th>\n",
       "      <th></th>\n",
       "      <th></th>\n",
       "      <th></th>\n",
       "      <th></th>\n",
       "      <th></th>\n",
       "      <th></th>\n",
       "      <th></th>\n",
       "      <th></th>\n",
       "      <th></th>\n",
       "      <th></th>\n",
       "      <th></th>\n",
       "    </tr>\n",
       "  </thead>\n",
       "  <tbody>\n",
       "    <tr>\n",
       "      <th>10676064</th>\n",
       "      <td>297.731379</td>\n",
       "      <td>29.103738</td>\n",
       "      <td>5145</td>\n",
       "      <td>697</td>\n",
       "      <td>5145.9980</td>\n",
       "      <td>696.8262</td>\n",
       "      <td>2066.387</td>\n",
       "      <td>1299.831</td>\n",
       "      <td>87.90568</td>\n",
       "      <td>17.2153</td>\n",
       "      <td>...</td>\n",
       "      <td>1080.9920</td>\n",
       "      <td>58.69989</td>\n",
       "      <td>17.4154</td>\n",
       "      <td>0.0590</td>\n",
       "      <td>129.53530</td>\n",
       "      <td>6.02</td>\n",
       "      <td>0</td>\n",
       "      <td>10.923</td>\n",
       "      <td>11.343</td>\n",
       "      <td>21.322441</td>\n",
       "    </tr>\n",
       "    <tr>\n",
       "      <th>10676191</th>\n",
       "      <td>297.815910</td>\n",
       "      <td>29.100670</td>\n",
       "      <td>5144</td>\n",
       "      <td>723</td>\n",
       "      <td>5144.5557</td>\n",
       "      <td>722.8771</td>\n",
       "      <td>2067.073</td>\n",
       "      <td>1988.160</td>\n",
       "      <td>109.77960</td>\n",
       "      <td>16.7539</td>\n",
       "      <td>...</td>\n",
       "      <td>1386.7400</td>\n",
       "      <td>60.53900</td>\n",
       "      <td>17.1450</td>\n",
       "      <td>0.0474</td>\n",
       "      <td>146.77000</td>\n",
       "      <td>6.02</td>\n",
       "      <td>0</td>\n",
       "      <td>11.839</td>\n",
       "      <td>13.054</td>\n",
       "      <td>11.768358</td>\n",
       "    </tr>\n",
       "    <tr>\n",
       "      <th>10676309</th>\n",
       "      <td>297.768533</td>\n",
       "      <td>29.078722</td>\n",
       "      <td>5138</td>\n",
       "      <td>708</td>\n",
       "      <td>5136.9551</td>\n",
       "      <td>708.2170</td>\n",
       "      <td>2066.429</td>\n",
       "      <td>1122.076</td>\n",
       "      <td>115.78780</td>\n",
       "      <td>17.3749</td>\n",
       "      <td>...</td>\n",
       "      <td>710.7996</td>\n",
       "      <td>56.52448</td>\n",
       "      <td>17.8706</td>\n",
       "      <td>0.0864</td>\n",
       "      <td>82.42879</td>\n",
       "      <td>5.69</td>\n",
       "      <td>0</td>\n",
       "      <td>11.890</td>\n",
       "      <td>12.145</td>\n",
       "      <td>20.246949</td>\n",
       "    </tr>\n",
       "    <tr>\n",
       "      <th>10676410</th>\n",
       "      <td>297.741659</td>\n",
       "      <td>29.068417</td>\n",
       "      <td>5132</td>\n",
       "      <td>700</td>\n",
       "      <td>5133.4087</td>\n",
       "      <td>699.9042</td>\n",
       "      <td>2066.094</td>\n",
       "      <td>1314.310</td>\n",
       "      <td>108.60750</td>\n",
       "      <td>17.2033</td>\n",
       "      <td>...</td>\n",
       "      <td>929.1666</td>\n",
       "      <td>57.76443</td>\n",
       "      <td>17.5798</td>\n",
       "      <td>0.0675</td>\n",
       "      <td>122.75010</td>\n",
       "      <td>5.36</td>\n",
       "      <td>0</td>\n",
       "      <td>11.119</td>\n",
       "      <td>11.911</td>\n",
       "      <td>17.540261</td>\n",
       "    </tr>\n",
       "    <tr>\n",
       "      <th>10763858</th>\n",
       "      <td>297.855030</td>\n",
       "      <td>29.044928</td>\n",
       "      <td>5126</td>\n",
       "      <td>734</td>\n",
       "      <td>5124.6025</td>\n",
       "      <td>734.8061</td>\n",
       "      <td>2068.656</td>\n",
       "      <td>1911.370</td>\n",
       "      <td>215.63370</td>\n",
       "      <td>16.7966</td>\n",
       "      <td>...</td>\n",
       "      <td>517.0848</td>\n",
       "      <td>55.33541</td>\n",
       "      <td>18.2161</td>\n",
       "      <td>0.1162</td>\n",
       "      <td>65.04959</td>\n",
       "      <td>10.91</td>\n",
       "      <td>0</td>\n",
       "      <td>11.895</td>\n",
       "      <td>12.500</td>\n",
       "      <td>17.836088</td>\n",
       "    </tr>\n",
       "  </tbody>\n",
       "</table>\n",
       "<p>5 rows × 21 columns</p>\n",
       "</div>"
      ],
      "text/plain": [
       "                  ra        dec     x    y    x_image   y_image  background  \\\n",
       "picid                                                                         \n",
       "10676064  297.731379  29.103738  5145  697  5145.9980  696.8262    2066.387   \n",
       "10676191  297.815910  29.100670  5144  723  5144.5557  722.8771    2067.073   \n",
       "10676309  297.768533  29.078722  5138  708  5136.9551  708.2170    2066.429   \n",
       "10676410  297.741659  29.068417  5132  700  5133.4087  699.9042    2066.094   \n",
       "10763858  297.855030  29.044928  5126  734  5124.6025  734.8061    2068.656   \n",
       "\n",
       "          flux_best  fluxerr_best  mag_best         ...          flux_aper  \\\n",
       "picid                                               ...                      \n",
       "10676064   1299.831      87.90568   17.2153         ...          1080.9920   \n",
       "10676191   1988.160     109.77960   16.7539         ...          1386.7400   \n",
       "10676309   1122.076     115.78780   17.3749         ...           710.7996   \n",
       "10676410   1314.310     108.60750   17.2033         ...           929.1666   \n",
       "10763858   1911.370     215.63370   16.7966         ...           517.0848   \n",
       "\n",
       "          fluxerr_aper  mag_aper  magerr_aper   flux_max  fwhm_image  flags  \\\n",
       "picid                                                                         \n",
       "10676064      58.69989   17.4154       0.0590  129.53530        6.02      0   \n",
       "10676191      60.53900   17.1450       0.0474  146.77000        6.02      0   \n",
       "10676309      56.52448   17.8706       0.0864   82.42879        5.69      0   \n",
       "10676410      57.76443   17.5798       0.0675  122.75010        5.36      0   \n",
       "10763858      55.33541   18.2161       0.1162   65.04959       10.91      0   \n",
       "\n",
       "            tmag    vmag  catalog_sep_arcsec  \n",
       "picid                                         \n",
       "10676064  10.923  11.343           21.322441  \n",
       "10676191  11.839  13.054           11.768358  \n",
       "10676309  11.890  12.145           20.246949  \n",
       "10676410  11.119  11.911           17.540261  \n",
       "10763858  11.895  12.500           17.836088  \n",
       "\n",
       "[5 rows x 21 columns]"
      ]
     },
     "metadata": {},
     "output_type": "display_data"
    },
    {
     "name": "stdout",
     "output_type": "stream",
     "text": [
      "Sources extracted: 44814\n",
      "time: 17.4 s\n"
     ]
    }
   ],
   "source": [
    "# Lookup the point sources\n",
    "point_sources = pipeline.lookup_point_sources(\n",
    "    fits_files[0], \n",
    "    force_new=True,\n",
    "    cursor=tess_cursor,\n",
    ")\n",
    "\n",
    "# Display example\n",
    "display(point_sources.head())\n",
    "print(f'Sources extracted: {len(point_sources)}')"
   ]
  },
  {
   "cell_type": "markdown",
   "metadata": {},
   "source": [
    "#### Lookup all files\n",
    "\n",
    "Perform the same thing again but for all files. The resulting source catalog created from `sextractor` is saved for each image and reused in subsequent runs unless `force_new=True`.\n",
    "\n",
    "Extract the observation time, the exposure time, and the airmass from the FITS headers.\n",
    "\n",
    "The image observation time currently comes from the image file name, which is generated by the computer running the unit and is given in UTC. This is mainly due to a problem with the `DATE-OBS` header in the FITS files for POCS versions <0.6.2."
   ]
  },
  {
   "cell_type": "code",
   "execution_count": 7,
   "metadata": {},
   "outputs": [
    {
     "name": "stderr",
     "output_type": "stream",
     "text": [
      "100%|██████████| 100/100 [32:22<00:00, 23.55s/it]\n"
     ]
    },
    {
     "name": "stdout",
     "output_type": "stream",
     "text": [
      "time: 35min 25s\n"
     ]
    }
   ],
   "source": [
    "source_filename = os.path.join(base_dir, f'point-sources-detected.csv')\n",
    "\n",
    "observation_sources = pipeline.lookup_sources_for_observation(\n",
    "    fits_files=fits_files, \n",
    "    filename=source_filename, \n",
    "    cursor=tess_cursor, \n",
    "    force_new=True,\n",
    ")"
   ]
  },
  {
   "cell_type": "code",
   "execution_count": 8,
   "metadata": {},
   "outputs": [
    {
     "name": "stdout",
     "output_type": "stream",
     "text": [
      "Frames: 100 Sources: 78754\n",
      "time: 495 ms\n"
     ]
    }
   ],
   "source": [
    "num_frames = len(observation_sources.index.unique())\n",
    "num_sources = len(set(observation_sources.picid))\n",
    "print(f\"Frames: {num_frames} Sources: {num_sources}\")"
   ]
  },
  {
   "cell_type": "markdown",
   "metadata": {},
   "source": [
    "## Filter detected sources\n",
    "\n",
    "The above sequence does basic source filtering via `sextractor` along with what can be matched in the TESS catalog. Below are a number of different ways to filter the frames and/or sources based on image quality, number of detections, etc.\n",
    "\n",
    "The filtering for the `PAN012` HD189733 data set involves the steps below. At the bottom of the notebook are optional filter methods."
   ]
  },
  {
   "cell_type": "markdown",
   "metadata": {},
   "source": [
    "#### Image filtering\n",
    "\n",
    "We can do some quick checks on the overall image sequence. here we look at the mean background as detected by `sextractor`. It's a rough metric but we can clearly see some frames where the background levels spike, indicating clouds in the region."
   ]
  },
  {
   "cell_type": "code",
   "execution_count": 9,
   "metadata": {},
   "outputs": [
    {
     "data": {
      "text/plain": [
       "<matplotlib.legend.Legend at 0x7f9176f51550>"
      ]
     },
     "execution_count": 9,
     "metadata": {},
     "output_type": "execute_result"
    },
    {
     "data": {
      "image/png": "[encoded data removed]",
      "text/plain": [
       "<Figure size 432x324 with 1 Axes>"
      ]
     },
     "metadata": {
      "needs_background": "light"
     },
     "output_type": "display_data"
    },
    {
     "name": "stdout",
     "output_type": "stream",
     "text": [
      "time: 1.96 s\n"
     ]
    }
   ],
   "source": [
    "plt.figure(figsize=(6, 4.5))\n",
    "observation_sources.groupby('obs_time').background.mean().plot(label='Mean Background')\n",
    "plt.title(f'Background Mean')\n",
    "plt.legend()"
   ]
  },
  {
   "cell_type": "markdown",
   "metadata": {},
   "source": [
    "#### Filter frames by number of detected sources\n",
    "\n",
    "Here we remove frames where the total number of detected frames is outside of two standard deviations of the mean number of detected sources.\n",
    "\n",
    "Usually this is due to clouds passing over, which causes the number of detected sources to drop dramatically across the entire frame.\n",
    "\n",
    "We could have a smarter method of filtering these frames, e.g. by examining the FWHM of the stars."
   ]
  },
  {
   "cell_type": "code",
   "execution_count": 10,
   "metadata": {},
   "outputs": [
    {
     "name": "stdout",
     "output_type": "stream",
     "text": [
      "Frames should have at least 38626 sources\n",
      "time: 610 ms\n"
     ]
    }
   ],
   "source": [
    "num_sources = observation_sources.groupby('obs_time').count().file\n",
    "min_sources = int(num_sources.mean() - (2 * num_sources.std()))\n",
    "print(f'Frames should have at least {min_sources} sources')"
   ]
  },
  {
   "cell_type": "code",
   "execution_count": 11,
   "metadata": {},
   "outputs": [
    {
     "data": {
      "text/html": [
       "<div>\n",
       "<style scoped>\n",
       "    .dataframe tbody tr th:only-of-type {\n",
       "        vertical-align: middle;\n",
       "    }\n",
       "\n",
       "    .dataframe tbody tr th {\n",
       "        vertical-align: top;\n",
       "    }\n",
       "\n",
       "    .dataframe thead tr th {\n",
       "        text-align: left;\n",
       "    }\n",
       "\n",
       "    .dataframe thead tr:last-of-type th {\n",
       "        text-align: right;\n",
       "    }\n",
       "</style>\n",
       "<table border=\"1\" class=\"dataframe\">\n",
       "  <thead>\n",
       "    <tr>\n",
       "      <th></th>\n",
       "      <th colspan=\"8\" halign=\"left\">ra</th>\n",
       "      <th colspan=\"2\" halign=\"left\">dec</th>\n",
       "      <th>...</th>\n",
       "      <th colspan=\"2\" halign=\"left\">airmass</th>\n",
       "      <th colspan=\"8\" halign=\"left\">picid</th>\n",
       "    </tr>\n",
       "    <tr>\n",
       "      <th></th>\n",
       "      <th>count</th>\n",
       "      <th>mean</th>\n",
       "      <th>std</th>\n",
       "      <th>min</th>\n",
       "      <th>25%</th>\n",
       "      <th>50%</th>\n",
       "      <th>75%</th>\n",
       "      <th>max</th>\n",
       "      <th>count</th>\n",
       "      <th>mean</th>\n",
       "      <th>...</th>\n",
       "      <th>75%</th>\n",
       "      <th>max</th>\n",
       "      <th>count</th>\n",
       "      <th>mean</th>\n",
       "      <th>std</th>\n",
       "      <th>min</th>\n",
       "      <th>25%</th>\n",
       "      <th>50%</th>\n",
       "      <th>75%</th>\n",
       "      <th>max</th>\n",
       "    </tr>\n",
       "    <tr>\n",
       "      <th>obs_time</th>\n",
       "      <th></th>\n",
       "      <th></th>\n",
       "      <th></th>\n",
       "      <th></th>\n",
       "      <th></th>\n",
       "      <th></th>\n",
       "      <th></th>\n",
       "      <th></th>\n",
       "      <th></th>\n",
       "      <th></th>\n",
       "      <th></th>\n",
       "      <th></th>\n",
       "      <th></th>\n",
       "      <th></th>\n",
       "      <th></th>\n",
       "      <th></th>\n",
       "      <th></th>\n",
       "      <th></th>\n",
       "      <th></th>\n",
       "      <th></th>\n",
       "      <th></th>\n",
       "    </tr>\n",
       "  </thead>\n",
       "  <tbody>\n",
       "    <tr>\n",
       "      <th>2018-09-13 09:00:11</th>\n",
       "      <td>44814.0</td>\n",
       "      <td>301.098553</td>\n",
       "      <td>2.990756</td>\n",
       "      <td>295.678560</td>\n",
       "      <td>298.481650</td>\n",
       "      <td>301.101906</td>\n",
       "      <td>303.709527</td>\n",
       "      <td>306.545850</td>\n",
       "      <td>44814.0</td>\n",
       "      <td>21.234164</td>\n",
       "      <td>...</td>\n",
       "      <td>1.147736</td>\n",
       "      <td>1.147736</td>\n",
       "      <td>44814.0</td>\n",
       "      <td>2.894145e+08</td>\n",
       "      <td>1.222296e+08</td>\n",
       "      <td>10676064.0</td>\n",
       "      <td>244384121.5</td>\n",
       "      <td>301349311.5</td>\n",
       "      <td>3.921467e+08</td>\n",
       "      <td>1.412213e+09</td>\n",
       "    </tr>\n",
       "    <tr>\n",
       "      <th>2018-09-13 09:01:38</th>\n",
       "      <td>44743.0</td>\n",
       "      <td>301.102858</td>\n",
       "      <td>2.988263</td>\n",
       "      <td>295.678991</td>\n",
       "      <td>298.490657</td>\n",
       "      <td>301.106728</td>\n",
       "      <td>303.713484</td>\n",
       "      <td>306.545209</td>\n",
       "      <td>44743.0</td>\n",
       "      <td>21.219291</td>\n",
       "      <td>...</td>\n",
       "      <td>1.151562</td>\n",
       "      <td>1.151562</td>\n",
       "      <td>44743.0</td>\n",
       "      <td>2.890158e+08</td>\n",
       "      <td>1.223953e+08</td>\n",
       "      <td>10676064.0</td>\n",
       "      <td>244370984.0</td>\n",
       "      <td>301204370.0</td>\n",
       "      <td>3.920612e+08</td>\n",
       "      <td>1.412213e+09</td>\n",
       "    </tr>\n",
       "    <tr>\n",
       "      <th>2018-09-13 09:03:10</th>\n",
       "      <td>42113.0</td>\n",
       "      <td>301.100710</td>\n",
       "      <td>2.986259</td>\n",
       "      <td>295.660886</td>\n",
       "      <td>298.495092</td>\n",
       "      <td>301.113124</td>\n",
       "      <td>303.701631</td>\n",
       "      <td>306.523456</td>\n",
       "      <td>42113.0</td>\n",
       "      <td>21.257553</td>\n",
       "      <td>...</td>\n",
       "      <td>1.155691</td>\n",
       "      <td>1.155691</td>\n",
       "      <td>42113.0</td>\n",
       "      <td>2.891467e+08</td>\n",
       "      <td>1.223526e+08</td>\n",
       "      <td>10676064.0</td>\n",
       "      <td>244382097.0</td>\n",
       "      <td>301206543.0</td>\n",
       "      <td>3.920597e+08</td>\n",
       "      <td>1.412213e+09</td>\n",
       "    </tr>\n",
       "    <tr>\n",
       "      <th>2018-09-13 09:04:44</th>\n",
       "      <td>44625.0</td>\n",
       "      <td>301.100794</td>\n",
       "      <td>2.987162</td>\n",
       "      <td>295.659918</td>\n",
       "      <td>298.483367</td>\n",
       "      <td>301.112318</td>\n",
       "      <td>303.708007</td>\n",
       "      <td>306.528096</td>\n",
       "      <td>44625.0</td>\n",
       "      <td>21.226086</td>\n",
       "      <td>...</td>\n",
       "      <td>1.159928</td>\n",
       "      <td>1.159928</td>\n",
       "      <td>44625.0</td>\n",
       "      <td>2.886771e+08</td>\n",
       "      <td>1.223659e+08</td>\n",
       "      <td>10676064.0</td>\n",
       "      <td>244368467.0</td>\n",
       "      <td>301076142.0</td>\n",
       "      <td>3.920465e+08</td>\n",
       "      <td>1.412213e+09</td>\n",
       "    </tr>\n",
       "    <tr>\n",
       "      <th>2018-09-13 09:06:16</th>\n",
       "      <td>42884.0</td>\n",
       "      <td>301.095846</td>\n",
       "      <td>2.986646</td>\n",
       "      <td>295.659555</td>\n",
       "      <td>298.485969</td>\n",
       "      <td>301.107359</td>\n",
       "      <td>303.705595</td>\n",
       "      <td>306.525421</td>\n",
       "      <td>42884.0</td>\n",
       "      <td>21.244554</td>\n",
       "      <td>...</td>\n",
       "      <td>1.164181</td>\n",
       "      <td>1.164181</td>\n",
       "      <td>42884.0</td>\n",
       "      <td>2.889353e+08</td>\n",
       "      <td>1.223605e+08</td>\n",
       "      <td>10676064.0</td>\n",
       "      <td>244376634.0</td>\n",
       "      <td>301202162.0</td>\n",
       "      <td>3.920527e+08</td>\n",
       "      <td>1.412213e+09</td>\n",
       "    </tr>\n",
       "  </tbody>\n",
       "</table>\n",
       "<p>5 rows × 192 columns</p>\n",
       "</div>"
      ],
      "text/plain": [
       "                          ra                                                \\\n",
       "                       count        mean       std         min         25%   \n",
       "obs_time                                                                     \n",
       "2018-09-13 09:00:11  44814.0  301.098553  2.990756  295.678560  298.481650   \n",
       "2018-09-13 09:01:38  44743.0  301.102858  2.988263  295.678991  298.490657   \n",
       "2018-09-13 09:03:10  42113.0  301.100710  2.986259  295.660886  298.495092   \n",
       "2018-09-13 09:04:44  44625.0  301.100794  2.987162  295.659918  298.483367   \n",
       "2018-09-13 09:06:16  42884.0  301.095846  2.986646  295.659555  298.485969   \n",
       "\n",
       "                                                             dec             \\\n",
       "                            50%         75%         max    count       mean   \n",
       "obs_time                                                                      \n",
       "2018-09-13 09:00:11  301.101906  303.709527  306.545850  44814.0  21.234164   \n",
       "2018-09-13 09:01:38  301.106728  303.713484  306.545209  44743.0  21.219291   \n",
       "2018-09-13 09:03:10  301.113124  303.701631  306.523456  42113.0  21.257553   \n",
       "2018-09-13 09:04:44  301.112318  303.708007  306.528096  44625.0  21.226086   \n",
       "2018-09-13 09:06:16  301.107359  303.705595  306.525421  42884.0  21.244554   \n",
       "\n",
       "                         ...        airmass              picid                \\\n",
       "                         ...            75%       max    count          mean   \n",
       "obs_time                 ...                                                   \n",
       "2018-09-13 09:00:11      ...       1.147736  1.147736  44814.0  2.894145e+08   \n",
       "2018-09-13 09:01:38      ...       1.151562  1.151562  44743.0  2.890158e+08   \n",
       "2018-09-13 09:03:10      ...       1.155691  1.155691  42113.0  2.891467e+08   \n",
       "2018-09-13 09:04:44      ...       1.159928  1.159928  44625.0  2.886771e+08   \n",
       "2018-09-13 09:06:16      ...       1.164181  1.164181  42884.0  2.889353e+08   \n",
       "\n",
       "                                                                         \\\n",
       "                              std         min          25%          50%   \n",
       "obs_time                                                                  \n",
       "2018-09-13 09:00:11  1.222296e+08  10676064.0  244384121.5  301349311.5   \n",
       "2018-09-13 09:01:38  1.223953e+08  10676064.0  244370984.0  301204370.0   \n",
       "2018-09-13 09:03:10  1.223526e+08  10676064.0  244382097.0  301206543.0   \n",
       "2018-09-13 09:04:44  1.223659e+08  10676064.0  244368467.0  301076142.0   \n",
       "2018-09-13 09:06:16  1.223605e+08  10676064.0  244376634.0  301202162.0   \n",
       "\n",
       "                                                 \n",
       "                              75%           max  \n",
       "obs_time                                         \n",
       "2018-09-13 09:00:11  3.921467e+08  1.412213e+09  \n",
       "2018-09-13 09:01:38  3.920612e+08  1.412213e+09  \n",
       "2018-09-13 09:03:10  3.920597e+08  1.412213e+09  \n",
       "2018-09-13 09:04:44  3.920465e+08  1.412213e+09  \n",
       "2018-09-13 09:06:16  3.920527e+08  1.412213e+09  \n",
       "\n",
       "[5 rows x 192 columns]"
      ]
     },
     "execution_count": 11,
     "metadata": {},
     "output_type": "execute_result"
    },
    {
     "name": "stdout",
     "output_type": "stream",
     "text": [
      "time: 12.9 s\n"
     ]
    }
   ],
   "source": [
    "observation_sources.groupby('obs_time').describe().head()"
   ]
  },
  {
   "cell_type": "code",
   "execution_count": 12,
   "metadata": {},
   "outputs": [
    {
     "data": {
      "text/plain": [
       "<matplotlib.legend.Legend at 0x7f91773f4a90>"
      ]
     },
     "execution_count": 12,
     "metadata": {},
     "output_type": "execute_result"
    },
    {
     "data": {
      "image/png": "[encoded data removed]",
      "text/plain": [
       "<Figure size 864x648 with 1 Axes>"
      ]
     },
     "metadata": {
      "needs_background": "light"
     },
     "output_type": "display_data"
    },
    {
     "name": "stdout",
     "output_type": "stream",
     "text": [
      "time: 5.71 s\n"
     ]
    }
   ],
   "source": [
    "plt.figure(figsize=(12, 9))\n",
    "observation_sources.groupby('obs_time').count().picid.plot(marker='o', ls='', label='All')\n",
    "observation_sources.groupby('obs_time').filter(\n",
    "    lambda grp: grp.count().picid >= min_sources\n",
    ").groupby('obs_time').count().file.plot(marker='o', ls='', label='Filtered')\n",
    "plt.axhline(min_sources, c='r', alpha=0.5, ls='--', label='Min threshold')\n",
    "\n",
    "plt.ylabel('Num sources')\n",
    "plt.title('Number of Sources Detected')\n",
    "plt.legend()"
   ]
  },
  {
   "cell_type": "code",
   "execution_count": 13,
   "metadata": {},
   "outputs": [
    {
     "name": "stdout",
     "output_type": "stream",
     "text": [
      "time: 3.79 s\n"
     ]
    }
   ],
   "source": [
    "# Filter out the frames where the number of source detections is outside the std\n",
    "observation_sources = observation_sources.groupby('obs_time').filter(lambda grp: grp.count()['file'] >= min_sources)"
   ]
  },
  {
   "cell_type": "code",
   "execution_count": 14,
   "metadata": {},
   "outputs": [
    {
     "name": "stdout",
     "output_type": "stream",
     "text": [
      "Frames: 91 Sources: 77724\n",
      "time: 491 ms\n"
     ]
    }
   ],
   "source": [
    "num_frames = len(observation_sources.index.unique())\n",
    "num_sources = len(set(observation_sources.picid))\n",
    "print(f\"Frames: {num_frames} Sources: {num_sources}\")"
   ]
  },
  {
   "cell_type": "markdown",
   "metadata": {},
   "source": [
    "#### Filter sources by number of frames\n",
    "\n",
    "Now that we have removed frames where there were a low number of detections (presumably from clouds) we now want to remove sources that don't appear in most of the frames."
   ]
  },
  {
   "cell_type": "code",
   "execution_count": 15,
   "metadata": {},
   "outputs": [
    {
     "name": "stdout",
     "output_type": "stream",
     "text": [
      "Total frames: 91 Min cutout: 81\n",
      "time: 1.27 s\n"
     ]
    }
   ],
   "source": [
    "frame_count = observation_sources.groupby('picid').count().file\n",
    "min_frame_count = int(frame_count.max() * .9)\n",
    "\n",
    "print(f'Total frames: {frame_count.max()} Min cutout: {min_frame_count}')"
   ]
  },
  {
   "cell_type": "code",
   "execution_count": null,
   "metadata": {},
   "outputs": [],
   "source": [
    "frame_count"
   ]
  },
  {
   "cell_type": "code",
   "execution_count": 16,
   "metadata": {},
   "outputs": [
    {
     "data": {
      "text/plain": [
       "Text(0.5, 1.0, 'Total number of frames')"
      ]
     },
     "execution_count": 16,
     "metadata": {},
     "output_type": "execute_result"
    },
    {
     "data": {
      "image/png": "[encoded data removed]",
      "text/plain": [
       "<Figure size 432x288 with 1 Axes>"
      ]
     },
     "metadata": {
      "needs_background": "light"
     },
     "output_type": "display_data"
    },
    {
     "name": "stdout",
     "output_type": "stream",
     "text": [
      "time: 237 ms\n"
     ]
    }
   ],
   "source": [
    "# Show a sample of the source count\n",
    "frame_count.hist()\n",
    "plt.xlabel('Number of frames')\n",
    "plt.ylabel('Sources count')\n",
    "plt.title('Total number of frames')"
   ]
  },
  {
   "cell_type": "code",
   "execution_count": 17,
   "metadata": {},
   "outputs": [
    {
     "name": "stdout",
     "output_type": "stream",
     "text": [
      "time: 1min 26s\n"
     ]
    }
   ],
   "source": [
    "# Filter out the sources where the number of frames is less than min_frame_count\n",
    "observation_sources = observation_sources.groupby('picid').filter(lambda grp: grp.count()['file'] >= min_frame_count)"
   ]
  },
  {
   "cell_type": "code",
   "execution_count": 18,
   "metadata": {},
   "outputs": [
    {
     "name": "stdout",
     "output_type": "stream",
     "text": [
      "Frames: 91 Sources: 32617\n",
      "time: 308 ms\n"
     ]
    }
   ],
   "source": [
    "num_frames = len(observation_sources.index.unique())\n",
    "num_sources = len(set(observation_sources.picid))\n",
    "print(f\"Frames: {num_frames} Sources: {num_sources}\")"
   ]
  },
  {
   "cell_type": "markdown",
   "metadata": {},
   "source": [
    "#### Filter frames by manual time-clipping\n",
    "\n",
    "For now we are going to simply manually remove the frames after a certain time that was visually identified with cloud cover."
   ]
  },
  {
   "cell_type": "code",
   "execution_count": null,
   "metadata": {},
   "outputs": [],
   "source": [
    "observation_sources = observation_sources.loc[observation_sources.index.levels[1] < '2018-08-22 07:10:00']"
   ]
  },
  {
   "cell_type": "markdown",
   "metadata": {},
   "source": [
    "#### Filter frames by Sigma-clip\n",
    "\n",
    "We can sigma clip the frames based on the mean background value, removing any frame that deviate wildly from the rest of the sequence."
   ]
  },
  {
   "cell_type": "code",
   "execution_count": null,
   "metadata": {},
   "outputs": [],
   "source": [
    "back_mean, back_median, back_std = sigma_clipped_stats(image_group.background.mean())\n",
    "\n",
    "observation_sources = observation_sources.groupby('obs_time').filter(lambda grp: np.abs(grp['background'].mean() - back_mean) <= 3 * back_std )\n",
    "\n",
    "num_frames = len(observation_sources.index.unique())"
   ]
  },
  {
   "cell_type": "code",
   "execution_count": null,
   "metadata": {},
   "outputs": [],
   "source": [
    "num_frames = len(observation_sources.index.levels[1].unique())\n",
    "num_sources = len(observation_sources.index.levels[0].unique())\n",
    "print(f\"Frames: {num_frames} Sources: {num_sources}\")"
   ]
  },
  {
   "cell_type": "code",
   "execution_count": null,
   "metadata": {},
   "outputs": [],
   "source": [
    "plt.figure(figsize=(6, 4.5))\n",
    "plt.plot(observation_sources.groupby('obs_time').background.mean().values, label='Mean Background')\n",
    "plt.title(f'Background Mean')\n",
    "plt.legend()"
   ]
  },
  {
   "cell_type": "markdown",
   "metadata": {},
   "source": [
    "#### Source filtering\n",
    "\n",
    "`sextractor` does basic thresholding and source detection per frame but here we filter sources based off the entire image sequence. The simplest filter is to get all the images with a certain SNR limit (default 10). A filter for source extractor flags can also be used.\n",
    "\n",
    "> Note: There has been a manual selection of images (see above) for overall data quality. Some kind of image quality check (e.g. drifting zeropoint) could help automate this"
   ]
  },
  {
   "cell_type": "code",
   "execution_count": 19,
   "metadata": {},
   "outputs": [
    {
     "name": "stdout",
     "output_type": "stream",
     "text": [
      "Frames: 91 Sources: 32617\n",
      "time: 305 ms\n"
     ]
    }
   ],
   "source": [
    "num_frames = len(observation_sources.index.unique())\n",
    "num_sources = len(set(observation_sources.picid))\n",
    "print(f\"Frames: {num_frames} Sources: {num_sources}\")"
   ]
  },
  {
   "cell_type": "markdown",
   "metadata": {},
   "source": [
    "#### sextractor flags filter\n",
    "\n",
    "Filter out anything with [SE flags](http://matilda.physics.ucdavis.edu/working/website/SEflags.html) of 4 or more. Note that this is leaving in some blended sources "
   ]
  },
  {
   "cell_type": "code",
   "execution_count": 20,
   "metadata": {},
   "outputs": [
    {
     "name": "stdout",
     "output_type": "stream",
     "text": [
      "time: 17.2 s\n"
     ]
    }
   ],
   "source": [
    "observation_sources = observation_sources.groupby('picid').filter(lambda grp: all(grp['flags'] < 4))"
   ]
  },
  {
   "cell_type": "code",
   "execution_count": 21,
   "metadata": {},
   "outputs": [
    {
     "name": "stdout",
     "output_type": "stream",
     "text": [
      "Frames: 91 Sources: 32495\n",
      "time: 323 ms\n"
     ]
    }
   ],
   "source": [
    "num_frames = len(observation_sources.index.unique())\n",
    "num_sources = len(set(observation_sources.picid))\n",
    "print(f\"Frames: {num_frames} Sources: {num_sources}\")"
   ]
  },
  {
   "cell_type": "markdown",
   "metadata": {},
   "source": [
    "##### SNR Filter\n",
    "\n",
    "The SNR comes directly from `sextractor` in the form of `FLUX_AUTO / FLUXERR_AUTO`."
   ]
  },
  {
   "cell_type": "code",
   "execution_count": 22,
   "metadata": {},
   "outputs": [
    {
     "name": "stdout",
     "output_type": "stream",
     "text": [
      "time: 19.5 s\n"
     ]
    }
   ],
   "source": [
    "snr_limit = 10\n",
    "\n",
    "high_snr = lambda grp: (grp['flux_best'] / grp['fluxerr_best']).mean() > snr_limit\n",
    "\n",
    "observation_sources = observation_sources.groupby('picid').filter(high_snr)"
   ]
  },
  {
   "cell_type": "code",
   "execution_count": 23,
   "metadata": {},
   "outputs": [
    {
     "name": "stdout",
     "output_type": "stream",
     "text": [
      "Frames: 91 Sources: 16458\n",
      "time: 146 ms\n"
     ]
    }
   ],
   "source": [
    "num_frames = len(observation_sources.index.unique())\n",
    "num_sources = len(set(observation_sources.picid))\n",
    "print(f\"Frames: {num_frames} Sources: {num_sources}\")"
   ]
  },
  {
   "cell_type": "markdown",
   "metadata": {},
   "source": [
    "#### FWHM Filter\n",
    "\n",
    "We also want to get rid of the stars where `sextractor` reports a large FWHM. This could be refined but for now we do a simple cut."
   ]
  },
  {
   "cell_type": "code",
   "execution_count": 24,
   "metadata": {},
   "outputs": [
    {
     "name": "stdout",
     "output_type": "stream",
     "text": [
      "time: 6.71 s\n"
     ]
    }
   ],
   "source": [
    "fwhm_limit = 5\n",
    "\n",
    "low_fwhm = lambda grp: (grp['fwhm_image']).mean() <= fwhm_limit\n",
    "\n",
    "observation_sources = observation_sources.groupby('picid').filter(low_fwhm)"
   ]
  },
  {
   "cell_type": "code",
   "execution_count": 25,
   "metadata": {},
   "outputs": [
    {
     "name": "stdout",
     "output_type": "stream",
     "text": [
      "Frames: 91 Sources: 10614\n",
      "time: 91.9 ms\n"
     ]
    }
   ],
   "source": [
    "num_frames = len(observation_sources.index.unique())\n",
    "num_sources = len(set(observation_sources.picid))\n",
    "print(f\"Frames: {num_frames} Sources: {num_sources}\")"
   ]
  },
  {
   "cell_type": "markdown",
   "metadata": {},
   "source": [
    "#### Output filtered source detections\n",
    "\n",
    "We save this filtered file to be used for subsequent processing."
   ]
  },
  {
   "cell_type": "code",
   "execution_count": 26,
   "metadata": {},
   "outputs": [
    {
     "name": "stdout",
     "output_type": "stream",
     "text": [
      "time: 599 µs\n"
     ]
    }
   ],
   "source": [
    "filtered_filename = os.path.join(base_dir, f'point-sources-filtered.csv.bz2')"
   ]
  },
  {
   "cell_type": "code",
   "execution_count": 27,
   "metadata": {},
   "outputs": [
    {
     "name": "stdout",
     "output_type": "stream",
     "text": [
      "time: 59.7 s\n"
     ]
    }
   ],
   "source": [
    "observation_sources.to_csv(filtered_filename, compression='bz2')"
   ]
  },
  {
   "cell_type": "code",
   "execution_count": 28,
   "metadata": {},
   "outputs": [
    {
     "name": "stdout",
     "output_type": "stream",
     "text": [
      "-rw-r--r-- 1 wtylergee wtylergee 68M Dec 19 03:46 \u001b[0m\u001b[01;31m/var/panoptes/images/fields/PAN001/Hd189733/ee04d1/20180913T085704/point-sources-filtered.csv.bz2\u001b[0m\u001b[K\n",
      "time: 165 ms\n"
     ]
    }
   ],
   "source": [
    "ls -lh $filtered_filename"
   ]
  }
 ],
 "metadata": {
  "kernelspec": {
   "display_name": "Python 3",
   "language": "python",
   "name": "python3"
  },
  "language_info": {
   "codemirror_mode": {
    "name": "ipython",
    "version": 3
   },
   "file_extension": ".py",
   "mimetype": "text/x-python",
   "name": "python",
   "nbconvert_exporter": "python",
   "pygments_lexer": "ipython3",
   "version": "3.6.7"
  }
 },
 "nbformat": 4,
 "nbformat_minor": 2
}
