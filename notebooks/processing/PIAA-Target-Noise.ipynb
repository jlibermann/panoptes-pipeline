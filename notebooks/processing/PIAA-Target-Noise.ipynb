{
 "cells": [
  {
   "cell_type": "code",
   "execution_count": 1,
   "metadata": {},
   "outputs": [],
   "source": [
    "%load_ext autotime"
   ]
  },
  {
   "cell_type": "markdown",
   "metadata": {},
   "source": [
    "# Examine Target\n",
    "\n",
    "This notebook look at some of the properties for a specific target as pulled from the sources listed generated in the [Source Detection](PIAA-Source-Detection-And-Filtering.ipynb) notebook. \n",
    "\n",
    "Note that this step is not necessary for the processing of an observation sequence as a whole but instead serves to highlight some of the issues with processing the images in a traditional fashion and thus helps motivate our unique algorithm."
   ]
  },
  {
   "cell_type": "code",
   "execution_count": 2,
   "metadata": {},
   "outputs": [
    {
     "name": "stdout",
     "output_type": "stream",
     "text": [
      "time: 3.2 s\n"
     ]
    }
   ],
   "source": [
    "import os\n",
    "\n",
    "from matplotlib import cm\n",
    "from matplotlib import pyplot as plt\n",
    "plt.style.use('bmh')\n",
    "\n",
    "import numpy as np\n",
    "import pandas as pd\n",
    "from collections import defaultdict\n",
    "\n",
    "from tqdm import tqdm_notebook as tqdm\n",
    "\n",
    "from piaa.utils import pipeline\n",
    "from piaa.utils import helpers\n",
    "from piaa.utils import plot\n",
    "from piaa.utils.postgres import get_cursor\n",
    "from piaa.utils import noise\n",
    "\n",
    "from pocs.utils.images import fits as fits_utils\n",
    "from pocs.utils.google.storage import PanStorage\n",
    "\n",
    "from astropy.io import fits\n",
    "from astropy.stats import sigma_clip, sigma_clipped_stats\n",
    "from astropy import units as u\n",
    "\n",
    "tess_cursor = get_cursor(port=5433, db_name='v6', db_user='postgres')\n",
    "\n",
    "styles = plot.get_labelled_style_cycler(cmap='Paired')"
   ]
  },
  {
   "cell_type": "markdown",
   "metadata": {},
   "source": [
    "## Specify Target\n",
    "\n",
    "Here we look up the target HD189733 by the 2MASS ID."
   ]
  },
  {
   "cell_type": "code",
   "execution_count": 57,
   "metadata": {},
   "outputs": [
    {
     "name": "stdout",
     "output_type": "stream",
     "text": [
      "time: 45.5 ms\n"
     ]
    }
   ],
   "source": [
    "# picid = 435715608\n",
    "# picid = 287933433\n",
    "picid = 287511722\n",
    "# picid = 393243342\n",
    "# picid = 343362027 # Hot pixel?\n",
    "# picid = 11133916  # Same mag as HD189733\n",
    "# picid = 86234511\n",
    "# picid = helpers.get_star_info(twomass_id='20005694+2250490', cursor=tess_cursor).id\n",
    "# picid = 11135315\n",
    "\n",
    "star_info = helpers.get_star_info(picid=picid, cursor=tess_cursor)"
   ]
  },
  {
   "cell_type": "code",
   "execution_count": 62,
   "metadata": {},
   "outputs": [
    {
     "name": "stdout",
     "output_type": "stream",
     "text": [
      "time: 44.9 ms\n"
     ]
    }
   ],
   "source": [
    "twomass = '20004370+2242391'\n",
    "\n",
    "star_info = helpers.get_star_info(twomass_id=twomass, cursor=tess_cursor)\n",
    "picid = star_info.id  # HD 189733"
   ]
  },
  {
   "cell_type": "code",
   "execution_count": 63,
   "metadata": {},
   "outputs": [
    {
     "name": "stdout",
     "output_type": "stream",
     "text": [
      "PICID: 256364928\n",
      "time: 788 µs\n"
     ]
    }
   ],
   "source": [
    "print(f'PICID: {picid}')"
   ]
  },
  {
   "cell_type": "markdown",
   "metadata": {},
   "source": [
    "#### Observation sources\n",
    "\n",
    "We use the previously detected and filtered sources to examine our target. See the [Source-Detection](Source-Detection-And-Filtering.ipynb) for details."
   ]
  },
  {
   "cell_type": "code",
   "execution_count": 6,
   "metadata": {},
   "outputs": [
    {
     "name": "stdout",
     "output_type": "stream",
     "text": [
      "time: 949 ms\n"
     ]
    }
   ],
   "source": [
    "base_dir = '/var/panoptes/images/fields/PAN012/358d0f/20180822T035809/'\n",
    "# base_dir = '/var/panoptes/images/fields/PAN001/Hd189733/14d3bd/20180913T085704/'\n",
    "source_filename = os.path.join(base_dir, f'point-sources-filtered.csv')\n",
    "\n",
    "sources = pipeline.lookup_sources_for_observation(filename=source_filename).set_index(['picid'], append=True)"
   ]
  },
  {
   "cell_type": "markdown",
   "metadata": {},
   "source": [
    "For our target table we want to compare the flux as calculated from `sextractor` (which has no knowledge of the RGB array) with that pulled from a custom stamp.  `sextractor` uses a 6-pixel circular aperture  centered around the calculated centroid (the `x` and `y` values in our `sources` table) while our custom stamps will use an aperture that is sliced according to our rule of having a fixed pixel pattern. Here we use a 6-pixel aperture on our stamps for direct comparison with `sextractor` but the size can be vary."
   ]
  },
  {
   "cell_type": "code",
   "execution_count": 7,
   "metadata": {},
   "outputs": [
    {
     "name": "stdout",
     "output_type": "stream",
     "text": [
      "time: 2.67 ms\n"
     ]
    }
   ],
   "source": [
    "camera_bias = 2048 * u.adu\n",
    "stamp_size = 6 * u.pixel\n",
    "num_pixels = (stamp_size**2).value\n",
    "\n",
    "readout_noise = 10.5 * u.electron / u.pixel\n",
    "gain = 1.5 * (u.electron / u.adu)\n",
    "qe = 0.43\n",
    "\n",
    "focal_length = 85 * u.mm\n",
    "fstop = 1.4\n",
    "\n",
    "aperture_area = focal_length / fstop\n",
    "aperture_area = (np.pi * (aperture_area / 2)**2).to(u.m * u.m)"
   ]
  },
  {
   "cell_type": "code",
   "execution_count": 8,
   "metadata": {},
   "outputs": [
    {
     "name": "stdout",
     "output_type": "stream",
     "text": [
      "time: 743 µs\n"
     ]
    }
   ],
   "source": [
    "num_sources = len(sources.index.levels[1])"
   ]
  },
  {
   "cell_type": "code",
   "execution_count": 9,
   "metadata": {},
   "outputs": [
    {
     "data": {
      "application/vnd.jupyter.widget-view+json": {
       "model_id": "51f156f115c0456d84617ff75e66f6cf",
       "version_major": 2,
       "version_minor": 0
      },
      "text/plain": [
       "HBox(children=(IntProgress(value=0, max=847), HTML(value='')))"
      ]
     },
     "metadata": {},
     "output_type": "display_data"
    },
    {
     "name": "stdout",
     "output_type": "stream",
     "text": [
      "\n",
      "time: 54min 25s\n"
     ]
    }
   ],
   "source": [
    "counts = list()\n",
    "\n",
    "i = 0\n",
    "for pid, target_table in tqdm(sources.groupby('picid'), total=num_sources):\n",
    "    i += 1\n",
    "#     if i > 10:\n",
    "#         break\n",
    "    psc = pd.read_csv(os.path.join(base_dir, 'stamps', f'{pid}.csv'), parse_dates=True).set_index(['obs_time', 'picid'])\n",
    "    \n",
    "    for idx, row in psc.iterrows():\n",
    "        date_obs= idx[0]\n",
    "        stamp = row.values.reshape(10, 10) - camera_bias.value\n",
    "        \n",
    "        row_info = dict(date_obs=date_obs, picid=pid)\n",
    "\n",
    "        # Store the overall flux count\n",
    "        flux_stamp = stamp.sum()\n",
    "        row_info['stamp'] = flux_stamp\n",
    "        \n",
    "        stamp_mean, stamp_med, stamp_std = sigma_clipped_stats(stamp)\n",
    "        row_info['stamp_back_mean'] = stamp_mean\n",
    "        row_info['stamp_back_std'] = stamp_std\n",
    "        \n",
    "        color_data = helpers.get_rgb_data(stamp, force_new=True)\n",
    "\n",
    "        # Calculate some properties for each channel\n",
    "        for color, data in zip('rgb', color_data):\n",
    "            # Total sum of stamp\n",
    "            stamp_sum = int(data.sum())\n",
    "            \n",
    "            # Background noise\n",
    "            back_mean, back_med, back_std = sigma_clipped_stats(data)\n",
    "            row_info[f'{color}_back_mean'] = back_mean\n",
    "            row_info[f'{color}_back_std'] = back_std\n",
    "            \n",
    "            stamp_sum = (data - back_mean).sum()\n",
    "            \n",
    "            if stamp_sum <= 0:\n",
    "#                 print(f'Negative stamp: {pid} {color} {date_obs} {stamp_sum}')\n",
    "                continue\n",
    "                \n",
    "            row_info[f'{color}_raw'] = data.sum()\n",
    "            row_info[f'{color}_stamp'] = stamp_sum\n",
    "\n",
    "            # Photon noise\n",
    "            count_noise = int(np.sqrt(stamp_sum))\n",
    "            row_info[f'{color}_stamp_noise'] = count_noise\n",
    "\n",
    "            # Readout noise\n",
    "            readout = ((readout_noise / gain) * (data.count() * u.pixel)).value\n",
    "            row_info[f'{color}_readout_noise'] = readout\n",
    "            \n",
    "        counts.append(row_info)\n",
    "\n",
    "df1 = pd.DataFrame(counts).set_index(['date_obs'])\n",
    "df1.index = pd.to_datetime(df1.index)\n",
    "df1.to_csv(os.path.join(base_dir, f'point-sources-noise.csv'))"
   ]
  },
  {
   "cell_type": "code",
   "execution_count": 64,
   "metadata": {},
   "outputs": [
    {
     "name": "stdout",
     "output_type": "stream",
     "text": [
      "time: 8.01 ms\n"
     ]
    }
   ],
   "source": [
    "target_noise = df1.loc[df1.picid == picid]"
   ]
  },
  {
   "cell_type": "code",
   "execution_count": 65,
   "metadata": {},
   "outputs": [
    {
     "data": {
      "text/html": [
       "<div>\n",
       "<style scoped>\n",
       "    .dataframe tbody tr th:only-of-type {\n",
       "        vertical-align: middle;\n",
       "    }\n",
       "\n",
       "    .dataframe tbody tr th {\n",
       "        vertical-align: top;\n",
       "    }\n",
       "\n",
       "    .dataframe thead th {\n",
       "        text-align: right;\n",
       "    }\n",
       "</style>\n",
       "<table border=\"1\" class=\"dataframe\">\n",
       "  <thead>\n",
       "    <tr style=\"text-align: right;\">\n",
       "      <th></th>\n",
       "      <th>b_back_mean</th>\n",
       "      <th>b_back_std</th>\n",
       "      <th>b_readout_noise</th>\n",
       "      <th>b_stamp</th>\n",
       "      <th>b_stamp_noise</th>\n",
       "      <th>g_back_mean</th>\n",
       "      <th>g_back_std</th>\n",
       "      <th>g_readout_noise</th>\n",
       "      <th>g_stamp</th>\n",
       "      <th>g_stamp_noise</th>\n",
       "      <th>picid</th>\n",
       "      <th>r_back_mean</th>\n",
       "      <th>r_back_std</th>\n",
       "      <th>r_readout_noise</th>\n",
       "      <th>r_stamp</th>\n",
       "      <th>r_stamp_noise</th>\n",
       "      <th>stamp</th>\n",
       "      <th>stamp_back_mean</th>\n",
       "      <th>stamp_back_std</th>\n",
       "    </tr>\n",
       "    <tr>\n",
       "      <th>date_obs</th>\n",
       "      <th></th>\n",
       "      <th></th>\n",
       "      <th></th>\n",
       "      <th></th>\n",
       "      <th></th>\n",
       "      <th></th>\n",
       "      <th></th>\n",
       "      <th></th>\n",
       "      <th></th>\n",
       "      <th></th>\n",
       "      <th></th>\n",
       "      <th></th>\n",
       "      <th></th>\n",
       "      <th></th>\n",
       "      <th></th>\n",
       "      <th></th>\n",
       "      <th></th>\n",
       "      <th></th>\n",
       "      <th></th>\n",
       "    </tr>\n",
       "  </thead>\n",
       "  <tbody>\n",
       "    <tr>\n",
       "      <th>2018-08-22 04:02:02</th>\n",
       "      <td>1307.869565</td>\n",
       "      <td>159.068841</td>\n",
       "      <td>175.0</td>\n",
       "      <td>5142.260870</td>\n",
       "      <td>71.0</td>\n",
       "      <td>2044.750000</td>\n",
       "      <td>267.051419</td>\n",
       "      <td>350.0</td>\n",
       "      <td>13589.500000</td>\n",
       "      <td>116.0</td>\n",
       "      <td>256364928</td>\n",
       "      <td>1022.714286</td>\n",
       "      <td>107.329995</td>\n",
       "      <td>175.0</td>\n",
       "      <td>4930.142857</td>\n",
       "      <td>70.0</td>\n",
       "      <td>184164.0</td>\n",
       "      <td>1694.979167</td>\n",
       "      <td>582.931564</td>\n",
       "    </tr>\n",
       "    <tr>\n",
       "      <th>2018-08-22 04:07:23</th>\n",
       "      <td>1044.500000</td>\n",
       "      <td>120.149433</td>\n",
       "      <td>175.0</td>\n",
       "      <td>6840.500000</td>\n",
       "      <td>82.0</td>\n",
       "      <td>2050.800000</td>\n",
       "      <td>295.419671</td>\n",
       "      <td>350.0</td>\n",
       "      <td>12582.000000</td>\n",
       "      <td>112.0</td>\n",
       "      <td>256364928</td>\n",
       "      <td>1247.428571</td>\n",
       "      <td>120.992944</td>\n",
       "      <td>175.0</td>\n",
       "      <td>4457.285714</td>\n",
       "      <td>66.0</td>\n",
       "      <td>183718.0</td>\n",
       "      <td>1675.656250</td>\n",
       "      <td>563.494839</td>\n",
       "    </tr>\n",
       "    <tr>\n",
       "      <th>2018-08-22 04:09:11</th>\n",
       "      <td>1006.000000</td>\n",
       "      <td>86.170761</td>\n",
       "      <td>175.0</td>\n",
       "      <td>6439.000000</td>\n",
       "      <td>80.0</td>\n",
       "      <td>2026.431818</td>\n",
       "      <td>283.815593</td>\n",
       "      <td>350.0</td>\n",
       "      <td>12800.409091</td>\n",
       "      <td>113.0</td>\n",
       "      <td>256364928</td>\n",
       "      <td>1233.047619</td>\n",
       "      <td>107.179634</td>\n",
       "      <td>175.0</td>\n",
       "      <td>5063.809524</td>\n",
       "      <td>71.0</td>\n",
       "      <td>181601.0</td>\n",
       "      <td>1652.410526</td>\n",
       "      <td>550.381121</td>\n",
       "    </tr>\n",
       "    <tr>\n",
       "      <th>2018-08-22 04:10:58</th>\n",
       "      <td>1231.000000</td>\n",
       "      <td>117.242118</td>\n",
       "      <td>175.0</td>\n",
       "      <td>5381.000000</td>\n",
       "      <td>73.0</td>\n",
       "      <td>2067.297872</td>\n",
       "      <td>363.569181</td>\n",
       "      <td>350.0</td>\n",
       "      <td>10102.106383</td>\n",
       "      <td>100.0</td>\n",
       "      <td>256364928</td>\n",
       "      <td>1029.363636</td>\n",
       "      <td>144.916762</td>\n",
       "      <td>175.0</td>\n",
       "      <td>5597.909091</td>\n",
       "      <td>74.0</td>\n",
       "      <td>180955.0</td>\n",
       "      <td>1641.526316</td>\n",
       "      <td>549.544057</td>\n",
       "    </tr>\n",
       "    <tr>\n",
       "      <th>2018-08-22 04:12:46</th>\n",
       "      <td>1250.863636</td>\n",
       "      <td>134.456920</td>\n",
       "      <td>175.0</td>\n",
       "      <td>5684.409091</td>\n",
       "      <td>75.0</td>\n",
       "      <td>1997.795455</td>\n",
       "      <td>297.846863</td>\n",
       "      <td>350.0</td>\n",
       "      <td>13604.227273</td>\n",
       "      <td>116.0</td>\n",
       "      <td>256364928</td>\n",
       "      <td>1040.652174</td>\n",
       "      <td>178.195937</td>\n",
       "      <td>175.0</td>\n",
       "      <td>3891.695652</td>\n",
       "      <td>62.0</td>\n",
       "      <td>180358.0</td>\n",
       "      <td>1663.177083</td>\n",
       "      <td>604.384759</td>\n",
       "    </tr>\n",
       "  </tbody>\n",
       "</table>\n",
       "</div>"
      ],
      "text/plain": [
       "                     b_back_mean  b_back_std  b_readout_noise      b_stamp  \\\n",
       "date_obs                                                                     \n",
       "2018-08-22 04:02:02  1307.869565  159.068841            175.0  5142.260870   \n",
       "2018-08-22 04:07:23  1044.500000  120.149433            175.0  6840.500000   \n",
       "2018-08-22 04:09:11  1006.000000   86.170761            175.0  6439.000000   \n",
       "2018-08-22 04:10:58  1231.000000  117.242118            175.0  5381.000000   \n",
       "2018-08-22 04:12:46  1250.863636  134.456920            175.0  5684.409091   \n",
       "\n",
       "                     b_stamp_noise  g_back_mean  g_back_std  g_readout_noise  \\\n",
       "date_obs                                                                       \n",
       "2018-08-22 04:02:02           71.0  2044.750000  267.051419            350.0   \n",
       "2018-08-22 04:07:23           82.0  2050.800000  295.419671            350.0   \n",
       "2018-08-22 04:09:11           80.0  2026.431818  283.815593            350.0   \n",
       "2018-08-22 04:10:58           73.0  2067.297872  363.569181            350.0   \n",
       "2018-08-22 04:12:46           75.0  1997.795455  297.846863            350.0   \n",
       "\n",
       "                          g_stamp  g_stamp_noise      picid  r_back_mean  \\\n",
       "date_obs                                                                   \n",
       "2018-08-22 04:02:02  13589.500000          116.0  256364928  1022.714286   \n",
       "2018-08-22 04:07:23  12582.000000          112.0  256364928  1247.428571   \n",
       "2018-08-22 04:09:11  12800.409091          113.0  256364928  1233.047619   \n",
       "2018-08-22 04:10:58  10102.106383          100.0  256364928  1029.363636   \n",
       "2018-08-22 04:12:46  13604.227273          116.0  256364928  1040.652174   \n",
       "\n",
       "                     r_back_std  r_readout_noise      r_stamp  r_stamp_noise  \\\n",
       "date_obs                                                                       \n",
       "2018-08-22 04:02:02  107.329995            175.0  4930.142857           70.0   \n",
       "2018-08-22 04:07:23  120.992944            175.0  4457.285714           66.0   \n",
       "2018-08-22 04:09:11  107.179634            175.0  5063.809524           71.0   \n",
       "2018-08-22 04:10:58  144.916762            175.0  5597.909091           74.0   \n",
       "2018-08-22 04:12:46  178.195937            175.0  3891.695652           62.0   \n",
       "\n",
       "                        stamp  stamp_back_mean  stamp_back_std  \n",
       "date_obs                                                        \n",
       "2018-08-22 04:02:02  184164.0      1694.979167      582.931564  \n",
       "2018-08-22 04:07:23  183718.0      1675.656250      563.494839  \n",
       "2018-08-22 04:09:11  181601.0      1652.410526      550.381121  \n",
       "2018-08-22 04:10:58  180955.0      1641.526316      549.544057  \n",
       "2018-08-22 04:12:46  180358.0      1663.177083      604.384759  "
      ]
     },
     "execution_count": 65,
     "metadata": {},
     "output_type": "execute_result"
    },
    {
     "name": "stdout",
     "output_type": "stream",
     "text": [
      "time: 26.9 ms\n"
     ]
    }
   ],
   "source": [
    "target_noise.head()"
   ]
  },
  {
   "cell_type": "code",
   "execution_count": 66,
   "metadata": {},
   "outputs": [
    {
     "data": {
      "text/plain": [
       "<matplotlib.legend.Legend at 0x7fca182a9908>"
      ]
     },
     "execution_count": 66,
     "metadata": {},
     "output_type": "execute_result"
    },
    {
     "data": {
      "image/png": "[encoded data removed]",
      "text/plain": [
       "<Figure size 864x648 with 1 Axes>"
      ]
     },
     "metadata": {
      "needs_background": "light"
     },
     "output_type": "display_data"
    },
    {
     "name": "stdout",
     "output_type": "stream",
     "text": [
      "time: 764 ms\n"
     ]
    }
   ],
   "source": [
    "plt.figure(figsize=(12, 9))\n",
    "for color in 'rgb':\n",
    "    color_err = np.sqrt(target_noise[f'{color}_back_std']**2 + target_noise[f'{color}_readout_noise']**2 + target_noise[f'{color}_stamp_noise']**2)\n",
    "\n",
    "#     plt.figure(figsize=(12, 9))\n",
    "    target_noise[f'{color}_stamp'].plot(ls='', marker='o', yerr=color_err, color=color, label=f'{color} sum')\n",
    "    target_noise[f'{color}_back_mean'].plot(color=color, ls='--', label=f'{color} background')\n",
    "\n",
    "plt.ylabel('Counts')\n",
    "plt.title('Aperure sums')\n",
    "plt.legend()"
   ]
  },
  {
   "cell_type": "code",
   "execution_count": null,
   "metadata": {},
   "outputs": [],
   "source": []
  }
 ],
 "metadata": {
  "kernelspec": {
   "display_name": "Python 3",
   "language": "python",
   "name": "python3"
  },
  "language_info": {
   "codemirror_mode": {
    "name": "ipython",
    "version": 3
   },
   "file_extension": ".py",
   "mimetype": "text/x-python",
   "name": "python",
   "nbconvert_exporter": "python",
   "pygments_lexer": "ipython3",
   "version": "3.6.6"
  }
 },
 "nbformat": 4,
 "nbformat_minor": 2
}
