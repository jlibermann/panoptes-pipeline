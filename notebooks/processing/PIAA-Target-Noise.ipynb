{
 "cells": [
  {
   "cell_type": "code",
   "execution_count": 1,
   "metadata": {},
   "outputs": [],
   "source": [
    "%load_ext autotime"
   ]
  },
  {
   "cell_type": "markdown",
   "metadata": {},
   "source": [
    "# Examine Target\n",
    "\n",
    "This notebook look at some of the properties for a specific target as pulled from the sources listed generated in the [Source Detection](PIAA-Source-Detection-And-Filtering.ipynb) notebook. \n",
    "\n",
    "Note that this step is not necessary for the processing of an observation sequence as a whole but instead serves to highlight some of the issues with processing the images in a traditional fashion and thus helps motivate our unique algorithm."
   ]
  },
  {
   "cell_type": "code",
   "execution_count": 2,
   "metadata": {},
   "outputs": [
    {
     "name": "stdout",
     "output_type": "stream",
     "text": [
      "time: 2.54 s\n"
     ]
    }
   ],
   "source": [
    "import os\n",
    "\n",
    "from matplotlib import cm\n",
    "from matplotlib import pyplot as plt\n",
    "plt.style.use('bmh')\n",
    "\n",
    "import numpy as np\n",
    "import pandas as pd\n",
    "from collections import defaultdict\n",
    "\n",
    "from tqdm import tqdm_notebook as tqdm\n",
    "\n",
    "from piaa.utils import pipeline\n",
    "from piaa.utils import helpers\n",
    "from piaa.utils import plot\n",
    "from piaa.utils.postgres import get_cursor\n",
    "from piaa.utils import noise\n",
    "\n",
    "from pocs.utils.images import fits as fits_utils\n",
    "from pocs.utils.google.storage import PanStorage\n",
    "\n",
    "from astropy.io import fits\n",
    "from astropy.stats import sigma_clip, sigma_clipped_stats\n",
    "from astropy import units as u\n",
    "\n",
    "tess_cursor = get_cursor(port=5433, db_name='v6', db_user='postgres')\n",
    "\n",
    "styles = plot.get_labelled_style_cycler(cmap='Paired')"
   ]
  },
  {
   "cell_type": "markdown",
   "metadata": {},
   "source": [
    "## Specify Target\n",
    "\n",
    "Here we look up the target HD189733 by the 2MASS ID."
   ]
  },
  {
   "cell_type": "code",
   "execution_count": 3,
   "metadata": {},
   "outputs": [
    {
     "name": "stdout",
     "output_type": "stream",
     "text": [
      "time: 85.8 ms\n"
     ]
    }
   ],
   "source": [
    "# picid = 435715608\n",
    "# picid = 287933433\n",
    "picid = 287511722\n",
    "# picid = 393243342\n",
    "# picid = 343362027 # Hot pixel?\n",
    "# picid = 11133916  # Same mag as HD189733\n",
    "# picid = 86234511\n",
    "# picid = helpers.get_star_info(twomass_id='20005694+2250490', cursor=tess_cursor).id\n",
    "# picid = 11135315\n",
    "\n",
    "star_info = helpers.get_star_info(picid=picid, cursor=tess_cursor)"
   ]
  },
  {
   "cell_type": "code",
   "execution_count": 4,
   "metadata": {},
   "outputs": [
    {
     "name": "stdout",
     "output_type": "stream",
     "text": [
      "time: 45.4 ms\n"
     ]
    }
   ],
   "source": [
    "twomass = '20004370+2242391'\n",
    "\n",
    "star_info = helpers.get_star_info(twomass_id=twomass, cursor=tess_cursor)\n",
    "picid = star_info.id  # HD 189733"
   ]
  },
  {
   "cell_type": "code",
   "execution_count": 5,
   "metadata": {},
   "outputs": [
    {
     "name": "stdout",
     "output_type": "stream",
     "text": [
      "PICID: 256364928\n",
      "time: 686 µs\n"
     ]
    }
   ],
   "source": [
    "print(f'PICID: {picid}')"
   ]
  },
  {
   "cell_type": "markdown",
   "metadata": {},
   "source": [
    "#### Observation sources\n",
    "\n",
    "We use the previously detected and filtered sources to examine our target. See the [Source-Detection](Source-Detection-And-Filtering.ipynb) for details."
   ]
  },
  {
   "cell_type": "code",
   "execution_count": 6,
   "metadata": {},
   "outputs": [
    {
     "name": "stdout",
     "output_type": "stream",
     "text": [
      "time: 902 ms\n"
     ]
    }
   ],
   "source": [
    "base_dir = '/var/panoptes/images/fields/PAN012/358d0f/20180822T035809/'\n",
    "# base_dir = '/var/panoptes/images/fields/PAN001/Hd189733/14d3bd/20180913T085704/'\n",
    "source_filename = os.path.join(base_dir, f'point-sources-filtered.csv')\n",
    "\n",
    "sources = pipeline.lookup_sources_for_observation(filename=source_filename).set_index(['picid'], append=True)"
   ]
  },
  {
   "cell_type": "markdown",
   "metadata": {},
   "source": [
    "For our target table we want to compare the flux as calculated from `sextractor` (which has no knowledge of the RGB array) with that pulled from a custom stamp.  `sextractor` uses a 6-pixel circular aperture  centered around the calculated centroid (the `x` and `y` values in our `sources` table) while our custom stamps will use an aperture that is sliced according to our rule of having a fixed pixel pattern. Here we use a 6-pixel aperture on our stamps for direct comparison with `sextractor` but the size can be vary."
   ]
  },
  {
   "cell_type": "code",
   "execution_count": 7,
   "metadata": {},
   "outputs": [
    {
     "name": "stdout",
     "output_type": "stream",
     "text": [
      "time: 2.79 ms\n"
     ]
    }
   ],
   "source": [
    "camera_bias = 2048 * u.adu\n",
    "stamp_size = 6 * u.pixel\n",
    "num_pixels = (stamp_size**2).value\n",
    "\n",
    "readout_noise = 10.5 * u.electron / u.pixel\n",
    "gain = 1.5 * (u.electron / u.adu)\n",
    "qe = 0.43\n",
    "\n",
    "focal_length = 85 * u.mm\n",
    "fstop = 1.4\n",
    "\n",
    "aperture_area = focal_length / fstop\n",
    "aperture_area = (np.pi * (aperture_area / 2)**2).to(u.m * u.m)"
   ]
  },
  {
   "cell_type": "code",
   "execution_count": 17,
   "metadata": {},
   "outputs": [
    {
     "name": "stdout",
     "output_type": "stream",
     "text": [
      "time: 6.97 ms\n"
     ]
    }
   ],
   "source": [
    "exptime = fits_utils.getval(os.path.join(base_dir, sources.iloc[0].file), 'EXPTIME')"
   ]
  },
  {
   "cell_type": "code",
   "execution_count": 8,
   "metadata": {},
   "outputs": [
    {
     "name": "stdout",
     "output_type": "stream",
     "text": [
      "time: 1.09 ms\n"
     ]
    }
   ],
   "source": [
    "num_sources = len(sources.index.levels[1])"
   ]
  },
  {
   "cell_type": "code",
   "execution_count": 9,
   "metadata": {},
   "outputs": [
    {
     "data": {
      "application/vnd.jupyter.widget-view+json": {
       "model_id": "980686a719704c07a576ec20780cc1d5",
       "version_major": 2,
       "version_minor": 0
      },
      "text/plain": [
       "HBox(children=(IntProgress(value=0, max=847), HTML(value='')))"
      ]
     },
     "metadata": {},
     "output_type": "display_data"
    },
    {
     "name": "stdout",
     "output_type": "stream",
     "text": [
      "\n",
      "time: 45min 21s\n"
     ]
    }
   ],
   "source": [
    "counts = list()\n",
    "\n",
    "i = 0\n",
    "for pid, target_table in tqdm(sources.groupby('picid'), total=num_sources):\n",
    "    i += 1\n",
    "#     if i > 10:\n",
    "#         break\n",
    "    psc = pd.read_csv(os.path.join(base_dir, 'stamps', f'{pid}.csv'), parse_dates=True).set_index(['obs_time', 'picid'])\n",
    "    \n",
    "    for idx, row in psc.iterrows():\n",
    "        date_obs= idx[0]\n",
    "        row_info = dict(date_obs=date_obs, picid=pid)\n",
    "        \n",
    "        stamp_counts = row.values.reshape(10, 10) - camera_bias.value\n",
    "        stamp_electrons = stamp_counts * gain.value\n",
    "\n",
    "        # Store the overall flux\n",
    "        row_info['counts_raw'] = int(stamp_counts.sum())\n",
    "        row_info['elec_raw'] = stamp_electrons.sum()\n",
    "        \n",
    "        back_mean, back_median, back_std = sigma_clipped_stats(stamp_electrons)\n",
    "        row_info['elec_back_mean'] = back_mean\n",
    "        row_info['elec_back_std'] = back_std\n",
    "        \n",
    "        stamp_elec_calib = (stamp_electrons - back_mean).sum()\n",
    "        row_info['elec'] = stamp_elec_calib\n",
    "        \n",
    "        if stamp_elec_calib <=0:\n",
    "            continue\n",
    "        \n",
    "        # Photon noise\n",
    "        elec_noise = int(np.sqrt(stamp_elec_calib))\n",
    "        row_info[f'elec_noise'] = elec_noise\n",
    "\n",
    "        # Readout noise\n",
    "        readout = ((readout_noise) * (stamp_size**2)).value\n",
    "        row_info[f'readout_noise'] = readout        \n",
    "        \n",
    "        color_data = helpers.get_rgb_data(stamp_electrons, force_new=True)\n",
    "\n",
    "        # Calculate some properties for each channel\n",
    "        for color, color_electrons in zip('rgb', color_data):\n",
    "            # Background noise\n",
    "            back_mean, back_med, back_std = sigma_clipped_stats(color_electrons)\n",
    "            row_info[f'{color}_elec_back_mean'] = back_mean\n",
    "            row_info[f'{color}_elec_back_std'] = back_std\n",
    "            \n",
    "            stamp_sum = (color_electrons - back_mean).sum()\n",
    "            \n",
    "            if stamp_sum <= 0:\n",
    "#                 print(f'Negative stamp: {pid} {color} {date_obs} {stamp_sum}')\n",
    "                continue\n",
    "                \n",
    "            row_info[f'{color}_elec_raw'] = color_electrons.sum()\n",
    "            row_info[f'{color}_elec'] = stamp_sum\n",
    "\n",
    "            # Photon noise\n",
    "            count_noise = int(np.sqrt(stamp_sum))\n",
    "            row_info[f'{color}_elec_noise'] = count_noise\n",
    "\n",
    "            # Readout noise\n",
    "            readout = ((readout_noise) * (color_electrons.count() * u.pixel)).value\n",
    "            row_info[f'{color}_readout_noise'] = readout\n",
    "            \n",
    "            # Dark noise (see Zhang et al 2016)\n",
    "            dark_noise = 0.1 * exptime\n",
    "            row_info[f'{color}_dark'] = dark_noise\n",
    "            \n",
    "        counts.append(row_info)\n",
    "\n",
    "df1 = pd.DataFrame(counts).set_index(['date_obs'])\n",
    "df1.index = pd.to_datetime(df1.index)\n",
    "df1.to_csv(os.path.join(base_dir, f'point-sources-noise.csv'))"
   ]
  },
  {
   "cell_type": "code",
   "execution_count": 26,
   "metadata": {},
   "outputs": [
    {
     "data": {
      "text/plain": [
       "27181.5"
      ]
     },
     "execution_count": 26,
     "metadata": {},
     "output_type": "execute_result"
    },
    {
     "name": "stdout",
     "output_type": "stream",
     "text": [
      "time: 3.13 ms\n"
     ]
    }
   ],
   "source": [
    "(color_electrons).sum()"
   ]
  },
  {
   "cell_type": "code",
   "execution_count": 19,
   "metadata": {},
   "outputs": [
    {
     "name": "stdout",
     "output_type": "stream",
     "text": [
      "time: 4.51 ms\n"
     ]
    }
   ],
   "source": [
    "target_noise = df1.loc[df1.picid == picid]"
   ]
  },
  {
   "cell_type": "code",
   "execution_count": 27,
   "metadata": {},
   "outputs": [
    {
     "data": {
      "text/html": [
       "<div>\n",
       "<style scoped>\n",
       "    .dataframe tbody tr th:only-of-type {\n",
       "        vertical-align: middle;\n",
       "    }\n",
       "\n",
       "    .dataframe tbody tr th {\n",
       "        vertical-align: top;\n",
       "    }\n",
       "\n",
       "    .dataframe thead th {\n",
       "        text-align: right;\n",
       "    }\n",
       "</style>\n",
       "<table border=\"1\" class=\"dataframe\">\n",
       "  <thead>\n",
       "    <tr style=\"text-align: right;\">\n",
       "      <th></th>\n",
       "      <th>b_elec</th>\n",
       "      <th>b_elec_back_mean</th>\n",
       "      <th>b_elec_back_std</th>\n",
       "      <th>b_elec_noise</th>\n",
       "      <th>b_elec_raw</th>\n",
       "      <th>b_readout_noise</th>\n",
       "      <th>counts_raw</th>\n",
       "      <th>elec</th>\n",
       "      <th>elec_back_mean</th>\n",
       "      <th>elec_back_std</th>\n",
       "      <th>...</th>\n",
       "      <th>g_elec_raw</th>\n",
       "      <th>g_readout_noise</th>\n",
       "      <th>picid</th>\n",
       "      <th>r_elec</th>\n",
       "      <th>r_elec_back_mean</th>\n",
       "      <th>r_elec_back_std</th>\n",
       "      <th>r_elec_noise</th>\n",
       "      <th>r_elec_raw</th>\n",
       "      <th>r_readout_noise</th>\n",
       "      <th>readout_noise</th>\n",
       "    </tr>\n",
       "    <tr>\n",
       "      <th>date_obs</th>\n",
       "      <th></th>\n",
       "      <th></th>\n",
       "      <th></th>\n",
       "      <th></th>\n",
       "      <th></th>\n",
       "      <th></th>\n",
       "      <th></th>\n",
       "      <th></th>\n",
       "      <th></th>\n",
       "      <th></th>\n",
       "      <th></th>\n",
       "      <th></th>\n",
       "      <th></th>\n",
       "      <th></th>\n",
       "      <th></th>\n",
       "      <th></th>\n",
       "      <th></th>\n",
       "      <th></th>\n",
       "      <th></th>\n",
       "      <th></th>\n",
       "      <th></th>\n",
       "    </tr>\n",
       "  </thead>\n",
       "  <tbody>\n",
       "    <tr>\n",
       "      <th>2018-08-22 07:34:51</th>\n",
       "      <td>8170.500000</td>\n",
       "      <td>1574.700000</td>\n",
       "      <td>97.917491</td>\n",
       "      <td>90.0</td>\n",
       "      <td>47538.0</td>\n",
       "      <td>262.5</td>\n",
       "      <td>169555</td>\n",
       "      <td>23854.308511</td>\n",
       "      <td>2304.781915</td>\n",
       "      <td>716.753944</td>\n",
       "      <td>...</td>\n",
       "      <td>159774.0</td>\n",
       "      <td>525.0</td>\n",
       "      <td>256364928</td>\n",
       "      <td>4973.217391</td>\n",
       "      <td>1681.891304</td>\n",
       "      <td>218.643345</td>\n",
       "      <td>70.0</td>\n",
       "      <td>47020.5</td>\n",
       "      <td>262.5</td>\n",
       "      <td>378.0 electron / pix</td>\n",
       "    </tr>\n",
       "    <tr>\n",
       "      <th>2018-08-22 07:36:46</th>\n",
       "      <td>7290.642857</td>\n",
       "      <td>1549.714286</td>\n",
       "      <td>122.264601</td>\n",
       "      <td>85.0</td>\n",
       "      <td>46033.5</td>\n",
       "      <td>262.5</td>\n",
       "      <td>168457</td>\n",
       "      <td>20066.750000</td>\n",
       "      <td>2326.187500</td>\n",
       "      <td>772.717443</td>\n",
       "      <td>...</td>\n",
       "      <td>158970.0</td>\n",
       "      <td>525.0</td>\n",
       "      <td>256364928</td>\n",
       "      <td>6840.928571</td>\n",
       "      <td>1633.642857</td>\n",
       "      <td>133.244060</td>\n",
       "      <td>82.0</td>\n",
       "      <td>47682.0</td>\n",
       "      <td>262.5</td>\n",
       "      <td>378.0 electron / pix</td>\n",
       "    </tr>\n",
       "    <tr>\n",
       "      <th>2018-08-22 07:40:32</th>\n",
       "      <td>7026.500000</td>\n",
       "      <td>1579.000000</td>\n",
       "      <td>135.635278</td>\n",
       "      <td>83.0</td>\n",
       "      <td>46501.5</td>\n",
       "      <td>262.5</td>\n",
       "      <td>165752</td>\n",
       "      <td>26404.595745</td>\n",
       "      <td>2222.234043</td>\n",
       "      <td>690.852979</td>\n",
       "      <td>...</td>\n",
       "      <td>156475.5</td>\n",
       "      <td>525.0</td>\n",
       "      <td>256364928</td>\n",
       "      <td>7681.357143</td>\n",
       "      <td>1518.785714</td>\n",
       "      <td>146.424251</td>\n",
       "      <td>87.0</td>\n",
       "      <td>45651.0</td>\n",
       "      <td>262.5</td>\n",
       "      <td>378.0 electron / pix</td>\n",
       "    </tr>\n",
       "    <tr>\n",
       "      <th>2018-08-22 07:42:20</th>\n",
       "      <td>9092.131579</td>\n",
       "      <td>1504.894737</td>\n",
       "      <td>85.035222</td>\n",
       "      <td>95.0</td>\n",
       "      <td>46714.5</td>\n",
       "      <td>262.5</td>\n",
       "      <td>166044</td>\n",
       "      <td>26793.419355</td>\n",
       "      <td>2222.725806</td>\n",
       "      <td>680.108979</td>\n",
       "      <td>...</td>\n",
       "      <td>156288.0</td>\n",
       "      <td>525.0</td>\n",
       "      <td>256364928</td>\n",
       "      <td>6531.000000</td>\n",
       "      <td>1581.300000</td>\n",
       "      <td>120.949308</td>\n",
       "      <td>80.0</td>\n",
       "      <td>46063.5</td>\n",
       "      <td>262.5</td>\n",
       "      <td>378.0 electron / pix</td>\n",
       "    </tr>\n",
       "    <tr>\n",
       "      <th>2018-08-22 07:44:07</th>\n",
       "      <td>7299.642857</td>\n",
       "      <td>1575.214286</td>\n",
       "      <td>148.865197</td>\n",
       "      <td>85.0</td>\n",
       "      <td>46680.0</td>\n",
       "      <td>262.5</td>\n",
       "      <td>166078</td>\n",
       "      <td>20924.812500</td>\n",
       "      <td>2281.921875</td>\n",
       "      <td>774.480886</td>\n",
       "      <td>...</td>\n",
       "      <td>157177.5</td>\n",
       "      <td>525.0</td>\n",
       "      <td>256364928</td>\n",
       "      <td>7193.428571</td>\n",
       "      <td>1522.642857</td>\n",
       "      <td>125.168091</td>\n",
       "      <td>84.0</td>\n",
       "      <td>45259.5</td>\n",
       "      <td>262.5</td>\n",
       "      <td>378.0 electron / pix</td>\n",
       "    </tr>\n",
       "  </tbody>\n",
       "</table>\n",
       "<p>5 rows × 26 columns</p>\n",
       "</div>"
      ],
      "text/plain": [
       "                          b_elec  b_elec_back_mean  b_elec_back_std  \\\n",
       "date_obs                                                              \n",
       "2018-08-22 07:34:51  8170.500000       1574.700000        97.917491   \n",
       "2018-08-22 07:36:46  7290.642857       1549.714286       122.264601   \n",
       "2018-08-22 07:40:32  7026.500000       1579.000000       135.635278   \n",
       "2018-08-22 07:42:20  9092.131579       1504.894737        85.035222   \n",
       "2018-08-22 07:44:07  7299.642857       1575.214286       148.865197   \n",
       "\n",
       "                     b_elec_noise  b_elec_raw  b_readout_noise  counts_raw  \\\n",
       "date_obs                                                                     \n",
       "2018-08-22 07:34:51          90.0     47538.0            262.5      169555   \n",
       "2018-08-22 07:36:46          85.0     46033.5            262.5      168457   \n",
       "2018-08-22 07:40:32          83.0     46501.5            262.5      165752   \n",
       "2018-08-22 07:42:20          95.0     46714.5            262.5      166044   \n",
       "2018-08-22 07:44:07          85.0     46680.0            262.5      166078   \n",
       "\n",
       "                             elec  elec_back_mean  elec_back_std  \\\n",
       "date_obs                                                           \n",
       "2018-08-22 07:34:51  23854.308511     2304.781915     716.753944   \n",
       "2018-08-22 07:36:46  20066.750000     2326.187500     772.717443   \n",
       "2018-08-22 07:40:32  26404.595745     2222.234043     690.852979   \n",
       "2018-08-22 07:42:20  26793.419355     2222.725806     680.108979   \n",
       "2018-08-22 07:44:07  20924.812500     2281.921875     774.480886   \n",
       "\n",
       "                             ...           g_elec_raw  g_readout_noise  \\\n",
       "date_obs                     ...                                         \n",
       "2018-08-22 07:34:51          ...             159774.0            525.0   \n",
       "2018-08-22 07:36:46          ...             158970.0            525.0   \n",
       "2018-08-22 07:40:32          ...             156475.5            525.0   \n",
       "2018-08-22 07:42:20          ...             156288.0            525.0   \n",
       "2018-08-22 07:44:07          ...             157177.5            525.0   \n",
       "\n",
       "                         picid       r_elec  r_elec_back_mean  \\\n",
       "date_obs                                                        \n",
       "2018-08-22 07:34:51  256364928  4973.217391       1681.891304   \n",
       "2018-08-22 07:36:46  256364928  6840.928571       1633.642857   \n",
       "2018-08-22 07:40:32  256364928  7681.357143       1518.785714   \n",
       "2018-08-22 07:42:20  256364928  6531.000000       1581.300000   \n",
       "2018-08-22 07:44:07  256364928  7193.428571       1522.642857   \n",
       "\n",
       "                     r_elec_back_std  r_elec_noise  r_elec_raw  \\\n",
       "date_obs                                                         \n",
       "2018-08-22 07:34:51       218.643345          70.0     47020.5   \n",
       "2018-08-22 07:36:46       133.244060          82.0     47682.0   \n",
       "2018-08-22 07:40:32       146.424251          87.0     45651.0   \n",
       "2018-08-22 07:42:20       120.949308          80.0     46063.5   \n",
       "2018-08-22 07:44:07       125.168091          84.0     45259.5   \n",
       "\n",
       "                     r_readout_noise         readout_noise  \n",
       "date_obs                                                    \n",
       "2018-08-22 07:34:51            262.5  378.0 electron / pix  \n",
       "2018-08-22 07:36:46            262.5  378.0 electron / pix  \n",
       "2018-08-22 07:40:32            262.5  378.0 electron / pix  \n",
       "2018-08-22 07:42:20            262.5  378.0 electron / pix  \n",
       "2018-08-22 07:44:07            262.5  378.0 electron / pix  \n",
       "\n",
       "[5 rows x 26 columns]"
      ]
     },
     "execution_count": 27,
     "metadata": {},
     "output_type": "execute_result"
    },
    {
     "name": "stdout",
     "output_type": "stream",
     "text": [
      "time: 36.1 ms\n"
     ]
    }
   ],
   "source": [
    "target_noise.tail()"
   ]
  },
  {
   "cell_type": "code",
   "execution_count": 29,
   "metadata": {},
   "outputs": [
    {
     "data": {
      "text/plain": [
       "<matplotlib.legend.Legend at 0x7fd1e3392080>"
      ]
     },
     "execution_count": 29,
     "metadata": {},
     "output_type": "execute_result"
    },
    {
     "data": {
      "image/png": "[encoded data removed]",
      "text/plain": [
       "<Figure size 864x648 with 1 Axes>"
      ]
     },
     "metadata": {
      "needs_background": "light"
     },
     "output_type": "display_data"
    },
    {
     "name": "stdout",
     "output_type": "stream",
     "text": [
      "time: 771 ms\n"
     ]
    }
   ],
   "source": [
    "plt.figure(figsize=(12, 9))\n",
    "for color in 'rgb':\n",
    "    color_err = np.sqrt(target_noise[f'{color}_elec_back_std']**2 + target_noise[f'{color}_readout_noise']**2 + target_noise[f'{color}_elec_noise']**2)\n",
    "\n",
    "#     plt.figure(figsize=(12, 9))\n",
    "    target_noise[f'{color}_elec'].plot(ls='', marker='o', yerr=color_err, color=color, label=f'{color} sum')\n",
    "    target_noise[f'{color}_elec_back_mean'].plot(color=color, ls='--', label=f'{color} background')\n",
    "\n",
    "plt.ylabel('Counts')\n",
    "plt.title('Aperture sums')\n",
    "plt.legend()"
   ]
  },
  {
   "cell_type": "code",
   "execution_count": null,
   "metadata": {},
   "outputs": [],
   "source": []
  }
 ],
 "metadata": {
  "kernelspec": {
   "display_name": "Python 3",
   "language": "python",
   "name": "python3"
  },
  "language_info": {
   "codemirror_mode": {
    "name": "ipython",
    "version": 3
   },
   "file_extension": ".py",
   "mimetype": "text/x-python",
   "name": "python",
   "nbconvert_exporter": "python",
   "pygments_lexer": "ipython3",
   "version": "3.6.6"
  }
 },
 "nbformat": 4,
 "nbformat_minor": 2
}
