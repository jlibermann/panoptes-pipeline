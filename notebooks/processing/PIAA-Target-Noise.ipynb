{
 "cells": [
  {
   "cell_type": "code",
   "execution_count": 1,
   "metadata": {},
   "outputs": [],
   "source": [
    "%load_ext autotime"
   ]
  },
  {
   "cell_type": "markdown",
   "metadata": {},
   "source": [
    "# Examine Target\n",
    "\n",
    "This notebook look at some of the properties for a specific target as pulled from the sources listed generated in the [Source Detection](PIAA-Source-Detection-And-Filtering.ipynb) notebook. \n",
    "\n",
    "Note that this step is not necessary for the processing of an observation sequence as a whole but instead serves to highlight some of the issues with processing the images in a traditional fashion and thus helps motivate our unique algorithm."
   ]
  },
  {
   "cell_type": "code",
   "execution_count": 2,
   "metadata": {},
   "outputs": [
    {
     "name": "stdout",
     "output_type": "stream",
     "text": [
      "time: 3.2 s\n"
     ]
    }
   ],
   "source": [
    "import os\n",
    "\n",
    "from matplotlib import cm\n",
    "from matplotlib import pyplot as plt\n",
    "plt.style.use('bmh')\n",
    "\n",
    "import numpy as np\n",
    "import pandas as pd\n",
    "from collections import defaultdict\n",
    "\n",
    "from tqdm import tqdm_notebook as tqdm\n",
    "\n",
    "from piaa.utils import pipeline\n",
    "from piaa.utils import helpers\n",
    "from piaa.utils import plot\n",
    "from piaa.utils.postgres import get_cursor\n",
    "from piaa.utils import noise\n",
    "\n",
    "from pocs.utils.images import fits as fits_utils\n",
    "from pocs.utils.google.storage import PanStorage\n",
    "\n",
    "from astropy.io import fits\n",
    "from astropy.stats import sigma_clip, sigma_clipped_stats\n",
    "from astropy import units as u\n",
    "\n",
    "tess_cursor = get_cursor(port=5433, db_name='v6', db_user='postgres')\n",
    "\n",
    "styles = plot.get_labelled_style_cycler(cmap='Paired')"
   ]
  },
  {
   "cell_type": "markdown",
   "metadata": {},
   "source": [
    "## Specify Target\n",
    "\n",
    "Here we look up the target HD189733 by the 2MASS ID."
   ]
  },
  {
   "cell_type": "code",
   "execution_count": 3,
   "metadata": {},
   "outputs": [
    {
     "name": "stdout",
     "output_type": "stream",
     "text": [
      "time: 88.2 ms\n"
     ]
    }
   ],
   "source": [
    "# picid = 435715608\n",
    "# picid = 287933433\n",
    "# picid = 287511722\n",
    "# picid = 393243342\n",
    "# picid = 343362027 # Hot pixel?\n",
    "# picid = 11133916  # Same mag as HD189733\n",
    "# picid = 86234511\n",
    "# picid = helpers.get_star_info(twomass_id='20005694+2250490', cursor=tess_cursor).id\n",
    "picid = 11135315\n",
    "\n",
    "star_info = helpers.get_star_info(picid=picid, cursor=tess_cursor)"
   ]
  },
  {
   "cell_type": "code",
   "execution_count": 4,
   "metadata": {},
   "outputs": [
    {
     "name": "stdout",
     "output_type": "stream",
     "text": [
      "time: 46.5 ms\n"
     ]
    }
   ],
   "source": [
    "twomass = '20004370+2242391'\n",
    "\n",
    "star_info = helpers.get_star_info(twomass_id=twomass, cursor=tess_cursor)\n",
    "picid = star_info.id  # HD 189733"
   ]
  },
  {
   "cell_type": "code",
   "execution_count": 5,
   "metadata": {},
   "outputs": [
    {
     "name": "stdout",
     "output_type": "stream",
     "text": [
      "PICID: 256364928\n",
      "time: 777 µs\n"
     ]
    }
   ],
   "source": [
    "print(f'PICID: {picid}')"
   ]
  },
  {
   "cell_type": "markdown",
   "metadata": {},
   "source": [
    "#### Observation sources\n",
    "\n",
    "We use the previously detected and filtered sources to examine our target. See the [Source-Detection](Source-Detection-And-Filtering.ipynb) for details."
   ]
  },
  {
   "cell_type": "code",
   "execution_count": 6,
   "metadata": {},
   "outputs": [
    {
     "name": "stdout",
     "output_type": "stream",
     "text": [
      "time: 949 ms\n"
     ]
    }
   ],
   "source": [
    "base_dir = '/var/panoptes/images/fields/PAN012/358d0f/20180822T035809/'\n",
    "# base_dir = '/var/panoptes/images/fields/PAN001/Hd189733/14d3bd/20180913T085704/'\n",
    "source_filename = os.path.join(base_dir, f'point-sources-filtered.csv')\n",
    "\n",
    "sources = pipeline.lookup_sources_for_observation(filename=source_filename).set_index(['picid'], append=True)"
   ]
  },
  {
   "cell_type": "markdown",
   "metadata": {},
   "source": [
    "For our target table we want to compare the flux as calculated from `sextractor` (which has no knowledge of the RGB array) with that pulled from a custom stamp.  `sextractor` uses a 6-pixel circular aperture  centered around the calculated centroid (the `x` and `y` values in our `sources` table) while our custom stamps will use an aperture that is sliced according to our rule of having a fixed pixel pattern. Here we use a 6-pixel aperture on our stamps for direct comparison with `sextractor` but the size can be vary."
   ]
  },
  {
   "cell_type": "code",
   "execution_count": 7,
   "metadata": {},
   "outputs": [
    {
     "name": "stdout",
     "output_type": "stream",
     "text": [
      "time: 2.67 ms\n"
     ]
    }
   ],
   "source": [
    "camera_bias = 2048 * u.adu\n",
    "stamp_size = 6 * u.pixel\n",
    "num_pixels = (stamp_size**2).value\n",
    "\n",
    "readout_noise = 10.5 * u.electron / u.pixel\n",
    "gain = 1.5 * (u.electron / u.adu)\n",
    "qe = 0.43\n",
    "\n",
    "focal_length = 85 * u.mm\n",
    "fstop = 1.4\n",
    "\n",
    "aperture_area = focal_length / fstop\n",
    "aperture_area = (np.pi * (aperture_area / 2)**2).to(u.m * u.m)"
   ]
  },
  {
   "cell_type": "code",
   "execution_count": 8,
   "metadata": {},
   "outputs": [
    {
     "name": "stdout",
     "output_type": "stream",
     "text": [
      "time: 743 µs\n"
     ]
    }
   ],
   "source": [
    "num_sources = len(sources.index.levels[1])"
   ]
  },
  {
   "cell_type": "code",
   "execution_count": null,
   "metadata": {},
   "outputs": [
    {
     "data": {
      "application/vnd.jupyter.widget-view+json": {
       "model_id": "51f156f115c0456d84617ff75e66f6cf",
       "version_major": 2,
       "version_minor": 0
      },
      "text/plain": [
       "HBox(children=(IntProgress(value=0, max=847), HTML(value='')))"
      ]
     },
     "metadata": {},
     "output_type": "display_data"
    }
   ],
   "source": [
    "counts = list()\n",
    "\n",
    "i = 0\n",
    "for pid, target_table in tqdm(sources.groupby('picid'), total=num_sources):\n",
    "    i += 1\n",
    "#     if i > 10:\n",
    "#         break\n",
    "    psc = pd.read_csv(os.path.join(base_dir, 'stamps', f'{pid}.csv'), parse_dates=True).set_index(['obs_time', 'picid'])\n",
    "    \n",
    "    for idx, row in psc.iterrows():\n",
    "        date_obs= idx[0]\n",
    "        stamp = row.values.reshape(10, 10) - camera_bias.value\n",
    "        \n",
    "        row_info = dict(date_obs=date_obs, picid=pid)\n",
    "\n",
    "        # Store the overall flux count\n",
    "        flux_stamp = stamp.sum()\n",
    "        row_info['stamp'] = flux_stamp\n",
    "        \n",
    "        stamp_mean, stamp_med, stamp_std = sigma_clipped_stats(stamp)\n",
    "        row_info['stamp_back_mean'] = stamp_mean\n",
    "        row_info['stamp_back_std'] = stamp_std\n",
    "        \n",
    "        color_data = helpers.get_rgb_data(stamp, force_new=True)\n",
    "\n",
    "        # Calculate some properties for each channel\n",
    "        for color, data in zip('rgb', color_data):\n",
    "            # Total sum of stamp\n",
    "            stamp_sum = int(data.sum())\n",
    "            \n",
    "            # Background noise\n",
    "            back_mean, back_med, back_std = sigma_clipped_stats(data)\n",
    "            row_info[f'{color}_back_mean'] = back_mean\n",
    "            row_info[f'{color}_back_std'] = back_std\n",
    "            \n",
    "            stamp_sum = (data - back_mean).sum()\n",
    "            \n",
    "            if stamp_sum <= 0:\n",
    "#                 print(f'Negative stamp: {pid} {color} {date_obs} {stamp_sum}')\n",
    "                continue\n",
    "                \n",
    "            row_info[f'{color}_raw'] = data.sum()\n",
    "            row_info[f'{color}_stamp'] = stamp_sum\n",
    "\n",
    "            # Photon noise\n",
    "            count_noise = int(np.sqrt(stamp_sum))\n",
    "            row_info[f'{color}_stamp_noise'] = count_noise\n",
    "\n",
    "            # Readout noise\n",
    "            readout = ((readout_noise / gain) * (data.count() * u.pixel)).value\n",
    "            row_info[f'{color}_readout_noise'] = readout\n",
    "            \n",
    "        counts.append(row_info)\n",
    "\n",
    "df1 = pd.DataFrame(counts).set_index(['date_obs'])\n",
    "df1.index = pd.to_datetime(df1.index)\n",
    "df1.to_csv(os.path.join(base_dir, f'noise-estimates.csv'))"
   ]
  },
  {
   "cell_type": "code",
   "execution_count": 108,
   "metadata": {},
   "outputs": [
    {
     "name": "stdout",
     "output_type": "stream",
     "text": [
      "time: 2.54 ms\n"
     ]
    }
   ],
   "source": [
    "target_noise = df1.loc[df1.picid == picid]"
   ]
  },
  {
   "cell_type": "code",
   "execution_count": 109,
   "metadata": {},
   "outputs": [
    {
     "name": "stdout",
     "output_type": "stream",
     "text": [
      "time: 2.39 ms\n"
     ]
    }
   ],
   "source": [
    "g_err = np.sqrt(target_noise.g_back_std**2 + target_noise.g_readout_noise**2 + target_noise.g_stamp_noise**2)"
   ]
  },
  {
   "cell_type": "code",
   "execution_count": 110,
   "metadata": {},
   "outputs": [
    {
     "data": {
      "text/plain": [
       "<matplotlib.axes._subplots.AxesSubplot at 0x7f2ab57220b8>"
      ]
     },
     "execution_count": 110,
     "metadata": {},
     "output_type": "execute_result"
    },
    {
     "data": {
      "image/png": "[encoded data removed]",
      "text/plain": [
       "<Figure size 864x648 with 1 Axes>"
      ]
     },
     "metadata": {
      "needs_background": "light"
     },
     "output_type": "display_data"
    },
    {
     "name": "stdout",
     "output_type": "stream",
     "text": [
      "time: 479 ms\n"
     ]
    }
   ],
   "source": [
    "plt.figure(figsize=(12, 9))\n",
    "target_noise.g_stamp.plot(ls='', marker='o', yerr=g_err)"
   ]
  },
  {
   "cell_type": "code",
   "execution_count": null,
   "metadata": {},
   "outputs": [],
   "source": []
  },
  {
   "cell_type": "code",
   "execution_count": 63,
   "metadata": {},
   "outputs": [
    {
     "data": {
      "text/plain": [
       "<matplotlib.axes._subplots.AxesSubplot at 0x7f7950402588>"
      ]
     },
     "execution_count": 63,
     "metadata": {},
     "output_type": "execute_result"
    },
    {
     "data": {
      "image/png": "[encoded data removed]",
      "text/plain": [
       "<Figure size 432x288 with 1 Axes>"
      ]
     },
     "metadata": {
      "needs_background": "light"
     },
     "output_type": "display_data"
    },
    {
     "name": "stdout",
     "output_type": "stream",
     "text": [
      "time: 307 ms\n"
     ]
    }
   ],
   "source": [
    "sources.groupby('obs_time').std().background.plot()"
   ]
  },
  {
   "cell_type": "code",
   "execution_count": 29,
   "metadata": {},
   "outputs": [
    {
     "data": {
      "text/plain": [
       "{'R': 8.15755, 'V': 8.667, 'B': 9.978}"
      ]
     },
     "execution_count": 29,
     "metadata": {},
     "output_type": "execute_result"
    },
    {
     "name": "stdout",
     "output_type": "stream",
     "text": [
      "time: 11.2 ms\n"
     ]
    }
   ],
   "source": [
    "est_style = dict(ls='-.')\n",
    "\n",
    "# http://classic.sdss.org/dr5/algorithms/sdssUBVRITransform.html\n",
    "\n",
    "filter_colors = {\n",
    "    'B': 'b',\n",
    "    'V': 'g',\n",
    "    'R': 'r'\n",
    "}\n",
    "\n",
    "mags = {\n",
    "    'R': star_info.gaiamag, # star_info.vmag - 0.46*(star_info.bmag - star_info.vmag) + 0.11,    \n",
    "    'V': star_info.vmag,    \n",
    "    'B': star_info.bmag,\n",
    "}\n",
    "mags"
   ]
  },
  {
   "cell_type": "code",
   "execution_count": 30,
   "metadata": {},
   "outputs": [
    {
     "name": "stdout",
     "output_type": "stream",
     "text": [
      "time: 921 µs\n"
     ]
    }
   ],
   "source": [
    "from collections import defaultdict"
   ]
  },
  {
   "cell_type": "code",
   "execution_count": 31,
   "metadata": {},
   "outputs": [
    {
     "data": {
      "application/vnd.jupyter.widget-view+json": {
       "model_id": "b1f9cdcbe6b945f68bd98c2d64346a6f",
       "version_major": 2,
       "version_minor": 0
      },
      "text/plain": [
       "HBox(children=(IntProgress(value=0, max=847), HTML(value='')))"
      ]
     },
     "metadata": {},
     "output_type": "display_data"
    },
    {
     "name": "stdout",
     "output_type": "stream",
     "text": [
      "\n",
      "time: 10min 56s\n"
     ]
    }
   ],
   "source": [
    "est_counts = defaultdict(list)\n",
    "\n",
    "for pid, target_table in tqdm(sources.groupby('picid'), total=num_sources):\n",
    "    for idx, row in target_table.iterrows():\n",
    "        date_obs= idx[0]\n",
    "\n",
    "        airmass = row.airmass\n",
    "        exptime = row.exp_time\n",
    "\n",
    "        scint_index = helpers.scintillation_index(exptime, airmass, 100, correction_coeff=1.5)                    \n",
    "        \n",
    "        for filter_name, mag in mags.items():\n",
    "            photons = noise.estimated_photon_count(\n",
    "                magnitude=mags[filter_name], \n",
    "                aperture_area=aperture_area, \n",
    "                filter_name=filter_name,\n",
    "                airmass=airmass,\n",
    "                qe=qe\n",
    "            ) * exptime\n",
    "\n",
    "            # Apply RGGB pattern\n",
    "            if filter_name == 'V':\n",
    "                mult = 0.5\n",
    "            else:\n",
    "                mult = 0.25\n",
    "\n",
    "            # Scale flux by number of pixels\n",
    "            photons *= mult \n",
    "\n",
    "            # Get number of pixels for the filter\n",
    "            n_pixels = int(num_pixels * mult)\n",
    "\n",
    "            fill_factor = 0.5\n",
    "            photons *= fill_factor\n",
    "\n",
    "            transmission = 0.5\n",
    "            photons *= transmission\n",
    "\n",
    "            est_counts[pid].append({\n",
    "                'date_obs': date_obs,\n",
    "                'color': filter_colors[filter_name],\n",
    "                'counts': int(photons / gain.value),\n",
    "                'photon': int(photons),\n",
    "                'photon_noise': 1/np.sqrt(photons),\n",
    "                'readout_noise': (readout_noise * n_pixels).value / photons,\n",
    "                'scint_noise': np.sqrt(scint_index)\n",
    "            })"
   ]
  },
  {
   "cell_type": "code",
   "execution_count": null,
   "metadata": {},
   "outputs": [],
   "source": []
  },
  {
   "cell_type": "code",
   "execution_count": null,
   "metadata": {},
   "outputs": [],
   "source": [
    "est_counts = pd.DataFrame(photon_counts).set_index(['date_obs'])"
   ]
  },
  {
   "cell_type": "code",
   "execution_count": 131,
   "metadata": {},
   "outputs": [
    {
     "data": {
      "text/html": [
       "<div>\n",
       "<style scoped>\n",
       "    .dataframe tbody tr th:only-of-type {\n",
       "        vertical-align: middle;\n",
       "    }\n",
       "\n",
       "    .dataframe tbody tr th {\n",
       "        vertical-align: top;\n",
       "    }\n",
       "\n",
       "    .dataframe thead th {\n",
       "        text-align: right;\n",
       "    }\n",
       "</style>\n",
       "<table border=\"1\" class=\"dataframe\">\n",
       "  <thead>\n",
       "    <tr style=\"text-align: right;\">\n",
       "      <th></th>\n",
       "      <th>color</th>\n",
       "      <th>counts</th>\n",
       "      <th>photon</th>\n",
       "      <th>photon_noise</th>\n",
       "      <th>readout_noise</th>\n",
       "      <th>scint_noise</th>\n",
       "    </tr>\n",
       "    <tr>\n",
       "      <th>date_obs</th>\n",
       "      <th></th>\n",
       "      <th></th>\n",
       "      <th></th>\n",
       "      <th></th>\n",
       "      <th></th>\n",
       "      <th></th>\n",
       "    </tr>\n",
       "  </thead>\n",
       "  <tbody>\n",
       "    <tr>\n",
       "      <th>2018-09-13 09:00:11</th>\n",
       "      <td>r</td>\n",
       "      <td>6800</td>\n",
       "      <td>10200</td>\n",
       "      <td>0.009901</td>\n",
       "      <td>0.009264</td>\n",
       "      <td>0.006798</td>\n",
       "    </tr>\n",
       "    <tr>\n",
       "      <th>2018-09-13 09:00:11</th>\n",
       "      <td>g</td>\n",
       "      <td>7946</td>\n",
       "      <td>11919</td>\n",
       "      <td>0.009160</td>\n",
       "      <td>0.015856</td>\n",
       "      <td>0.006798</td>\n",
       "    </tr>\n",
       "    <tr>\n",
       "      <th>2018-09-13 09:00:11</th>\n",
       "      <td>b</td>\n",
       "      <td>1719</td>\n",
       "      <td>2579</td>\n",
       "      <td>0.019690</td>\n",
       "      <td>0.036636</td>\n",
       "      <td>0.006798</td>\n",
       "    </tr>\n",
       "    <tr>\n",
       "      <th>2018-09-13 09:01:38</th>\n",
       "      <td>r</td>\n",
       "      <td>6798</td>\n",
       "      <td>10197</td>\n",
       "      <td>0.009903</td>\n",
       "      <td>0.009267</td>\n",
       "      <td>0.006832</td>\n",
       "    </tr>\n",
       "    <tr>\n",
       "      <th>2018-09-13 09:01:38</th>\n",
       "      <td>g</td>\n",
       "      <td>7942</td>\n",
       "      <td>11913</td>\n",
       "      <td>0.009162</td>\n",
       "      <td>0.015865</td>\n",
       "      <td>0.006832</td>\n",
       "    </tr>\n",
       "  </tbody>\n",
       "</table>\n",
       "</div>"
      ],
      "text/plain": [
       "                    color  counts  photon  photon_noise  readout_noise  \\\n",
       "date_obs                                                                 \n",
       "2018-09-13 09:00:11     r    6800   10200      0.009901       0.009264   \n",
       "2018-09-13 09:00:11     g    7946   11919      0.009160       0.015856   \n",
       "2018-09-13 09:00:11     b    1719    2579      0.019690       0.036636   \n",
       "2018-09-13 09:01:38     r    6798   10197      0.009903       0.009267   \n",
       "2018-09-13 09:01:38     g    7942   11913      0.009162       0.015865   \n",
       "\n",
       "                     scint_noise  \n",
       "date_obs                          \n",
       "2018-09-13 09:00:11     0.006798  \n",
       "2018-09-13 09:00:11     0.006798  \n",
       "2018-09-13 09:00:11     0.006798  \n",
       "2018-09-13 09:01:38     0.006832  \n",
       "2018-09-13 09:01:38     0.006832  "
      ]
     },
     "execution_count": 131,
     "metadata": {},
     "output_type": "execute_result"
    },
    {
     "name": "stdout",
     "output_type": "stream",
     "text": [
      "time: 13.3 ms\n"
     ]
    }
   ],
   "source": [
    "est_counts.head()"
   ]
  },
  {
   "cell_type": "code",
   "execution_count": 133,
   "metadata": {},
   "outputs": [
    {
     "name": "stdout",
     "output_type": "stream",
     "text": [
      "1.311\n",
      "0.7519999999999998\n",
      "time: 6.94 ms\n"
     ]
    }
   ],
   "source": [
    "print(star_info.bmag - star_info.vmag)\n",
    "print(star_info.jmag - star_info.kmag)"
   ]
  },
  {
   "cell_type": "code",
   "execution_count": 132,
   "metadata": {},
   "outputs": [
    {
     "data": {
      "text/plain": [
       "Text(0.5, 1.0, 'Overestimate of photon counts - 11135315')"
      ]
     },
     "execution_count": 132,
     "metadata": {},
     "output_type": "execute_result"
    },
    {
     "data": {
      "image/png": "[encoded data removed]",
      "text/plain": [
       "<Figure size 864x648 with 1 Axes>"
      ]
     },
     "metadata": {
      "needs_background": "light"
     },
     "output_type": "display_data"
    },
    {
     "name": "stdout",
     "output_type": "stream",
     "text": [
      "time: 587 ms\n"
     ]
    }
   ],
   "source": [
    "plt.figure(figsize=(12, 9))\n",
    "for color in 'rgb':\n",
    "    (est_counts.loc[est_counts.color == color].counts / target_table[f'flux_{color}']).plot(color=color)\n",
    "    \n",
    "plt.title(f'Overestimate of photon counts - {picid}')"
   ]
  },
  {
   "cell_type": "code",
   "execution_count": 58,
   "metadata": {},
   "outputs": [
    {
     "data": {
      "text/html": [
       "<div>\n",
       "<style scoped>\n",
       "    .dataframe tbody tr th:only-of-type {\n",
       "        vertical-align: middle;\n",
       "    }\n",
       "\n",
       "    .dataframe tbody tr th {\n",
       "        vertical-align: top;\n",
       "    }\n",
       "\n",
       "    .dataframe thead th {\n",
       "        text-align: right;\n",
       "    }\n",
       "</style>\n",
       "<table border=\"1\" class=\"dataframe\">\n",
       "  <thead>\n",
       "    <tr style=\"text-align: right;\">\n",
       "      <th></th>\n",
       "      <th>ra</th>\n",
       "      <th>dec</th>\n",
       "      <th>x</th>\n",
       "      <th>y</th>\n",
       "      <th>xpeak_image</th>\n",
       "      <th>ypeak_image</th>\n",
       "      <th>background</th>\n",
       "      <th>flux_best</th>\n",
       "      <th>fluxerr_best</th>\n",
       "      <th>mag_best</th>\n",
       "      <th>...</th>\n",
       "      <th>flux_stamp</th>\n",
       "      <th>flux_r</th>\n",
       "      <th>photon_noise_stamp_r</th>\n",
       "      <th>readout_stamp_r</th>\n",
       "      <th>flux_g</th>\n",
       "      <th>photon_noise_stamp_g</th>\n",
       "      <th>readout_stamp_g</th>\n",
       "      <th>flux_b</th>\n",
       "      <th>photon_noise_stamp_b</th>\n",
       "      <th>readout_stamp_b</th>\n",
       "    </tr>\n",
       "    <tr>\n",
       "      <th>obs_time</th>\n",
       "      <th></th>\n",
       "      <th></th>\n",
       "      <th></th>\n",
       "      <th></th>\n",
       "      <th></th>\n",
       "      <th></th>\n",
       "      <th></th>\n",
       "      <th></th>\n",
       "      <th></th>\n",
       "      <th></th>\n",
       "      <th></th>\n",
       "      <th></th>\n",
       "      <th></th>\n",
       "      <th></th>\n",
       "      <th></th>\n",
       "      <th></th>\n",
       "      <th></th>\n",
       "      <th></th>\n",
       "      <th></th>\n",
       "      <th></th>\n",
       "      <th></th>\n",
       "    </tr>\n",
       "  </thead>\n",
       "  <tbody>\n",
       "    <tr>\n",
       "      <th>2018-09-13 11:03:39</th>\n",
       "      <td>297.970646</td>\n",
       "      <td>26.396511</td>\n",
       "      <td>3910</td>\n",
       "      <td>1045</td>\n",
       "      <td>3910.4541</td>\n",
       "      <td>1045.2052</td>\n",
       "      <td>2071.935</td>\n",
       "      <td>21463.79</td>\n",
       "      <td>182.3471</td>\n",
       "      <td>14.1707</td>\n",
       "      <td>...</td>\n",
       "      <td>16588.340</td>\n",
       "      <td>2222.0</td>\n",
       "      <td>47.0</td>\n",
       "      <td>63.0</td>\n",
       "      <td>11387.0</td>\n",
       "      <td>106.0</td>\n",
       "      <td>126.0</td>\n",
       "      <td>2978.0</td>\n",
       "      <td>54.0</td>\n",
       "      <td>63.0</td>\n",
       "    </tr>\n",
       "    <tr>\n",
       "      <th>2018-09-13 11:05:09</th>\n",
       "      <td>297.970815</td>\n",
       "      <td>26.396485</td>\n",
       "      <td>3910</td>\n",
       "      <td>1046</td>\n",
       "      <td>3910.5054</td>\n",
       "      <td>1045.2488</td>\n",
       "      <td>2072.185</td>\n",
       "      <td>22103.95</td>\n",
       "      <td>180.5021</td>\n",
       "      <td>14.1388</td>\n",
       "      <td>...</td>\n",
       "      <td>17242.340</td>\n",
       "      <td>2557.0</td>\n",
       "      <td>50.0</td>\n",
       "      <td>63.0</td>\n",
       "      <td>11648.0</td>\n",
       "      <td>107.0</td>\n",
       "      <td>126.0</td>\n",
       "      <td>3036.0</td>\n",
       "      <td>55.0</td>\n",
       "      <td>63.0</td>\n",
       "    </tr>\n",
       "    <tr>\n",
       "      <th>2018-09-13 11:06:39</th>\n",
       "      <td>297.970348</td>\n",
       "      <td>26.396596</td>\n",
       "      <td>3910</td>\n",
       "      <td>1044</td>\n",
       "      <td>3910.5471</td>\n",
       "      <td>1043.7598</td>\n",
       "      <td>2072.101</td>\n",
       "      <td>22156.41</td>\n",
       "      <td>181.8522</td>\n",
       "      <td>14.1363</td>\n",
       "      <td>...</td>\n",
       "      <td>17602.364</td>\n",
       "      <td>2623.0</td>\n",
       "      <td>51.0</td>\n",
       "      <td>63.0</td>\n",
       "      <td>12171.0</td>\n",
       "      <td>110.0</td>\n",
       "      <td>126.0</td>\n",
       "      <td>2808.0</td>\n",
       "      <td>52.0</td>\n",
       "      <td>63.0</td>\n",
       "    </tr>\n",
       "    <tr>\n",
       "      <th>2018-09-13 11:08:11</th>\n",
       "      <td>297.970520</td>\n",
       "      <td>26.396499</td>\n",
       "      <td>3910</td>\n",
       "      <td>1040</td>\n",
       "      <td>3910.5535</td>\n",
       "      <td>1040.0470</td>\n",
       "      <td>2073.353</td>\n",
       "      <td>21397.14</td>\n",
       "      <td>178.7016</td>\n",
       "      <td>14.1741</td>\n",
       "      <td>...</td>\n",
       "      <td>17106.292</td>\n",
       "      <td>2455.0</td>\n",
       "      <td>49.0</td>\n",
       "      <td>63.0</td>\n",
       "      <td>11861.0</td>\n",
       "      <td>108.0</td>\n",
       "      <td>126.0</td>\n",
       "      <td>2788.0</td>\n",
       "      <td>52.0</td>\n",
       "      <td>63.0</td>\n",
       "    </tr>\n",
       "    <tr>\n",
       "      <th>2018-09-13 11:11:15</th>\n",
       "      <td>297.970478</td>\n",
       "      <td>26.396572</td>\n",
       "      <td>3910</td>\n",
       "      <td>1044</td>\n",
       "      <td>3910.4160</td>\n",
       "      <td>1043.9769</td>\n",
       "      <td>2072.637</td>\n",
       "      <td>21675.07</td>\n",
       "      <td>179.7548</td>\n",
       "      <td>14.1601</td>\n",
       "      <td>...</td>\n",
       "      <td>17355.068</td>\n",
       "      <td>2595.0</td>\n",
       "      <td>50.0</td>\n",
       "      <td>63.0</td>\n",
       "      <td>11955.0</td>\n",
       "      <td>109.0</td>\n",
       "      <td>126.0</td>\n",
       "      <td>2804.0</td>\n",
       "      <td>52.0</td>\n",
       "      <td>63.0</td>\n",
       "    </tr>\n",
       "  </tbody>\n",
       "</table>\n",
       "<p>5 rows × 35 columns</p>\n",
       "</div>"
      ],
      "text/plain": [
       "                             ra        dec     x     y  xpeak_image  \\\n",
       "obs_time                                                              \n",
       "2018-09-13 11:03:39  297.970646  26.396511  3910  1045    3910.4541   \n",
       "2018-09-13 11:05:09  297.970815  26.396485  3910  1046    3910.5054   \n",
       "2018-09-13 11:06:39  297.970348  26.396596  3910  1044    3910.5471   \n",
       "2018-09-13 11:08:11  297.970520  26.396499  3910  1040    3910.5535   \n",
       "2018-09-13 11:11:15  297.970478  26.396572  3910  1044    3910.4160   \n",
       "\n",
       "                     ypeak_image  background  flux_best  fluxerr_best  \\\n",
       "obs_time                                                                \n",
       "2018-09-13 11:03:39    1045.2052    2071.935   21463.79      182.3471   \n",
       "2018-09-13 11:05:09    1045.2488    2072.185   22103.95      180.5021   \n",
       "2018-09-13 11:06:39    1043.7598    2072.101   22156.41      181.8522   \n",
       "2018-09-13 11:08:11    1040.0470    2073.353   21397.14      178.7016   \n",
       "2018-09-13 11:11:15    1043.9769    2072.637   21675.07      179.7548   \n",
       "\n",
       "                     mag_best       ...         flux_stamp  flux_r  \\\n",
       "obs_time                            ...                              \n",
       "2018-09-13 11:03:39   14.1707       ...          16588.340  2222.0   \n",
       "2018-09-13 11:05:09   14.1388       ...          17242.340  2557.0   \n",
       "2018-09-13 11:06:39   14.1363       ...          17602.364  2623.0   \n",
       "2018-09-13 11:08:11   14.1741       ...          17106.292  2455.0   \n",
       "2018-09-13 11:11:15   14.1601       ...          17355.068  2595.0   \n",
       "\n",
       "                     photon_noise_stamp_r  readout_stamp_r   flux_g  \\\n",
       "obs_time                                                              \n",
       "2018-09-13 11:03:39                  47.0             63.0  11387.0   \n",
       "2018-09-13 11:05:09                  50.0             63.0  11648.0   \n",
       "2018-09-13 11:06:39                  51.0             63.0  12171.0   \n",
       "2018-09-13 11:08:11                  49.0             63.0  11861.0   \n",
       "2018-09-13 11:11:15                  50.0             63.0  11955.0   \n",
       "\n",
       "                     photon_noise_stamp_g  readout_stamp_g  flux_b  \\\n",
       "obs_time                                                             \n",
       "2018-09-13 11:03:39                 106.0            126.0  2978.0   \n",
       "2018-09-13 11:05:09                 107.0            126.0  3036.0   \n",
       "2018-09-13 11:06:39                 110.0            126.0  2808.0   \n",
       "2018-09-13 11:08:11                 108.0            126.0  2788.0   \n",
       "2018-09-13 11:11:15                 109.0            126.0  2804.0   \n",
       "\n",
       "                     photon_noise_stamp_b  readout_stamp_b  \n",
       "obs_time                                                    \n",
       "2018-09-13 11:03:39                  54.0             63.0  \n",
       "2018-09-13 11:05:09                  55.0             63.0  \n",
       "2018-09-13 11:06:39                  52.0             63.0  \n",
       "2018-09-13 11:08:11                  52.0             63.0  \n",
       "2018-09-13 11:11:15                  52.0             63.0  \n",
       "\n",
       "[5 rows x 35 columns]"
      ]
     },
     "execution_count": 58,
     "metadata": {},
     "output_type": "execute_result"
    },
    {
     "name": "stdout",
     "output_type": "stream",
     "text": [
      "time: 32.8 ms\n"
     ]
    }
   ],
   "source": [
    "target_table.tail()"
   ]
  },
  {
   "cell_type": "code",
   "execution_count": 50,
   "metadata": {},
   "outputs": [
    {
     "name": "stdout",
     "output_type": "stream",
     "text": [
      "time: 636 µs\n"
     ]
    }
   ],
   "source": [
    "bin_minutes = 15"
   ]
  },
  {
   "cell_type": "code",
   "execution_count": 51,
   "metadata": {},
   "outputs": [
    {
     "name": "stdout",
     "output_type": "stream",
     "text": [
      "time: 22.6 ms\n"
     ]
    }
   ],
   "source": [
    "binned_est = est_counts.groupby('color').resample(f'{bin_minutes}T').mean()\n",
    "binned_target = target_table.resample(f'{bin_minutes}T').mean()"
   ]
  },
  {
   "cell_type": "code",
   "execution_count": 55,
   "metadata": {},
   "outputs": [
    {
     "data": {
      "text/plain": [
       "<matplotlib.legend.Legend at 0x7ff4743ee940>"
      ]
     },
     "execution_count": 55,
     "metadata": {},
     "output_type": "execute_result"
    },
    {
     "data": {
      "image/png": "[encoded data removed]",
      "text/plain": [
       "<Figure size 864x648 with 1 Axes>"
      ]
     },
     "metadata": {
      "needs_background": "light"
     },
     "output_type": "display_data"
    },
    {
     "name": "stdout",
     "output_type": "stream",
     "text": [
      "time: 464 ms\n"
     ]
    }
   ],
   "source": [
    "plt.figure(figsize=(12, 9))\n",
    "\n",
    "for color in 'b':    \n",
    "    color_data = binned_est.loc[color]\n",
    "    \n",
    "    est_noise = np.sqrt(color_data.photon_noise**2 + color_data.readout_noise**2 + color_data.scint_noise**2)\n",
    "\n",
    "    color_data.counts.plot(marker='o', color=color, yerr=(color_data.counts * est_noise), label=f'Est {color}')\n",
    "    binned_target[f'flux_{color}'].plot(yerr=(binned_target[f'photon_noise_stamp_{color}'] + binned_target[f'readout_stamp_{color}']),color=color, marker='x', ls='--', label=f'Actual {color}')\n",
    "        \n",
    "plt.title('Estimated vs Actual Flux')\n",
    "plt.legend()"
   ]
  },
  {
   "cell_type": "code",
   "execution_count": 111,
   "metadata": {},
   "outputs": [
    {
     "data": {
      "text/html": [
       "<div>\n",
       "<style scoped>\n",
       "    .dataframe tbody tr th:only-of-type {\n",
       "        vertical-align: middle;\n",
       "    }\n",
       "\n",
       "    .dataframe tbody tr th {\n",
       "        vertical-align: top;\n",
       "    }\n",
       "\n",
       "    .dataframe thead th {\n",
       "        text-align: right;\n",
       "    }\n",
       "</style>\n",
       "<table border=\"1\" class=\"dataframe\">\n",
       "  <thead>\n",
       "    <tr style=\"text-align: right;\">\n",
       "      <th></th>\n",
       "      <th>ra</th>\n",
       "      <th>dec</th>\n",
       "      <th>x</th>\n",
       "      <th>y</th>\n",
       "      <th>xpeak_image</th>\n",
       "      <th>ypeak_image</th>\n",
       "      <th>background</th>\n",
       "      <th>flux_best</th>\n",
       "      <th>fluxerr_best</th>\n",
       "      <th>mag_best</th>\n",
       "      <th>...</th>\n",
       "      <th>flux_stamp</th>\n",
       "      <th>flux_r</th>\n",
       "      <th>photnoise_stamp_r</th>\n",
       "      <th>readout_stamp_r</th>\n",
       "      <th>flux_g</th>\n",
       "      <th>photnoise_stamp_g</th>\n",
       "      <th>readout_stamp_g</th>\n",
       "      <th>flux_b</th>\n",
       "      <th>photnoise_stamp_b</th>\n",
       "      <th>readout_stamp_b</th>\n",
       "    </tr>\n",
       "    <tr>\n",
       "      <th>obs_time</th>\n",
       "      <th></th>\n",
       "      <th></th>\n",
       "      <th></th>\n",
       "      <th></th>\n",
       "      <th></th>\n",
       "      <th></th>\n",
       "      <th></th>\n",
       "      <th></th>\n",
       "      <th></th>\n",
       "      <th></th>\n",
       "      <th></th>\n",
       "      <th></th>\n",
       "      <th></th>\n",
       "      <th></th>\n",
       "      <th></th>\n",
       "      <th></th>\n",
       "      <th></th>\n",
       "      <th></th>\n",
       "      <th></th>\n",
       "      <th></th>\n",
       "      <th></th>\n",
       "    </tr>\n",
       "  </thead>\n",
       "  <tbody>\n",
       "    <tr>\n",
       "      <th>2018-08-22 07:34:51</th>\n",
       "      <td>300.236369</td>\n",
       "      <td>22.846794</td>\n",
       "      <td>2156</td>\n",
       "      <td>1360</td>\n",
       "      <td>2156.4866</td>\n",
       "      <td>1359.5100</td>\n",
       "      <td>3200.374</td>\n",
       "      <td>25030.39</td>\n",
       "      <td>1690.015</td>\n",
       "      <td>14.0038</td>\n",
       "      <td>...</td>\n",
       "      <td>25685.536</td>\n",
       "      <td>2221.0</td>\n",
       "      <td>47.134213</td>\n",
       "      <td>63.0</td>\n",
       "      <td>21274.0</td>\n",
       "      <td>145.857012</td>\n",
       "      <td>126.0</td>\n",
       "      <td>2189.0</td>\n",
       "      <td>46.793525</td>\n",
       "      <td>63.0</td>\n",
       "    </tr>\n",
       "    <tr>\n",
       "      <th>2018-08-22 07:36:46</th>\n",
       "      <td>300.236655</td>\n",
       "      <td>22.846633</td>\n",
       "      <td>2156</td>\n",
       "      <td>1360</td>\n",
       "      <td>2156.4055</td>\n",
       "      <td>1359.8383</td>\n",
       "      <td>3146.595</td>\n",
       "      <td>27885.76</td>\n",
       "      <td>1660.445</td>\n",
       "      <td>13.8865</td>\n",
       "      <td>...</td>\n",
       "      <td>28564.580</td>\n",
       "      <td>2672.0</td>\n",
       "      <td>51.697631</td>\n",
       "      <td>63.0</td>\n",
       "      <td>23204.0</td>\n",
       "      <td>152.329544</td>\n",
       "      <td>126.0</td>\n",
       "      <td>2687.0</td>\n",
       "      <td>51.842502</td>\n",
       "      <td>63.0</td>\n",
       "    </tr>\n",
       "    <tr>\n",
       "      <th>2018-08-22 07:40:32</th>\n",
       "      <td>300.236723</td>\n",
       "      <td>22.846670</td>\n",
       "      <td>2156</td>\n",
       "      <td>1359</td>\n",
       "      <td>2156.3469</td>\n",
       "      <td>1358.8904</td>\n",
       "      <td>3164.040</td>\n",
       "      <td>26137.27</td>\n",
       "      <td>1797.247</td>\n",
       "      <td>13.9568</td>\n",
       "      <td>...</td>\n",
       "      <td>26612.560</td>\n",
       "      <td>2283.0</td>\n",
       "      <td>47.787446</td>\n",
       "      <td>63.0</td>\n",
       "      <td>21363.0</td>\n",
       "      <td>146.161828</td>\n",
       "      <td>126.0</td>\n",
       "      <td>2965.0</td>\n",
       "      <td>54.457690</td>\n",
       "      <td>63.0</td>\n",
       "    </tr>\n",
       "    <tr>\n",
       "      <th>2018-08-22 07:42:20</th>\n",
       "      <td>300.236330</td>\n",
       "      <td>22.846922</td>\n",
       "      <td>2156</td>\n",
       "      <td>1360</td>\n",
       "      <td>2156.4702</td>\n",
       "      <td>1359.6477</td>\n",
       "      <td>3052.553</td>\n",
       "      <td>28381.63</td>\n",
       "      <td>1623.530</td>\n",
       "      <td>13.8674</td>\n",
       "      <td>...</td>\n",
       "      <td>30651.092</td>\n",
       "      <td>3601.0</td>\n",
       "      <td>60.008524</td>\n",
       "      <td>63.0</td>\n",
       "      <td>23986.0</td>\n",
       "      <td>154.874291</td>\n",
       "      <td>126.0</td>\n",
       "      <td>3064.0</td>\n",
       "      <td>55.353618</td>\n",
       "      <td>63.0</td>\n",
       "    </tr>\n",
       "    <tr>\n",
       "      <th>2018-08-22 07:44:07</th>\n",
       "      <td>300.236543</td>\n",
       "      <td>22.846489</td>\n",
       "      <td>2156</td>\n",
       "      <td>1360</td>\n",
       "      <td>2156.4060</td>\n",
       "      <td>1359.9175</td>\n",
       "      <td>3167.001</td>\n",
       "      <td>25501.55</td>\n",
       "      <td>1582.051</td>\n",
       "      <td>13.9836</td>\n",
       "      <td>...</td>\n",
       "      <td>27480.964</td>\n",
       "      <td>2507.0</td>\n",
       "      <td>50.079846</td>\n",
       "      <td>63.0</td>\n",
       "      <td>22583.0</td>\n",
       "      <td>150.279679</td>\n",
       "      <td>126.0</td>\n",
       "      <td>2388.0</td>\n",
       "      <td>48.877306</td>\n",
       "      <td>63.0</td>\n",
       "    </tr>\n",
       "  </tbody>\n",
       "</table>\n",
       "<p>5 rows × 35 columns</p>\n",
       "</div>"
      ],
      "text/plain": [
       "                             ra        dec     x     y  xpeak_image  \\\n",
       "obs_time                                                              \n",
       "2018-08-22 07:34:51  300.236369  22.846794  2156  1360    2156.4866   \n",
       "2018-08-22 07:36:46  300.236655  22.846633  2156  1360    2156.4055   \n",
       "2018-08-22 07:40:32  300.236723  22.846670  2156  1359    2156.3469   \n",
       "2018-08-22 07:42:20  300.236330  22.846922  2156  1360    2156.4702   \n",
       "2018-08-22 07:44:07  300.236543  22.846489  2156  1360    2156.4060   \n",
       "\n",
       "                     ypeak_image  background  flux_best  fluxerr_best  \\\n",
       "obs_time                                                                \n",
       "2018-08-22 07:34:51    1359.5100    3200.374   25030.39      1690.015   \n",
       "2018-08-22 07:36:46    1359.8383    3146.595   27885.76      1660.445   \n",
       "2018-08-22 07:40:32    1358.8904    3164.040   26137.27      1797.247   \n",
       "2018-08-22 07:42:20    1359.6477    3052.553   28381.63      1623.530   \n",
       "2018-08-22 07:44:07    1359.9175    3167.001   25501.55      1582.051   \n",
       "\n",
       "                     mag_best       ...         flux_stamp  flux_r  \\\n",
       "obs_time                            ...                              \n",
       "2018-08-22 07:34:51   14.0038       ...          25685.536  2221.0   \n",
       "2018-08-22 07:36:46   13.8865       ...          28564.580  2672.0   \n",
       "2018-08-22 07:40:32   13.9568       ...          26612.560  2283.0   \n",
       "2018-08-22 07:42:20   13.8674       ...          30651.092  3601.0   \n",
       "2018-08-22 07:44:07   13.9836       ...          27480.964  2507.0   \n",
       "\n",
       "                     photnoise_stamp_r  readout_stamp_r   flux_g  \\\n",
       "obs_time                                                           \n",
       "2018-08-22 07:34:51          47.134213             63.0  21274.0   \n",
       "2018-08-22 07:36:46          51.697631             63.0  23204.0   \n",
       "2018-08-22 07:40:32          47.787446             63.0  21363.0   \n",
       "2018-08-22 07:42:20          60.008524             63.0  23986.0   \n",
       "2018-08-22 07:44:07          50.079846             63.0  22583.0   \n",
       "\n",
       "                     photnoise_stamp_g  readout_stamp_g  flux_b  \\\n",
       "obs_time                                                          \n",
       "2018-08-22 07:34:51         145.857012            126.0  2189.0   \n",
       "2018-08-22 07:36:46         152.329544            126.0  2687.0   \n",
       "2018-08-22 07:40:32         146.161828            126.0  2965.0   \n",
       "2018-08-22 07:42:20         154.874291            126.0  3064.0   \n",
       "2018-08-22 07:44:07         150.279679            126.0  2388.0   \n",
       "\n",
       "                     photnoise_stamp_b  readout_stamp_b  \n",
       "obs_time                                                 \n",
       "2018-08-22 07:34:51          46.793525             63.0  \n",
       "2018-08-22 07:36:46          51.842502             63.0  \n",
       "2018-08-22 07:40:32          54.457690             63.0  \n",
       "2018-08-22 07:42:20          55.353618             63.0  \n",
       "2018-08-22 07:44:07          48.877306             63.0  \n",
       "\n",
       "[5 rows x 35 columns]"
      ]
     },
     "execution_count": 111,
     "metadata": {},
     "output_type": "execute_result"
    },
    {
     "name": "stdout",
     "output_type": "stream",
     "text": [
      "time: 30.9 ms\n"
     ]
    }
   ],
   "source": [
    "target_table.tail()"
   ]
  },
  {
   "cell_type": "code",
   "execution_count": null,
   "metadata": {},
   "outputs": [],
   "source": [
    "plt.figure(figsize=(12, 9))\n",
    "\n",
    "\n",
    "for filter_name, est_photons in est_photon_counts.items():\n",
    "    if not est_photons:\n",
    "        continue\n",
    "        \n",
    "    print(filter_name, est_photons)\n",
    "        \n",
    "    color = filter_colors[filter_name]\n",
    "\n",
    "    est_counts = (((est_photon_counts[filter_name] * (exp_time * u.second)) / gain) * (1 * u.electron) / (1 * u.photon)).value\n",
    "    err_counts = np.sqrt(est_counts)\n",
    "\n",
    "    print(f'Est counts at {exp_time}s: {est_counts:0.2f} {err_counts:.02f} ({(err_counts/est_counts):.02%}) ADU')\n",
    "\n",
    "    scint_index = helpers.scintillation_index(exp_time, target_table.airmass.values, 100, correction_coeff=1.5)    \n",
    "    \n",
    "    s_noise = np.sqrt(scint_index)\n",
    "    p_noise = (err_counts / est_counts)\n",
    "    r_noise = target_table[f'readout_stamp_{color}']\n",
    "\n",
    "    noise_level = np.sqrt(s_noise**2 + p_noise**2 + r_noise**2)\n",
    "    \n",
    "    plt.plot(target_table.index.values, r_noise, label=f'Est. Photon + scint {color}', color=color, **est_style)\n",
    "#     plt.plot(target_table.index.values, noise_level, label=f'Est. Photon + scint {color}', color=color, **est_style)\n",
    "\n",
    "    # for color in 'rgb':\n",
    "    #     target_table[f'photnoise_stamp_{color}'].plot(color=color, label=f'Measured photon {color}')\n",
    "    #     (target_table[f'photnoise_stamp_{color}'] / target_table[f'flux_{color}']).plot(color=color, label=f'Actual Photon Noise {color}')\n",
    "\n",
    "plt.ylabel('Noise Level')\n",
    "plt.title('Noise Sources')\n",
    "plt.legend(fontsize=18)"
   ]
  },
  {
   "cell_type": "code",
   "execution_count": 114,
   "metadata": {},
   "outputs": [
    {
     "data": {
      "text/html": [
       "<div>\n",
       "<style scoped>\n",
       "    .dataframe tbody tr th:only-of-type {\n",
       "        vertical-align: middle;\n",
       "    }\n",
       "\n",
       "    .dataframe tbody tr th {\n",
       "        vertical-align: top;\n",
       "    }\n",
       "\n",
       "    .dataframe thead th {\n",
       "        text-align: right;\n",
       "    }\n",
       "</style>\n",
       "<table border=\"1\" class=\"dataframe\">\n",
       "  <thead>\n",
       "    <tr style=\"text-align: right;\">\n",
       "      <th></th>\n",
       "      <th>ra</th>\n",
       "      <th>dec</th>\n",
       "      <th>x</th>\n",
       "      <th>y</th>\n",
       "      <th>xpeak_image</th>\n",
       "      <th>ypeak_image</th>\n",
       "      <th>background</th>\n",
       "      <th>flux_best</th>\n",
       "      <th>fluxerr_best</th>\n",
       "      <th>mag_best</th>\n",
       "      <th>...</th>\n",
       "      <th>flux_stamp</th>\n",
       "      <th>flux_r</th>\n",
       "      <th>photnoise_stamp_r</th>\n",
       "      <th>readout_stamp_r</th>\n",
       "      <th>flux_g</th>\n",
       "      <th>photnoise_stamp_g</th>\n",
       "      <th>readout_stamp_g</th>\n",
       "      <th>flux_b</th>\n",
       "      <th>photnoise_stamp_b</th>\n",
       "      <th>readout_stamp_b</th>\n",
       "    </tr>\n",
       "    <tr>\n",
       "      <th>obs_time</th>\n",
       "      <th></th>\n",
       "      <th></th>\n",
       "      <th></th>\n",
       "      <th></th>\n",
       "      <th></th>\n",
       "      <th></th>\n",
       "      <th></th>\n",
       "      <th></th>\n",
       "      <th></th>\n",
       "      <th></th>\n",
       "      <th></th>\n",
       "      <th></th>\n",
       "      <th></th>\n",
       "      <th></th>\n",
       "      <th></th>\n",
       "      <th></th>\n",
       "      <th></th>\n",
       "      <th></th>\n",
       "      <th></th>\n",
       "      <th></th>\n",
       "      <th></th>\n",
       "    </tr>\n",
       "  </thead>\n",
       "  <tbody>\n",
       "    <tr>\n",
       "      <th>2018-08-22 04:02:02</th>\n",
       "      <td>300.237426</td>\n",
       "      <td>22.846661</td>\n",
       "      <td>2156</td>\n",
       "      <td>1359</td>\n",
       "      <td>2155.9385</td>\n",
       "      <td>1358.6533</td>\n",
       "      <td>3429.876</td>\n",
       "      <td>22171.11</td>\n",
       "      <td>1747.121</td>\n",
       "      <td>14.1355</td>\n",
       "      <td>...</td>\n",
       "      <td>23582.464</td>\n",
       "      <td>197.0</td>\n",
       "      <td>14.039801</td>\n",
       "      <td>63.0</td>\n",
       "      <td>20813.0</td>\n",
       "      <td>144.267917</td>\n",
       "      <td>126.0</td>\n",
       "      <td>2572.0</td>\n",
       "      <td>50.716033</td>\n",
       "      <td>63.0</td>\n",
       "    </tr>\n",
       "    <tr>\n",
       "      <th>2018-08-22 04:07:23</th>\n",
       "      <td>300.236869</td>\n",
       "      <td>22.846899</td>\n",
       "      <td>2157</td>\n",
       "      <td>1360</td>\n",
       "      <td>2156.6675</td>\n",
       "      <td>1360.1027</td>\n",
       "      <td>3354.990</td>\n",
       "      <td>26296.18</td>\n",
       "      <td>1710.539</td>\n",
       "      <td>13.9503</td>\n",
       "      <td>...</td>\n",
       "      <td>26107.360</td>\n",
       "      <td>2068.0</td>\n",
       "      <td>45.476258</td>\n",
       "      <td>63.0</td>\n",
       "      <td>21588.0</td>\n",
       "      <td>146.929167</td>\n",
       "      <td>126.0</td>\n",
       "      <td>2451.0</td>\n",
       "      <td>49.508484</td>\n",
       "      <td>63.0</td>\n",
       "    </tr>\n",
       "    <tr>\n",
       "      <th>2018-08-22 04:09:11</th>\n",
       "      <td>300.236971</td>\n",
       "      <td>22.846837</td>\n",
       "      <td>2156</td>\n",
       "      <td>1360</td>\n",
       "      <td>2156.4971</td>\n",
       "      <td>1360.1202</td>\n",
       "      <td>3153.687</td>\n",
       "      <td>32677.42</td>\n",
       "      <td>1718.140</td>\n",
       "      <td>13.7144</td>\n",
       "      <td>...</td>\n",
       "      <td>32712.268</td>\n",
       "      <td>3228.0</td>\n",
       "      <td>56.822680</td>\n",
       "      <td>63.0</td>\n",
       "      <td>25047.0</td>\n",
       "      <td>158.264443</td>\n",
       "      <td>126.0</td>\n",
       "      <td>4435.0</td>\n",
       "      <td>66.601929</td>\n",
       "      <td>63.0</td>\n",
       "    </tr>\n",
       "    <tr>\n",
       "      <th>2018-08-22 04:10:58</th>\n",
       "      <td>300.236917</td>\n",
       "      <td>22.846907</td>\n",
       "      <td>2156</td>\n",
       "      <td>1360</td>\n",
       "      <td>2156.4124</td>\n",
       "      <td>1360.2173</td>\n",
       "      <td>3288.645</td>\n",
       "      <td>28851.19</td>\n",
       "      <td>1706.164</td>\n",
       "      <td>13.8496</td>\n",
       "      <td>...</td>\n",
       "      <td>28336.780</td>\n",
       "      <td>2090.0</td>\n",
       "      <td>45.718650</td>\n",
       "      <td>63.0</td>\n",
       "      <td>22754.0</td>\n",
       "      <td>150.845583</td>\n",
       "      <td>126.0</td>\n",
       "      <td>3492.0</td>\n",
       "      <td>59.094797</td>\n",
       "      <td>63.0</td>\n",
       "    </tr>\n",
       "    <tr>\n",
       "      <th>2018-08-22 04:12:46</th>\n",
       "      <td>300.237186</td>\n",
       "      <td>22.846793</td>\n",
       "      <td>2156</td>\n",
       "      <td>1358</td>\n",
       "      <td>2155.9214</td>\n",
       "      <td>1358.4288</td>\n",
       "      <td>3257.850</td>\n",
       "      <td>29774.37</td>\n",
       "      <td>1693.124</td>\n",
       "      <td>13.8154</td>\n",
       "      <td>...</td>\n",
       "      <td>29577.400</td>\n",
       "      <td>1845.0</td>\n",
       "      <td>42.957537</td>\n",
       "      <td>63.0</td>\n",
       "      <td>23688.0</td>\n",
       "      <td>153.911338</td>\n",
       "      <td>126.0</td>\n",
       "      <td>4043.0</td>\n",
       "      <td>63.587342</td>\n",
       "      <td>63.0</td>\n",
       "    </tr>\n",
       "  </tbody>\n",
       "</table>\n",
       "<p>5 rows × 35 columns</p>\n",
       "</div>"
      ],
      "text/plain": [
       "                             ra        dec     x     y  xpeak_image  \\\n",
       "obs_time                                                              \n",
       "2018-08-22 04:02:02  300.237426  22.846661  2156  1359    2155.9385   \n",
       "2018-08-22 04:07:23  300.236869  22.846899  2157  1360    2156.6675   \n",
       "2018-08-22 04:09:11  300.236971  22.846837  2156  1360    2156.4971   \n",
       "2018-08-22 04:10:58  300.236917  22.846907  2156  1360    2156.4124   \n",
       "2018-08-22 04:12:46  300.237186  22.846793  2156  1358    2155.9214   \n",
       "\n",
       "                     ypeak_image  background  flux_best  fluxerr_best  \\\n",
       "obs_time                                                                \n",
       "2018-08-22 04:02:02    1358.6533    3429.876   22171.11      1747.121   \n",
       "2018-08-22 04:07:23    1360.1027    3354.990   26296.18      1710.539   \n",
       "2018-08-22 04:09:11    1360.1202    3153.687   32677.42      1718.140   \n",
       "2018-08-22 04:10:58    1360.2173    3288.645   28851.19      1706.164   \n",
       "2018-08-22 04:12:46    1358.4288    3257.850   29774.37      1693.124   \n",
       "\n",
       "                     mag_best       ...         flux_stamp  flux_r  \\\n",
       "obs_time                            ...                              \n",
       "2018-08-22 04:02:02   14.1355       ...          23582.464   197.0   \n",
       "2018-08-22 04:07:23   13.9503       ...          26107.360  2068.0   \n",
       "2018-08-22 04:09:11   13.7144       ...          32712.268  3228.0   \n",
       "2018-08-22 04:10:58   13.8496       ...          28336.780  2090.0   \n",
       "2018-08-22 04:12:46   13.8154       ...          29577.400  1845.0   \n",
       "\n",
       "                     photnoise_stamp_r  readout_stamp_r   flux_g  \\\n",
       "obs_time                                                           \n",
       "2018-08-22 04:02:02          14.039801             63.0  20813.0   \n",
       "2018-08-22 04:07:23          45.476258             63.0  21588.0   \n",
       "2018-08-22 04:09:11          56.822680             63.0  25047.0   \n",
       "2018-08-22 04:10:58          45.718650             63.0  22754.0   \n",
       "2018-08-22 04:12:46          42.957537             63.0  23688.0   \n",
       "\n",
       "                     photnoise_stamp_g  readout_stamp_g  flux_b  \\\n",
       "obs_time                                                          \n",
       "2018-08-22 04:02:02         144.267917            126.0  2572.0   \n",
       "2018-08-22 04:07:23         146.929167            126.0  2451.0   \n",
       "2018-08-22 04:09:11         158.264443            126.0  4435.0   \n",
       "2018-08-22 04:10:58         150.845583            126.0  3492.0   \n",
       "2018-08-22 04:12:46         153.911338            126.0  4043.0   \n",
       "\n",
       "                     photnoise_stamp_b  readout_stamp_b  \n",
       "obs_time                                                 \n",
       "2018-08-22 04:02:02          50.716033             63.0  \n",
       "2018-08-22 04:07:23          49.508484             63.0  \n",
       "2018-08-22 04:09:11          66.601929             63.0  \n",
       "2018-08-22 04:10:58          59.094797             63.0  \n",
       "2018-08-22 04:12:46          63.587342             63.0  \n",
       "\n",
       "[5 rows x 35 columns]"
      ]
     },
     "execution_count": 114,
     "metadata": {},
     "output_type": "execute_result"
    },
    {
     "name": "stdout",
     "output_type": "stream",
     "text": [
      "time: 32.2 ms\n"
     ]
    }
   ],
   "source": [
    "target_table.head()"
   ]
  }
 ],
 "metadata": {
  "kernelspec": {
   "display_name": "Python 3",
   "language": "python",
   "name": "python3"
  },
  "language_info": {
   "codemirror_mode": {
    "name": "ipython",
    "version": 3
   },
   "file_extension": ".py",
   "mimetype": "text/x-python",
   "name": "python",
   "nbconvert_exporter": "python",
   "pygments_lexer": "ipython3",
   "version": "3.6.6"
  }
 },
 "nbformat": 4,
 "nbformat_minor": 2
}
