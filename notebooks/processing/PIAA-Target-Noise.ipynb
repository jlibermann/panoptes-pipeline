{
 "cells": [
  {
   "cell_type": "code",
   "execution_count": 1,
   "metadata": {},
   "outputs": [],
   "source": [
    "%load_ext autotime"
   ]
  },
  {
   "cell_type": "markdown",
   "metadata": {},
   "source": [
    "# Examine Target\n",
    "\n",
    "This notebook look at some of the properties for a specific target as pulled from the sources listed generated in the [Source Detection](PIAA-Source-Detection-And-Filtering.ipynb) notebook. \n",
    "\n",
    "Note that this step is not necessary for the processing of an observation sequence as a whole but instead serves to highlight some of the issues with processing the images in a traditional fashion and thus helps motivate our unique algorithm."
   ]
  },
  {
   "cell_type": "code",
   "execution_count": 2,
   "metadata": {},
   "outputs": [
    {
     "name": "stdout",
     "output_type": "stream",
     "text": [
      "time: 3.2 s\n"
     ]
    }
   ],
   "source": [
    "import os\n",
    "\n",
    "from matplotlib import cm\n",
    "from matplotlib import pyplot as plt\n",
    "plt.style.use('bmh')\n",
    "\n",
    "import numpy as np\n",
    "import pandas as pd\n",
    "from collections import defaultdict\n",
    "\n",
    "from tqdm import tqdm_notebook as tqdm\n",
    "\n",
    "from piaa.utils import pipeline\n",
    "from piaa.utils import helpers\n",
    "from piaa.utils import plot\n",
    "from piaa.utils.postgres import get_cursor\n",
    "from piaa.utils import noise\n",
    "\n",
    "from pocs.utils.images import fits as fits_utils\n",
    "from pocs.utils.google.storage import PanStorage\n",
    "\n",
    "from astropy.io import fits\n",
    "from astropy.stats import sigma_clip, sigma_clipped_stats\n",
    "from astropy import units as u\n",
    "\n",
    "tess_cursor = get_cursor(port=5433, db_name='v6', db_user='postgres')\n",
    "\n",
    "styles = plot.get_labelled_style_cycler(cmap='Paired')"
   ]
  },
  {
   "cell_type": "markdown",
   "metadata": {},
   "source": [
    "## Specify Target\n",
    "\n",
    "Here we look up the target HD189733 by the 2MASS ID."
   ]
  },
  {
   "cell_type": "code",
   "execution_count": 15,
   "metadata": {},
   "outputs": [
    {
     "name": "stdout",
     "output_type": "stream",
     "text": [
      "time: 48.7 ms\n"
     ]
    }
   ],
   "source": [
    "# picid = 435715608\n",
    "# picid = 287933433\n",
    "# picid = 287511722\n",
    "# picid = 393243342\n",
    "# picid = 343362027 # Hot pixel?\n",
    "# picid = 11133916  # Same mag as HD189733\n",
    "# picid = 86234511\n",
    "# picid = helpers.get_star_info(twomass_id='20005694+2250490', cursor=tess_cursor).id\n",
    "picid = 11135315\n",
    "\n",
    "star_info = helpers.get_star_info(picid=picid, cursor=tess_cursor)"
   ]
  },
  {
   "cell_type": "code",
   "execution_count": 4,
   "metadata": {},
   "outputs": [
    {
     "name": "stdout",
     "output_type": "stream",
     "text": [
      "time: 46.5 ms\n"
     ]
    }
   ],
   "source": [
    "twomass = '20004370+2242391'\n",
    "\n",
    "star_info = helpers.get_star_info(twomass_id=twomass, cursor=tess_cursor)\n",
    "picid = star_info.id  # HD 189733"
   ]
  },
  {
   "cell_type": "code",
   "execution_count": 16,
   "metadata": {},
   "outputs": [
    {
     "name": "stdout",
     "output_type": "stream",
     "text": [
      "PICID: 11135315\n",
      "time: 1.02 ms\n"
     ]
    }
   ],
   "source": [
    "print(f'PICID: {picid}')"
   ]
  },
  {
   "cell_type": "markdown",
   "metadata": {},
   "source": [
    "#### Observation sources\n",
    "\n",
    "We use the previously detected and filtered sources to examine our target. See the [Source-Detection](Source-Detection-And-Filtering.ipynb) for details."
   ]
  },
  {
   "cell_type": "code",
   "execution_count": 6,
   "metadata": {},
   "outputs": [
    {
     "name": "stdout",
     "output_type": "stream",
     "text": [
      "time: 949 ms\n"
     ]
    }
   ],
   "source": [
    "base_dir = '/var/panoptes/images/fields/PAN012/358d0f/20180822T035809/'\n",
    "# base_dir = '/var/panoptes/images/fields/PAN001/Hd189733/14d3bd/20180913T085704/'\n",
    "source_filename = os.path.join(base_dir, f'point-sources-filtered.csv')\n",
    "\n",
    "sources = pipeline.lookup_sources_for_observation(filename=source_filename).set_index(['picid'], append=True)"
   ]
  },
  {
   "cell_type": "markdown",
   "metadata": {},
   "source": [
    "For our target table we want to compare the flux as calculated from `sextractor` (which has no knowledge of the RGB array) with that pulled from a custom stamp.  `sextractor` uses a 6-pixel circular aperture  centered around the calculated centroid (the `x` and `y` values in our `sources` table) while our custom stamps will use an aperture that is sliced according to our rule of having a fixed pixel pattern. Here we use a 6-pixel aperture on our stamps for direct comparison with `sextractor` but the size can be vary."
   ]
  },
  {
   "cell_type": "code",
   "execution_count": 7,
   "metadata": {},
   "outputs": [
    {
     "name": "stdout",
     "output_type": "stream",
     "text": [
      "time: 2.67 ms\n"
     ]
    }
   ],
   "source": [
    "camera_bias = 2048 * u.adu\n",
    "stamp_size = 6 * u.pixel\n",
    "num_pixels = (stamp_size**2).value\n",
    "\n",
    "readout_noise = 10.5 * u.electron / u.pixel\n",
    "gain = 1.5 * (u.electron / u.adu)\n",
    "qe = 0.43\n",
    "\n",
    "focal_length = 85 * u.mm\n",
    "fstop = 1.4\n",
    "\n",
    "aperture_area = focal_length / fstop\n",
    "aperture_area = (np.pi * (aperture_area / 2)**2).to(u.m * u.m)"
   ]
  },
  {
   "cell_type": "code",
   "execution_count": 8,
   "metadata": {},
   "outputs": [
    {
     "name": "stdout",
     "output_type": "stream",
     "text": [
      "time: 743 µs\n"
     ]
    }
   ],
   "source": [
    "num_sources = len(sources.index.levels[1])"
   ]
  },
  {
   "cell_type": "code",
   "execution_count": 9,
   "metadata": {},
   "outputs": [
    {
     "data": {
      "application/vnd.jupyter.widget-view+json": {
       "model_id": "51f156f115c0456d84617ff75e66f6cf",
       "version_major": 2,
       "version_minor": 0
      },
      "text/plain": [
       "HBox(children=(IntProgress(value=0, max=847), HTML(value='')))"
      ]
     },
     "metadata": {},
     "output_type": "display_data"
    },
    {
     "name": "stdout",
     "output_type": "stream",
     "text": [
      "\n",
      "time: 54min 25s\n"
     ]
    }
   ],
   "source": [
    "counts = list()\n",
    "\n",
    "i = 0\n",
    "for pid, target_table in tqdm(sources.groupby('picid'), total=num_sources):\n",
    "    i += 1\n",
    "#     if i > 10:\n",
    "#         break\n",
    "    psc = pd.read_csv(os.path.join(base_dir, 'stamps', f'{pid}.csv'), parse_dates=True).set_index(['obs_time', 'picid'])\n",
    "    \n",
    "    for idx, row in psc.iterrows():\n",
    "        date_obs= idx[0]\n",
    "        stamp = row.values.reshape(10, 10) - camera_bias.value\n",
    "        \n",
    "        row_info = dict(date_obs=date_obs, picid=pid)\n",
    "\n",
    "        # Store the overall flux count\n",
    "        flux_stamp = stamp.sum()\n",
    "        row_info['stamp'] = flux_stamp\n",
    "        \n",
    "        stamp_mean, stamp_med, stamp_std = sigma_clipped_stats(stamp)\n",
    "        row_info['stamp_back_mean'] = stamp_mean\n",
    "        row_info['stamp_back_std'] = stamp_std\n",
    "        \n",
    "        color_data = helpers.get_rgb_data(stamp, force_new=True)\n",
    "\n",
    "        # Calculate some properties for each channel\n",
    "        for color, data in zip('rgb', color_data):\n",
    "            # Total sum of stamp\n",
    "            stamp_sum = int(data.sum())\n",
    "            \n",
    "            # Background noise\n",
    "            back_mean, back_med, back_std = sigma_clipped_stats(data)\n",
    "            row_info[f'{color}_back_mean'] = back_mean\n",
    "            row_info[f'{color}_back_std'] = back_std\n",
    "            \n",
    "            stamp_sum = (data - back_mean).sum()\n",
    "            \n",
    "            if stamp_sum <= 0:\n",
    "#                 print(f'Negative stamp: {pid} {color} {date_obs} {stamp_sum}')\n",
    "                continue\n",
    "                \n",
    "            row_info[f'{color}_raw'] = data.sum()\n",
    "            row_info[f'{color}_stamp'] = stamp_sum\n",
    "\n",
    "            # Photon noise\n",
    "            count_noise = int(np.sqrt(stamp_sum))\n",
    "            row_info[f'{color}_stamp_noise'] = count_noise\n",
    "\n",
    "            # Readout noise\n",
    "            readout = ((readout_noise / gain) * (data.count() * u.pixel)).value\n",
    "            row_info[f'{color}_readout_noise'] = readout\n",
    "            \n",
    "        counts.append(row_info)\n",
    "\n",
    "df1 = pd.DataFrame(counts).set_index(['date_obs'])\n",
    "df1.index = pd.to_datetime(df1.index)\n",
    "df1.to_csv(os.path.join(base_dir, f'point-sources-noise.csv'))"
   ]
  },
  {
   "cell_type": "code",
   "execution_count": 17,
   "metadata": {},
   "outputs": [
    {
     "name": "stdout",
     "output_type": "stream",
     "text": [
      "time: 4.19 ms\n"
     ]
    }
   ],
   "source": [
    "target_noise = df1.loc[df1.picid == picid]"
   ]
  },
  {
   "cell_type": "code",
   "execution_count": 20,
   "metadata": {},
   "outputs": [
    {
     "data": {
      "text/html": [
       "<div>\n",
       "<style scoped>\n",
       "    .dataframe tbody tr th:only-of-type {\n",
       "        vertical-align: middle;\n",
       "    }\n",
       "\n",
       "    .dataframe tbody tr th {\n",
       "        vertical-align: top;\n",
       "    }\n",
       "\n",
       "    .dataframe thead th {\n",
       "        text-align: right;\n",
       "    }\n",
       "</style>\n",
       "<table border=\"1\" class=\"dataframe\">\n",
       "  <thead>\n",
       "    <tr style=\"text-align: right;\">\n",
       "      <th></th>\n",
       "      <th>b_back_mean</th>\n",
       "      <th>b_back_std</th>\n",
       "      <th>b_readout_noise</th>\n",
       "      <th>b_stamp</th>\n",
       "      <th>b_stamp_noise</th>\n",
       "      <th>g_back_mean</th>\n",
       "      <th>g_back_std</th>\n",
       "      <th>g_readout_noise</th>\n",
       "      <th>g_stamp</th>\n",
       "      <th>g_stamp_noise</th>\n",
       "      <th>picid</th>\n",
       "      <th>r_back_mean</th>\n",
       "      <th>r_back_std</th>\n",
       "      <th>r_readout_noise</th>\n",
       "      <th>r_stamp</th>\n",
       "      <th>r_stamp_noise</th>\n",
       "      <th>stamp</th>\n",
       "      <th>stamp_back_mean</th>\n",
       "      <th>stamp_back_std</th>\n",
       "    </tr>\n",
       "    <tr>\n",
       "      <th>date_obs</th>\n",
       "      <th></th>\n",
       "      <th></th>\n",
       "      <th></th>\n",
       "      <th></th>\n",
       "      <th></th>\n",
       "      <th></th>\n",
       "      <th></th>\n",
       "      <th></th>\n",
       "      <th></th>\n",
       "      <th></th>\n",
       "      <th></th>\n",
       "      <th></th>\n",
       "      <th></th>\n",
       "      <th></th>\n",
       "      <th></th>\n",
       "      <th></th>\n",
       "      <th></th>\n",
       "      <th></th>\n",
       "      <th></th>\n",
       "    </tr>\n",
       "  </thead>\n",
       "  <tbody>\n",
       "    <tr>\n",
       "      <th>2018-08-22 04:02:02</th>\n",
       "      <td>812.714286</td>\n",
       "      <td>66.586244</td>\n",
       "      <td>175.0</td>\n",
       "      <td>2858.142857</td>\n",
       "      <td>53.0</td>\n",
       "      <td>1547.565217</td>\n",
       "      <td>147.614753</td>\n",
       "      <td>350.0</td>\n",
       "      <td>3366.739130</td>\n",
       "      <td>58.0</td>\n",
       "      <td>11135315</td>\n",
       "      <td>978.409091</td>\n",
       "      <td>73.331538</td>\n",
       "      <td>175.0</td>\n",
       "      <td>1095.772727</td>\n",
       "      <td>33.0</td>\n",
       "      <td>129477.0</td>\n",
       "      <td>1278.666667</td>\n",
       "      <td>393.491622</td>\n",
       "    </tr>\n",
       "    <tr>\n",
       "      <th>2018-08-22 04:07:23</th>\n",
       "      <td>800.857143</td>\n",
       "      <td>57.501375</td>\n",
       "      <td>175.0</td>\n",
       "      <td>2191.571429</td>\n",
       "      <td>46.0</td>\n",
       "      <td>1563.306122</td>\n",
       "      <td>196.570723</td>\n",
       "      <td>350.0</td>\n",
       "      <td>1632.693878</td>\n",
       "      <td>40.0</td>\n",
       "      <td>11135315</td>\n",
       "      <td>972.250000</td>\n",
       "      <td>85.720111</td>\n",
       "      <td>175.0</td>\n",
       "      <td>721.750000</td>\n",
       "      <td>26.0</td>\n",
       "      <td>127039.0</td>\n",
       "      <td>1250.939394</td>\n",
       "      <td>370.309230</td>\n",
       "    </tr>\n",
       "    <tr>\n",
       "      <th>2018-08-22 04:09:11</th>\n",
       "      <td>780.210526</td>\n",
       "      <td>39.655860</td>\n",
       "      <td>175.0</td>\n",
       "      <td>2815.736842</td>\n",
       "      <td>53.0</td>\n",
       "      <td>1496.930233</td>\n",
       "      <td>109.861942</td>\n",
       "      <td>350.0</td>\n",
       "      <td>4612.488372</td>\n",
       "      <td>67.0</td>\n",
       "      <td>11135315</td>\n",
       "      <td>968.375000</td>\n",
       "      <td>88.216973</td>\n",
       "      <td>175.0</td>\n",
       "      <td>663.625000</td>\n",
       "      <td>25.0</td>\n",
       "      <td>126653.0</td>\n",
       "      <td>1248.161616</td>\n",
       "      <td>371.373909</td>\n",
       "    </tr>\n",
       "    <tr>\n",
       "      <th>2018-08-22 04:10:58</th>\n",
       "      <td>785.250000</td>\n",
       "      <td>33.901143</td>\n",
       "      <td>175.0</td>\n",
       "      <td>2792.750000</td>\n",
       "      <td>52.0</td>\n",
       "      <td>1528.234043</td>\n",
       "      <td>169.572832</td>\n",
       "      <td>350.0</td>\n",
       "      <td>2721.297872</td>\n",
       "      <td>52.0</td>\n",
       "      <td>11135315</td>\n",
       "      <td>968.458333</td>\n",
       "      <td>81.149029</td>\n",
       "      <td>175.0</td>\n",
       "      <td>679.541667</td>\n",
       "      <td>26.0</td>\n",
       "      <td>126448.0</td>\n",
       "      <td>1246.494949</td>\n",
       "      <td>372.849128</td>\n",
       "    </tr>\n",
       "    <tr>\n",
       "      <th>2018-08-22 04:12:46</th>\n",
       "      <td>798.272727</td>\n",
       "      <td>72.328281</td>\n",
       "      <td>175.0</td>\n",
       "      <td>2442.181818</td>\n",
       "      <td>49.0</td>\n",
       "      <td>1474.930233</td>\n",
       "      <td>105.031201</td>\n",
       "      <td>350.0</td>\n",
       "      <td>4745.488372</td>\n",
       "      <td>68.0</td>\n",
       "      <td>11135315</td>\n",
       "      <td>963.173913</td>\n",
       "      <td>83.431645</td>\n",
       "      <td>175.0</td>\n",
       "      <td>921.652174</td>\n",
       "      <td>30.0</td>\n",
       "      <td>125892.0</td>\n",
       "      <td>1245.383838</td>\n",
       "      <td>385.223448</td>\n",
       "    </tr>\n",
       "  </tbody>\n",
       "</table>\n",
       "</div>"
      ],
      "text/plain": [
       "                     b_back_mean  b_back_std  b_readout_noise      b_stamp  \\\n",
       "date_obs                                                                     \n",
       "2018-08-22 04:02:02   812.714286   66.586244            175.0  2858.142857   \n",
       "2018-08-22 04:07:23   800.857143   57.501375            175.0  2191.571429   \n",
       "2018-08-22 04:09:11   780.210526   39.655860            175.0  2815.736842   \n",
       "2018-08-22 04:10:58   785.250000   33.901143            175.0  2792.750000   \n",
       "2018-08-22 04:12:46   798.272727   72.328281            175.0  2442.181818   \n",
       "\n",
       "                     b_stamp_noise  g_back_mean  g_back_std  g_readout_noise  \\\n",
       "date_obs                                                                       \n",
       "2018-08-22 04:02:02           53.0  1547.565217  147.614753            350.0   \n",
       "2018-08-22 04:07:23           46.0  1563.306122  196.570723            350.0   \n",
       "2018-08-22 04:09:11           53.0  1496.930233  109.861942            350.0   \n",
       "2018-08-22 04:10:58           52.0  1528.234043  169.572832            350.0   \n",
       "2018-08-22 04:12:46           49.0  1474.930233  105.031201            350.0   \n",
       "\n",
       "                         g_stamp  g_stamp_noise     picid  r_back_mean  \\\n",
       "date_obs                                                                 \n",
       "2018-08-22 04:02:02  3366.739130           58.0  11135315   978.409091   \n",
       "2018-08-22 04:07:23  1632.693878           40.0  11135315   972.250000   \n",
       "2018-08-22 04:09:11  4612.488372           67.0  11135315   968.375000   \n",
       "2018-08-22 04:10:58  2721.297872           52.0  11135315   968.458333   \n",
       "2018-08-22 04:12:46  4745.488372           68.0  11135315   963.173913   \n",
       "\n",
       "                     r_back_std  r_readout_noise      r_stamp  r_stamp_noise  \\\n",
       "date_obs                                                                       \n",
       "2018-08-22 04:02:02   73.331538            175.0  1095.772727           33.0   \n",
       "2018-08-22 04:07:23   85.720111            175.0   721.750000           26.0   \n",
       "2018-08-22 04:09:11   88.216973            175.0   663.625000           25.0   \n",
       "2018-08-22 04:10:58   81.149029            175.0   679.541667           26.0   \n",
       "2018-08-22 04:12:46   83.431645            175.0   921.652174           30.0   \n",
       "\n",
       "                        stamp  stamp_back_mean  stamp_back_std  \n",
       "date_obs                                                        \n",
       "2018-08-22 04:02:02  129477.0      1278.666667      393.491622  \n",
       "2018-08-22 04:07:23  127039.0      1250.939394      370.309230  \n",
       "2018-08-22 04:09:11  126653.0      1248.161616      371.373909  \n",
       "2018-08-22 04:10:58  126448.0      1246.494949      372.849128  \n",
       "2018-08-22 04:12:46  125892.0      1245.383838      385.223448  "
      ]
     },
     "execution_count": 20,
     "metadata": {},
     "output_type": "execute_result"
    },
    {
     "name": "stdout",
     "output_type": "stream",
     "text": [
      "time: 29.9 ms\n"
     ]
    }
   ],
   "source": [
    "target_noise.head()"
   ]
  },
  {
   "cell_type": "code",
   "execution_count": 18,
   "metadata": {},
   "outputs": [
    {
     "name": "stdout",
     "output_type": "stream",
     "text": [
      "time: 2.66 ms\n"
     ]
    }
   ],
   "source": [
    "g_err = np.sqrt(target_noise.g_back_std**2 + target_noise.g_readout_noise**2 + target_noise.g_stamp_noise**2)"
   ]
  },
  {
   "cell_type": "code",
   "execution_count": 19,
   "metadata": {},
   "outputs": [
    {
     "data": {
      "text/plain": [
       "<matplotlib.axes._subplots.AxesSubplot at 0x7fca18f25780>"
      ]
     },
     "execution_count": 19,
     "metadata": {},
     "output_type": "execute_result"
    },
    {
     "data": {
      "image/png": "[encoded data removed]",
      "text/plain": [
       "<Figure size 864x648 with 1 Axes>"
      ]
     },
     "metadata": {
      "needs_background": "light"
     },
     "output_type": "display_data"
    },
    {
     "name": "stdout",
     "output_type": "stream",
     "text": [
      "time: 538 ms\n"
     ]
    }
   ],
   "source": [
    "plt.figure(figsize=(12, 9))\n",
    "target_noise.g_stamp.plot(ls='', marker='o', yerr=g_err)"
   ]
  }
 ],
 "metadata": {
  "kernelspec": {
   "display_name": "Python 3",
   "language": "python",
   "name": "python3"
  },
  "language_info": {
   "codemirror_mode": {
    "name": "ipython",
    "version": 3
   },
   "file_extension": ".py",
   "mimetype": "text/x-python",
   "name": "python",
   "nbconvert_exporter": "python",
   "pygments_lexer": "ipython3",
   "version": "3.6.6"
  }
 },
 "nbformat": 4,
 "nbformat_minor": 2
}
