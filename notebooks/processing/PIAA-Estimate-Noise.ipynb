{
 "cells": [
  {
   "cell_type": "code",
   "execution_count": 1,
   "metadata": {},
   "outputs": [],
   "source": [
    "%load_ext autotime"
   ]
  },
  {
   "cell_type": "markdown",
   "metadata": {},
   "source": [
    "# Examine Target\n",
    "\n",
    "This notebook look at some of the properties for a specific target as pulled from the sources listed generated in the [Source Detection](PIAA-Source-Detection-And-Filtering.ipynb) notebook. \n",
    "\n",
    "Note that this step is not necessary for the processing of an observation sequence as a whole but instead serves to highlight some of the issues with processing the images in a traditional fashion and thus helps motivate our unique algorithm."
   ]
  },
  {
   "cell_type": "code",
   "execution_count": 2,
   "metadata": {},
   "outputs": [
    {
     "name": "stdout",
     "output_type": "stream",
     "text": [
      "time: 4.05 s\n"
     ]
    }
   ],
   "source": [
    "import os\n",
    "\n",
    "from matplotlib import cm\n",
    "from matplotlib import pyplot as plt\n",
    "plt.style.use('bmh')\n",
    "\n",
    "import numpy as np\n",
    "import pandas as pd\n",
    "from collections import defaultdict\n",
    "\n",
    "from tqdm import tqdm_notebook as tqdm\n",
    "\n",
    "from piaa.utils import pipeline\n",
    "from piaa.utils import helpers\n",
    "from piaa.utils import plot\n",
    "from piaa.utils.postgres import get_cursor\n",
    "from piaa.utils import noise\n",
    "\n",
    "from pocs.utils.images import fits as fits_utils\n",
    "from pocs.utils.google.storage import PanStorage\n",
    "\n",
    "from astropy.io import fits\n",
    "from astropy.stats import sigma_clip, sigma_clipped_stats\n",
    "from astropy import units as u\n",
    "\n",
    "tess_cursor = get_cursor(port=5433, db_name='v6', db_user='postgres')\n",
    "\n",
    "styles = plot.get_labelled_style_cycler(cmap='Paired')"
   ]
  },
  {
   "cell_type": "markdown",
   "metadata": {},
   "source": [
    "## Specify Target\n",
    "\n",
    "Here we look up the target HD189733 by the 2MASS ID."
   ]
  },
  {
   "cell_type": "code",
   "execution_count": 8,
   "metadata": {},
   "outputs": [
    {
     "name": "stdout",
     "output_type": "stream",
     "text": [
      "time: 91.6 ms\n"
     ]
    }
   ],
   "source": [
    "# picid = 435715608\n",
    "# picid = 287933433\n",
    "# picid = 287511722\n",
    "# picid = 393243342\n",
    "# picid = 343362027 # Hot pixel?\n",
    "# picid = 11133916  # Same mag as HD189733\n",
    "# picid = 86234511\n",
    "# picid = helpers.get_star_info(twomass_id='20005694+2250490', cursor=tess_cursor).id\n",
    "picid = 11135315\n",
    "\n",
    "star_info = helpers.get_star_info(picid=picid, cursor=tess_cursor)"
   ]
  },
  {
   "cell_type": "code",
   "execution_count": 56,
   "metadata": {},
   "outputs": [
    {
     "name": "stdout",
     "output_type": "stream",
     "text": [
      "time: 49.2 ms\n"
     ]
    }
   ],
   "source": [
    "twomass = '20004370+2242391'\n",
    "\n",
    "star_info = helpers.get_star_info(twomass_id=twomass, cursor=tess_cursor)\n",
    "picid = star_info.id  # HD 189733"
   ]
  },
  {
   "cell_type": "code",
   "execution_count": 57,
   "metadata": {},
   "outputs": [
    {
     "name": "stdout",
     "output_type": "stream",
     "text": [
      "PICID: 256364928\n",
      "time: 906 µs\n"
     ]
    }
   ],
   "source": [
    "print(f'PICID: {picid}')"
   ]
  },
  {
   "cell_type": "markdown",
   "metadata": {},
   "source": [
    "#### Observation sources\n",
    "\n",
    "We use the previously detected and filtered sources to examine our target. See the [Source-Detection](Source-Detection-And-Filtering.ipynb) for details."
   ]
  },
  {
   "cell_type": "code",
   "execution_count": 4,
   "metadata": {},
   "outputs": [
    {
     "name": "stdout",
     "output_type": "stream",
     "text": [
      "time: 1.25 s\n"
     ]
    }
   ],
   "source": [
    "base_dir = '/var/panoptes/images/fields/PAN012/358d0f/20180822T035809/'\n",
    "# base_dir = '/var/panoptes/images/fields/PAN001/Hd189733/14d3bd/20180913T085704/'\n",
    "source_filename = os.path.join(base_dir, f'point-sources-filtered.csv')\n",
    "\n",
    "sources = pipeline.lookup_sources_for_observation(filename=source_filename).set_index(['picid'], append=True)"
   ]
  },
  {
   "cell_type": "markdown",
   "metadata": {},
   "source": [
    "For our target table we want to compare the flux as calculated from `sextractor` (which has no knowledge of the RGB array) with that pulled from a custom stamp.  `sextractor` uses a 6-pixel circular aperture  centered around the calculated centroid (the `x` and `y` values in our `sources` table) while our custom stamps will use an aperture that is sliced according to our rule of having a fixed pixel pattern. Here we use a 6-pixel aperture on our stamps for direct comparison with `sextractor` but the size can be vary."
   ]
  },
  {
   "cell_type": "code",
   "execution_count": 58,
   "metadata": {},
   "outputs": [
    {
     "name": "stdout",
     "output_type": "stream",
     "text": [
      "time: 2.75 ms\n"
     ]
    }
   ],
   "source": [
    "camera_bias = 2048 * u.adu\n",
    "stamp_size = 6 * u.pixel\n",
    "num_pixels = (stamp_size**2).value\n",
    "\n",
    "readout_noise = 10.5 * u.electron / u.pixel\n",
    "gain = 1.5 * (u.electron / u.adu)\n",
    "qe = 0.43\n",
    "\n",
    "focal_length = 85 * u.mm\n",
    "fstop = 1.4\n",
    "\n",
    "aperture_area = focal_length / fstop\n",
    "aperture_area = (np.pi * (aperture_area / 2)**2).to(u.m * u.m)"
   ]
  },
  {
   "cell_type": "code",
   "execution_count": 59,
   "metadata": {},
   "outputs": [
    {
     "name": "stdout",
     "output_type": "stream",
     "text": [
      "time: 746 µs\n"
     ]
    }
   ],
   "source": [
    "num_sources = len(sources.index.levels[1])"
   ]
  },
  {
   "cell_type": "code",
   "execution_count": 61,
   "metadata": {},
   "outputs": [
    {
     "data": {
      "text/plain": [
       "{'R': 7.1, 'V': 7.67, 'B': 8.607}"
      ]
     },
     "execution_count": 61,
     "metadata": {},
     "output_type": "execute_result"
    },
    {
     "name": "stdout",
     "output_type": "stream",
     "text": [
      "time: 4.24 ms\n"
     ]
    }
   ],
   "source": [
    "est_style = dict(ls='-.')\n",
    "\n",
    "# http://classic.sdss.org/dr5/algorithms/sdssUBVRITransform.html\n",
    "\n",
    "filter_colors = {\n",
    "    'B': 'b',\n",
    "    'V': 'g',\n",
    "    'R': 'r'\n",
    "}\n",
    "\n",
    "mags = {\n",
    "    'R': 7.1, #star_info.gaiamag, # star_info.vmag - 0.46*(star_info.bmag - star_info.vmag) + 0.11,    \n",
    "    'V': star_info.vmag,    \n",
    "    'B': star_info.bmag,\n",
    "}\n",
    "mags"
   ]
  },
  {
   "cell_type": "code",
   "execution_count": 62,
   "metadata": {},
   "outputs": [
    {
     "data": {
      "application/vnd.jupyter.widget-view+json": {
       "model_id": "ba4a9a25aabc4a8795ebaafe84438fd2",
       "version_major": 2,
       "version_minor": 0
      },
      "text/plain": [
       "HBox(children=(IntProgress(value=0, max=847), HTML(value='')))"
      ]
     },
     "metadata": {},
     "output_type": "display_data"
    },
    {
     "name": "stdout",
     "output_type": "stream",
     "text": [
      "\n",
      "time: 3min 59s\n"
     ]
    }
   ],
   "source": [
    "est_counts = list()\n",
    "\n",
    "for pid, target_table in tqdm(sources.groupby('picid'), total=num_sources):\n",
    "    for idx, row in target_table.iterrows():\n",
    "        date_obs= idx[0]\n",
    "\n",
    "        airmass = row.airmass\n",
    "        exptime = row.exp_time\n",
    "\n",
    "        scint_index = helpers.scintillation_index(exptime, airmass, 100, correction_coeff=1.5)                    \n",
    "        \n",
    "        for filter_name, mag in mags.items():\n",
    "            photons = noise.estimated_photon_count(\n",
    "                magnitude=mags[filter_name], \n",
    "                aperture_area=aperture_area, \n",
    "                filter_name=filter_name,\n",
    "                airmass=airmass,\n",
    "            ) * exptime\n",
    "\n",
    "            # Apply RGGB pattern\n",
    "            if filter_name == 'V':\n",
    "                mult = 0.5\n",
    "            else:\n",
    "                mult = 0.25\n",
    "\n",
    "            # Scale flux by number of pixels\n",
    "            photons *= mult \n",
    "\n",
    "            # Get number of pixels for the filter\n",
    "            n_pixels = int(num_pixels * mult)\n",
    "\n",
    "            fill_factor = 0.5\n",
    "            photons *= fill_factor\n",
    "\n",
    "            transmission = 0.5\n",
    "            photons *= transmission\n",
    "            \n",
    "            photons *= qe\n",
    "\n",
    "            est_counts.append({\n",
    "                'date_obs': date_obs,\n",
    "                'picid': pid,\n",
    "                'color': filter_colors[filter_name],\n",
    "                'counts': int(photons / gain.value),\n",
    "                'photon': int(photons),\n",
    "                'photon_noise': 1/np.sqrt(photons),\n",
    "                'readout_noise': (readout_noise * n_pixels).value / photons,\n",
    "                'scint_noise': np.sqrt(scint_index)\n",
    "            })"
   ]
  },
  {
   "cell_type": "code",
   "execution_count": 63,
   "metadata": {},
   "outputs": [
    {
     "name": "stdout",
     "output_type": "stream",
     "text": [
      "time: 4.42 s\n"
     ]
    }
   ],
   "source": [
    "est_counts = pd.DataFrame(est_counts).set_index(['date_obs'])\n",
    "est_counts.to_csv(os.path.join(base_dir, f'estimated-noises.csv'))"
   ]
  },
  {
   "cell_type": "code",
   "execution_count": 64,
   "metadata": {},
   "outputs": [
    {
     "data": {
      "text/html": [
       "<div>\n",
       "<style scoped>\n",
       "    .dataframe tbody tr th:only-of-type {\n",
       "        vertical-align: middle;\n",
       "    }\n",
       "\n",
       "    .dataframe tbody tr th {\n",
       "        vertical-align: top;\n",
       "    }\n",
       "\n",
       "    .dataframe thead th {\n",
       "        text-align: right;\n",
       "    }\n",
       "</style>\n",
       "<table border=\"1\" class=\"dataframe\">\n",
       "  <thead>\n",
       "    <tr style=\"text-align: right;\">\n",
       "      <th></th>\n",
       "      <th>color</th>\n",
       "      <th>counts</th>\n",
       "      <th>photon</th>\n",
       "      <th>photon_noise</th>\n",
       "      <th>picid</th>\n",
       "      <th>readout_noise</th>\n",
       "      <th>scint_noise</th>\n",
       "    </tr>\n",
       "    <tr>\n",
       "      <th>date_obs</th>\n",
       "      <th></th>\n",
       "      <th></th>\n",
       "      <th></th>\n",
       "      <th></th>\n",
       "      <th></th>\n",
       "      <th></th>\n",
       "      <th></th>\n",
       "    </tr>\n",
       "  </thead>\n",
       "  <tbody>\n",
       "    <tr>\n",
       "      <th>2018-08-22 04:02:02</th>\n",
       "      <td>r</td>\n",
       "      <td>25510</td>\n",
       "      <td>38266</td>\n",
       "      <td>0.005112</td>\n",
       "      <td>10777186</td>\n",
       "      <td>0.002470</td>\n",
       "      <td>0.006058</td>\n",
       "    </tr>\n",
       "    <tr>\n",
       "      <th>2018-08-22 04:02:02</th>\n",
       "      <td>g</td>\n",
       "      <td>23325</td>\n",
       "      <td>34988</td>\n",
       "      <td>0.005346</td>\n",
       "      <td>10777186</td>\n",
       "      <td>0.005402</td>\n",
       "      <td>0.006058</td>\n",
       "    </tr>\n",
       "    <tr>\n",
       "      <th>2018-08-22 04:02:02</th>\n",
       "      <td>b</td>\n",
       "      <td>7142</td>\n",
       "      <td>10713</td>\n",
       "      <td>0.009661</td>\n",
       "      <td>10777186</td>\n",
       "      <td>0.008820</td>\n",
       "      <td>0.006058</td>\n",
       "    </tr>\n",
       "    <tr>\n",
       "      <th>2018-08-22 04:07:23</th>\n",
       "      <td>r</td>\n",
       "      <td>25531</td>\n",
       "      <td>38297</td>\n",
       "      <td>0.005110</td>\n",
       "      <td>10777186</td>\n",
       "      <td>0.002468</td>\n",
       "      <td>0.005977</td>\n",
       "    </tr>\n",
       "    <tr>\n",
       "      <th>2018-08-22 04:07:23</th>\n",
       "      <td>g</td>\n",
       "      <td>23358</td>\n",
       "      <td>35037</td>\n",
       "      <td>0.005342</td>\n",
       "      <td>10777186</td>\n",
       "      <td>0.005394</td>\n",
       "      <td>0.005977</td>\n",
       "    </tr>\n",
       "  </tbody>\n",
       "</table>\n",
       "</div>"
      ],
      "text/plain": [
       "                    color  counts  photon  photon_noise     picid  \\\n",
       "date_obs                                                            \n",
       "2018-08-22 04:02:02     r   25510   38266      0.005112  10777186   \n",
       "2018-08-22 04:02:02     g   23325   34988      0.005346  10777186   \n",
       "2018-08-22 04:02:02     b    7142   10713      0.009661  10777186   \n",
       "2018-08-22 04:07:23     r   25531   38297      0.005110  10777186   \n",
       "2018-08-22 04:07:23     g   23358   35037      0.005342  10777186   \n",
       "\n",
       "                     readout_noise  scint_noise  \n",
       "date_obs                                         \n",
       "2018-08-22 04:02:02       0.002470     0.006058  \n",
       "2018-08-22 04:02:02       0.005402     0.006058  \n",
       "2018-08-22 04:02:02       0.008820     0.006058  \n",
       "2018-08-22 04:07:23       0.002468     0.005977  \n",
       "2018-08-22 04:07:23       0.005394     0.005977  "
      ]
     },
     "execution_count": 64,
     "metadata": {},
     "output_type": "execute_result"
    },
    {
     "name": "stdout",
     "output_type": "stream",
     "text": [
      "time: 15.5 ms\n"
     ]
    }
   ],
   "source": [
    "est_counts.head()"
   ]
  },
  {
   "cell_type": "code",
   "execution_count": 51,
   "metadata": {},
   "outputs": [
    {
     "name": "stdout",
     "output_type": "stream",
     "text": [
      "time: 715 ms\n"
     ]
    }
   ],
   "source": [
    "sources_noise = pd.read_csv(os.path.join(base_dir, f'point-sources-noise.csv')).set_index(['date_obs'])\n",
    "sources_noise.index = pd.to_datetime(sources_noise.index)"
   ]
  },
  {
   "cell_type": "code",
   "execution_count": 65,
   "metadata": {},
   "outputs": [
    {
     "name": "stdout",
     "output_type": "stream",
     "text": [
      "time: 157 ms\n"
     ]
    }
   ],
   "source": [
    "target_table = sources_noise.loc[sources_noise.picid == picid]"
   ]
  },
  {
   "cell_type": "code",
   "execution_count": 66,
   "metadata": {},
   "outputs": [
    {
     "name": "stdout",
     "output_type": "stream",
     "text": [
      "time: 866 µs\n"
     ]
    }
   ],
   "source": [
    "bin_minutes = 15"
   ]
  },
  {
   "cell_type": "code",
   "execution_count": 67,
   "metadata": {},
   "outputs": [
    {
     "name": "stdout",
     "output_type": "stream",
     "text": [
      "time: 239 ms\n"
     ]
    }
   ],
   "source": [
    "binned_est = est_counts.groupby('color').resample(f'{bin_minutes}T').mean()\n",
    "binned_target = target_table.resample(f'{bin_minutes}T').mean()"
   ]
  },
  {
   "cell_type": "code",
   "execution_count": 72,
   "metadata": {},
   "outputs": [
    {
     "data": {
      "text/plain": [
       "<matplotlib.legend.Legend at 0x7f0ef92910f0>"
      ]
     },
     "execution_count": 72,
     "metadata": {},
     "output_type": "execute_result"
    },
    {
     "data": {
      "image/png": "[encoded data removed]",
      "text/plain": [
       "<Figure size 864x648 with 1 Axes>"
      ]
     },
     "metadata": {
      "needs_background": "light"
     },
     "output_type": "display_data"
    },
    {
     "name": "stdout",
     "output_type": "stream",
     "text": [
      "time: 740 ms\n"
     ]
    }
   ],
   "source": [
    "plt.figure(figsize=(12, 9))\n",
    "\n",
    "for color in 'rgb':    \n",
    "    color_data = binned_est.loc[color]\n",
    "    \n",
    "    est_noise = np.sqrt(color_data.photon_noise**2 + color_data.readout_noise**2 + color_data.scint_noise**2)\n",
    "    target_noise = np.sqrt(binned_target[f'{color}_back_std']**2 + binned_target[f'{color}_readout_noise']**2 + binned_target[f'{color}_stamp_noise']**2)\n",
    "\n",
    "    color_data.counts.plot(marker='o', color=color, yerr=(color_data.counts * est_noise), label=f'Est {color}')\n",
    "    binned_target[f'{color}_stamp'].plot(yerr=target_noise, color=color, marker='o', ls='--', label=f'Actual {color}')\n",
    "        \n",
    "plt.title('Estimated vs Actual Flux Counts')\n",
    "plt.legend()"
   ]
  },
  {
   "cell_type": "code",
   "execution_count": null,
   "metadata": {},
   "outputs": [],
   "source": []
  }
 ],
 "metadata": {
  "kernelspec": {
   "display_name": "Python 3",
   "language": "python",
   "name": "python3"
  },
  "language_info": {
   "codemirror_mode": {
    "name": "ipython",
    "version": 3
   },
   "file_extension": ".py",
   "mimetype": "text/x-python",
   "name": "python",
   "nbconvert_exporter": "python",
   "pygments_lexer": "ipython3",
   "version": "3.6.6"
  }
 },
 "nbformat": 4,
 "nbformat_minor": 2
}
